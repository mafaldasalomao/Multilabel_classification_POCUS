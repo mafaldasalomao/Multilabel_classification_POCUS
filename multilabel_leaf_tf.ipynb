{
  "cells": [
    {
      "cell_type": "markdown",
      "metadata": {
        "id": "view-in-github",
        "colab_type": "text"
      },
      "source": [
        "<a href=\"https://colab.research.google.com/github/mafaldasalomao/multilabel_classification_pocus/blob/main/multilabel_leaf_tf.ipynb\" target=\"_parent\"><img src=\"https://colab.research.google.com/assets/colab-badge.svg\" alt=\"Open In Colab\"/></a>"
      ]
    },
    {
      "cell_type": "code",
      "execution_count": 1,
      "metadata": {
        "id": "36c4e51a"
      },
      "outputs": [],
      "source": [
        "#Import suppporting libraries\n",
        "import tarfile\n",
        "import urllib.request as urllib2\n",
        "import os\n",
        "import cv2\n",
        "from os import listdir\n",
        "from os.path import isfile, join\n",
        "import re\n",
        "#Import deep learning libraries\n",
        "import cv2\n",
        "import os\n",
        "import pandas as pd\n",
        "import numpy as np\n",
        "import tensorflow as tf\n",
        "import matplotlib.pyplot as plt\n",
        "import tensorflow.keras as keras\n",
        "from tensorflow.keras.models import Sequential\n",
        "from tensorflow.keras.layers import Dense, Dropout, Flatten, Conv2D, MaxPooling2D, BatchNormalization\n",
        "from tensorflow.keras.preprocessing import image\n",
        "from sklearn.model_selection import train_test_split\n",
        "from sklearn.model_selection import KFold\n",
        "import tqdm as tqdm\n",
        "import tensorflow_hub as hub\n",
        "\n",
        "#Import data analytics libraries\n",
        "import matplotlib.pyplot as plt\n",
        "import matplotlib.image as img\n",
        "import numpy as np\n",
        "import scipy.io\n",
        "import pandas as pd\n",
        "import seaborn as sns\n",
        "#Import image visualization libraries\n",
        "from PIL import *\n",
        "from PIL import ImageFile\n",
        "from PIL import Image\n",
        "#System settings\n",
        "ImageFile.LOAD_TRUNCATED_IMAGES = True\n",
        "os.environ['WANDB_CONSOLE'] = 'off'\n",
        "#Coloring for print outputs\n",
        "class color:\n",
        "   RED = '\\033[91m'\n",
        "   BOLD = '\\033[1m'\n",
        "   END = '\\033[0m'"
      ],
      "id": "36c4e51a"
    },
    {
      "cell_type": "code",
      "source": [
        "!nvidia-smi"
      ],
      "metadata": {
        "colab": {
          "base_uri": "https://localhost:8080/"
        },
        "id": "yLT4tb3jWYEO",
        "outputId": "e03ea76f-9b6d-47b7-93a6-14db55a1c5e3"
      },
      "id": "yLT4tb3jWYEO",
      "execution_count": null,
      "outputs": [
        {
          "output_type": "stream",
          "name": "stdout",
          "text": [
            "Thu Dec 22 19:40:10 2022       \n",
            "+-----------------------------------------------------------------------------+\n",
            "| NVIDIA-SMI 460.32.03    Driver Version: 460.32.03    CUDA Version: 11.2     |\n",
            "|-------------------------------+----------------------+----------------------+\n",
            "| GPU  Name        Persistence-M| Bus-Id        Disp.A | Volatile Uncorr. ECC |\n",
            "| Fan  Temp  Perf  Pwr:Usage/Cap|         Memory-Usage | GPU-Util  Compute M. |\n",
            "|                               |                      |               MIG M. |\n",
            "|===============================+======================+======================|\n",
            "|   0  Tesla T4            Off  | 00000000:00:04.0 Off |                    0 |\n",
            "| N/A   69C    P0    31W /  70W |      0MiB / 15109MiB |      0%      Default |\n",
            "|                               |                      |                  N/A |\n",
            "+-------------------------------+----------------------+----------------------+\n",
            "                                                                               \n",
            "+-----------------------------------------------------------------------------+\n",
            "| Processes:                                                                  |\n",
            "|  GPU   GI   CI        PID   Type   Process name                  GPU Memory |\n",
            "|        ID   ID                                                   Usage      |\n",
            "|=============================================================================|\n",
            "|  No running processes found                                                 |\n",
            "+-----------------------------------------------------------------------------+\n"
          ]
        }
      ]
    },
    {
      "cell_type": "code",
      "execution_count": 2,
      "metadata": {
        "colab": {
          "base_uri": "https://localhost:8080/"
        },
        "id": "RPQUiGWYUBSB",
        "outputId": "e38f3e9f-baea-472e-f927-b0673b9ef5ff"
      },
      "outputs": [
        {
          "output_type": "stream",
          "name": "stdout",
          "text": [
            "Mounted at /content/drive\n"
          ]
        }
      ],
      "source": [
        "from google.colab import drive\n",
        "drive.mount('/content/drive')"
      ],
      "id": "RPQUiGWYUBSB"
    },
    {
      "cell_type": "code",
      "execution_count": 3,
      "metadata": {
        "id": "Ly0UuR9UUegJ"
      },
      "outputs": [],
      "source": [
        "!cp -r  /content/drive/MyDrive/Pesquisas/dataset_original/ /content/"
      ],
      "id": "Ly0UuR9UUegJ"
    },
    {
      "cell_type": "code",
      "execution_count": 4,
      "metadata": {
        "id": "053f4152"
      },
      "outputs": [],
      "source": [
        "path='/content/dataset_original'\n"
      ],
      "id": "053f4152"
    },
    {
      "cell_type": "code",
      "execution_count": 5,
      "metadata": {
        "id": "48b100ac"
      },
      "outputs": [],
      "source": [
        "os.mkdir(\"/content/dataset\")"
      ],
      "id": "48b100ac"
    },
    {
      "cell_type": "code",
      "execution_count": 6,
      "metadata": {
        "id": "dmnSUSnASW6I"
      },
      "outputs": [],
      "source": [
        "IMG_SIZE = 224 # Specify height and width of image to match the input format of the model\n",
        "CHANNELS = 1"
      ],
      "id": "dmnSUSnASW6I"
    },
    {
      "cell_type": "code",
      "execution_count": null,
      "metadata": {
        "id": "KZ5AAYRSSSyF"
      },
      "outputs": [],
      "source": [
        "\n",
        "feature_extractor_url = \"https://tfhub.dev/google/imagenet/mobilenet_v2_100_224/feature_vector/4\"\n",
        "feature_extractor_layer = hub.KerasLayer(feature_extractor_url,\n",
        "                                         input_shape=(IMG_SIZE,IMG_SIZE,CHANNELS))"
      ],
      "id": "KZ5AAYRSSSyF"
    },
    {
      "cell_type": "code",
      "execution_count": null,
      "metadata": {
        "id": "aQm4KjuqSeaX"
      },
      "outputs": [],
      "source": [
        "feature_extractor_layer.trainable = True"
      ],
      "id": "aQm4KjuqSeaX"
    },
    {
      "cell_type": "code",
      "execution_count": null,
      "metadata": {
        "id": "zDCzD3UPSiXT"
      },
      "outputs": [],
      "source": [
        "def plot_curves(history, title):\n",
        "    fig_1 = plt.figure(figsize=(5, 3))\n",
        "    epochs = range(1, len(history.history['loss'])+1)\n",
        "    plt.plot(epochs, history.history['loss'], label=\"Train loss\")\n",
        "    plt.plot(epochs, history.history['val_loss'], label=\"Test Loss\")\n",
        "    plt.title(\"Training Loss Curve: \"+title)\n",
        "    plt.ylabel(\"Loss\")\n",
        "    plt.xlabel(\"Epochs\")\n",
        "    plt.legend();\n",
        "    fig_1.savefig(path_imgs_train+'/loss_'+title+'.png')\n",
        "    plt.close(fig_1)\n",
        "    \n",
        "    fig_2 = plt.figure(figsize=(5, 3))\n",
        "    epochs = range(1, len(history.history['accuracy'])+1)\n",
        "    plt.plot(epochs, history.history['accuracy'], label=\"Train Acc\")\n",
        "    plt.plot(epochs, history.history['val_accuracy'], label=\"Test Acc\")\n",
        "    plt.title(\"Training Accuracy Curve: \"+title)\n",
        "    plt.ylabel(\"Accuracy\")\n",
        "    plt.xlabel(\"Epochs\")\n",
        "    plt.legend();\n",
        "    fig_2.savefig(path_imgs_train+'/acc_'+title+'.png')\n",
        "    plt.close(fig_2)"
      ],
      "id": "zDCzD3UPSiXT"
    },
    {
      "cell_type": "markdown",
      "metadata": {
        "id": "HazpET0-FRDS"
      },
      "source": [
        "## Data Augmentation\n"
      ],
      "id": "HazpET0-FRDS"
    },
    {
      "cell_type": "code",
      "execution_count": null,
      "metadata": {
        "id": "oN9Iq9b3FS9Y"
      },
      "outputs": [],
      "source": [
        "!pip install -U git+https://github.com/albumentations-team/albumentations"
      ],
      "id": "oN9Iq9b3FS9Y"
    },
    {
      "cell_type": "code",
      "execution_count": null,
      "metadata": {
        "id": "Xr4xWZvdFTpd"
      },
      "outputs": [],
      "source": [
        "from albumentations import HorizontalFlip, VerticalFlip, ElasticTransform, GridDistortion, OpticalDistortion, CoarseDropout"
      ],
      "id": "Xr4xWZvdFTpd"
    },
    {
      "cell_type": "code",
      "execution_count": null,
      "metadata": {
        "id": "vGSHPci-FQRW"
      },
      "outputs": [],
      "source": [
        "def criar_diretorio(caminho):\n",
        "  if not os.path.exists(caminho):\n",
        "    os.makedirs(caminho)"
      ],
      "id": "vGSHPci-FQRW"
    },
    {
      "cell_type": "code",
      "execution_count": null,
      "metadata": {
        "id": "_OlTdy7jFjoI"
      },
      "outputs": [],
      "source": [
        "from scipy.stats.distributions import alpha\n",
        "def create_dataset_aug(img_altura=224, img_largura=224, augmentation=True):\n",
        "    X_train, y_train = [], []\n",
        "    for filename in videos_list:\n",
        "        count=0\n",
        "        #print(filename)\n",
        "        vid_cap = cv2.VideoCapture(path+'/'+filename)\n",
        "        total_frame_count= int(vid_cap.get(cv2.CAP_PROP_FRAME_COUNT))\n",
        "        step = total_frame_count/num_imgs_per_video\n",
        "        success, image = vid_cap.read()\n",
        "        metadata_cap = metadata.loc[metadata.Filename == filename.split('.')[0]]\n",
        "        if len(metadata_cap) >0:\n",
        "            while success:\n",
        "                #print(\"Reading new frame...\", success)\n",
        "                if ((count+1) % int(step) == 0):\n",
        "                    #print(\"Writing new frame...\")\n",
        "                    out = '/content/dataset/{}_{}.png'.format(filename.split('.')[0], count)\n",
        "                    cv2.imwrite(out, image)\n",
        "                    img = tf.keras.utils.load_img(out, target_size = (img_largura, img_altura, 3))\n",
        "                    img = tf.keras.utils.img_to_array(img)\n",
        "                    img= img/255.\n",
        "                    #img = img.transpose(2,0,1)\n",
        "                    X_train.append(img)\n",
        "                    img_labels = [metadata['A-lines'][metadata_cap.index[0]],\n",
        "                                    metadata['B-lines'][metadata_cap.index[0]],\n",
        "                                    metadata['Effusion'][metadata_cap.index[0]],\n",
        "                                    metadata['Consolidations'][metadata_cap.index[0]],\n",
        "                                    metadata['Pleural_line_irregularities'][metadata_cap.index[0]]]\n",
        "                                     #metadata['Air_bronchogram'][metadata_cap.index[0]]])\n",
        "                    y_train.append(img_labels)\n",
        "                    if augmentation:\n",
        "                      aug = HorizontalFlip(p = 1.0)\n",
        "                      augmentation = aug(image = img)\n",
        "                      x1 = augmentation['image']\n",
        "                      X_train.append(x1)\n",
        "                      y_train.append(img_labels)\n",
        "\n",
        "                      aug = OpticalDistortion(p = 1.0, distort_limit=2, shift_limit=0.5)\n",
        "                      augmentation = aug(image = img)\n",
        "                      x2 = augmentation['image']\n",
        "                      X_train.append(x2)\n",
        "                      y_train.append(img_labels)\n",
        "\n",
        "                      # aug = ElasticTransform(p = 1.0, alpha=120, sigma=120*0.05, alpha_affine=120*0.03)\n",
        "                      # augmentation = aug(image = img)\n",
        "                      # x3 = augmentation['image']\n",
        "                      # X_train.append(x3)\n",
        "                      # y_train.append(img_labels)\n",
        "\n",
        "                      # aug = GridDistortion(p = 1.0)\n",
        "                      # augmentation = aug(image = img)\n",
        "                      # x4 = augmentation['image']\n",
        "                      # X_train.append(x4)\n",
        "                      # y_train.append(img_labels)\n",
        "\n",
        "                success, image = vid_cap.read()\n",
        "                count += 1\n",
        "    X = np.array(X_train)\n",
        "    y = np.array(y_train)\n",
        "    return X, y"
      ],
      "id": "_OlTdy7jFjoI"
    },
    {
      "cell_type": "code",
      "execution_count": null,
      "metadata": {
        "id": "U_Ol__-ESoSs"
      },
      "outputs": [],
      "source": [
        "def create_mydataset():\n",
        "    X_train, y_train = [], []\n",
        "    for filename in videos_list:\n",
        "        count=0\n",
        "        #print(filename)\n",
        "        vid_cap = cv2.VideoCapture(path+'/'+filename)\n",
        "        total_frame_count= int(vid_cap.get(cv2.CAP_PROP_FRAME_COUNT))\n",
        "        step = total_frame_count/num_imgs_per_video\n",
        "        success, image = vid_cap.read()\n",
        "        metadata_cap = metadata.loc[metadata.Filename == filename.split('.')[0]]\n",
        "        if len(metadata_cap) >0:\n",
        "            while success:\n",
        "                #print(\"Reading new frame...\", success)\n",
        "                if ((count+1) % int(step) == 0):\n",
        "                    #print(\"Writing new frame...\")\n",
        "                    out = '/content/dataset/{}_{}.png'.format(filename.split('.')[0], count)\n",
        "                    cv2.imwrite(out, image)\n",
        "                    img = tf.keras.utils.load_img(out, target_size = (224, 224, 3))\n",
        "                    img = tf.keras.utils.img_to_array(img)\n",
        "                    img= img/255.\n",
        "                    #img = img.transpose(2,0,1)\n",
        "                    X_train.append(img)\n",
        "                    y_train.append([metadata['A-lines'][metadata_cap.index[0]],\n",
        "                                    metadata['B-lines'][metadata_cap.index[0]],\n",
        "                                    metadata['Effusion'][metadata_cap.index[0]],\n",
        "                                    metadata['Consolidations'][metadata_cap.index[0]],\n",
        "                                    metadata['Pleural_line_irregularities'][metadata_cap.index[0]]])\n",
        "                                     #metadata['Air_bronchogram'][metadata_cap.index[0]]])\n",
        "                success, image = vid_cap.read()\n",
        "                count += 1\n",
        "    X = np.array(X_train)\n",
        "    y = np.array(y_train)\n",
        "    return X, y"
      ],
      "id": "U_Ol__-ESoSs"
    },
    {
      "cell_type": "code",
      "source": [
        "def create_mydataset():\n",
        "    X_train, y_train = [], []\n",
        "    cerscospora = '/content/dataset_original/Cerscospora'\n",
        "    healthy = '/content/dataset_original/Healthy'\n",
        "    leaf_rust = '/content/dataset_original/Leaf_rust'\n",
        "    miner = '/content/dataset_original/Miner'\n",
        "    phoma = '/content/dataset_original/Phoma'\n",
        "    for filename in os.listdir(cerscospora):\n",
        "      out = '/content/dataset/{}.png'.format(filename.split('.')[0])\n",
        "      print(filename)\n",
        "      image = cv2.imread(cerscospora+'/'+filename)\n",
        "      cv2.imwrite(out,cv2.cvtColor(image, cv2.COLOR_BGR2GRAY))\n",
        "      img = tf.keras.utils.load_img(out, target_size = (224, 224, 1),color_mode=\"grayscale\")\n",
        "      img = tf.keras.utils.img_to_array(img)\n",
        "      img= img/255.\n",
        "      X_train.append(img)\n",
        "      y_train.append([0, 0, 0, 1])\n",
        "    for filename in os.listdir(healthy):\n",
        "      out = '/content/dataset/{}.png'.format(filename.split('.')[0])\n",
        "      print(filename)\n",
        "      image = cv2.imread(healthy+'/'+filename)\n",
        "      cv2.imwrite(out,cv2.cvtColor(image, cv2.COLOR_BGR2GRAY))\n",
        "      img = tf.keras.utils.load_img(out, target_size = (224, 224, 1),color_mode=\"grayscale\")\n",
        "      img = tf.keras.utils.img_to_array(img)\n",
        "      img= img/255.\n",
        "      X_train.append(img)\n",
        "      y_train.append([1, 0, 0, 0])\n",
        "    for filename in os.listdir(leaf_rust):\n",
        "      out = '/content/dataset/{}.png'.format(filename.split('.')[0])\n",
        "      print(filename)\n",
        "      image = cv2.imread(leaf_rust+'/'+filename)\n",
        "      cv2.imwrite(out,cv2.cvtColor(image, cv2.COLOR_BGR2GRAY))\n",
        "      img = tf.keras.utils.load_img(out, target_size = (224, 224, 1),color_mode=\"grayscale\")\n",
        "      img = tf.keras.utils.img_to_array(img)\n",
        "      img= img/255.\n",
        "      X_train.append(img)\n",
        "      y_train.append([0, 1, 0, 0])\n",
        "    for filename in os.listdir(miner):\n",
        "      out = '/content/dataset/{}.png'.format(filename.split('.')[0])\n",
        "      print(filename)\n",
        "      image = cv2.imread(miner+'/'+filename)\n",
        "      cv2.imwrite(out,cv2.cvtColor(image, cv2.COLOR_BGR2GRAY))\n",
        "      img = tf.keras.utils.load_img(out, target_size = (224, 224, 1),color_mode=\"grayscale\")\n",
        "      img = tf.keras.utils.img_to_array(img)\n",
        "      img= img/255.\n",
        "      X_train.append(img)\n",
        "      y_train.append([0, 0, 1, 0])\n",
        "    X = np.array(X_train)\n",
        "    y = np.array(y_train)\n",
        "    return X, y"
      ],
      "metadata": {
        "id": "OiqluKGIP4j7"
      },
      "id": "OiqluKGIP4j7",
      "execution_count": 31,
      "outputs": []
    },
    {
      "cell_type": "code",
      "execution_count": 32,
      "metadata": {
        "id": "P2wfiDK9Sobs",
        "colab": {
          "base_uri": "https://localhost:8080/"
        },
        "outputId": "fe012199-5a57-48b0-d940-af303e7ecbad"
      },
      "outputs": [
        {
          "output_type": "stream",
          "name": "stdout",
          "text": [
            "4 (5).jpg\n",
            "4 (17).jpg\n",
            "4 (4).jpg\n",
            "4 (11).jpg\n",
            "1 (3).jpg\n",
            "1 (16).jpg\n",
            "1 (1).jpg\n",
            "1 (15).jpg\n",
            "1 (9).jpeg\n",
            "1 (10).jpg\n",
            "1 (4).jpeg\n",
            "1 (5).jpeg\n",
            "1 (1067).jpg\n",
            "1 (1065).jpg\n",
            "1 (1066).jpg\n",
            "1 (1064).jpg\n"
          ]
        }
      ],
      "source": [
        "#X, y = create_dataset_aug()\n",
        "X, y = create_mydataset()\n",
        "#((1225, 224, 224, 3), (1225, 5))\n",
        "num_folds=5\n",
        "# Define the K-fold Cross Validator\n",
        "#kfold = KFold(n_splits=num_folds, shuffle=True)\n",
        "#X_train, X_test, y_train, y_test = train_test_split(X, y, random_state=20, test_size=0.2, shuffle=True)\n",
        "#del X\n",
        "#del y\n"
      ],
      "id": "P2wfiDK9Sobs"
    },
    {
      "cell_type": "code",
      "source": [
        "X.shape, y.shape"
      ],
      "metadata": {
        "colab": {
          "base_uri": "https://localhost:8080/"
        },
        "id": "G0yzrfxTUYME",
        "outputId": "4ea5148c-ff6b-4033-9bc7-bcb875b49d9a"
      },
      "id": "G0yzrfxTUYME",
      "execution_count": 33,
      "outputs": [
        {
          "output_type": "execute_result",
          "data": {
            "text/plain": [
              "((16, 224, 224, 1), (16, 4))"
            ]
          },
          "metadata": {},
          "execution_count": 33
        }
      ]
    },
    {
      "cell_type": "code",
      "execution_count": null,
      "metadata": {
        "id": "s72CtPdf72mB"
      },
      "outputs": [],
      "source": [
        "from keras import initializers\n",
        "#tf.random.set_seed(42)\n",
        "N_LABELS = 5\n",
        "EPOCHS = 20\n",
        "batch_size = 32\n",
        "LR = 0.0001\n",
        "acc_per_fold = []\n",
        "loss_per_fold = []"
      ],
      "id": "s72CtPdf72mB"
    },
    {
      "cell_type": "code",
      "execution_count": null,
      "metadata": {
        "id": "J6_HsSZON-hM"
      },
      "outputs": [],
      "source": [
        "reconstructed_model = keras.models.load_model(\"my_h5_model.h5\")"
      ],
      "id": "J6_HsSZON-hM"
    },
    {
      "cell_type": "markdown",
      "metadata": {
        "id": "z6pcQwvLTC5C"
      },
      "source": [
        "## K-fold train"
      ],
      "id": "z6pcQwvLTC5C"
    },
    {
      "cell_type": "code",
      "execution_count": null,
      "metadata": {
        "colab": {
          "background_save": true
        },
        "id": "yXDrQVCP7ruG"
      },
      "outputs": [],
      "source": [
        "# K-fold Cross Validation model evaluation\n",
        "fold_no = 1\n",
        "for train, test in kfold.split(X, y):\n",
        "  N_LABELS = 5\n",
        "  EPOCHS = 30\n",
        "  LR = 1e-4\n",
        "  batch_size = 32\n",
        "  ##################\n",
        "  #2048-5 = \n",
        "  initializer = tf.keras.initializers.Identity()\n",
        "  model_all_0 = tf.keras.Sequential([\n",
        "      feature_extractor_layer_resnet,\n",
        "      Dense(512, activation='relu', name='hidden_layer_1'),\n",
        "      Dense(512, activation='relu', name='hidden_layer_2'),\n",
        "      Dense(128, activation='relu', name='hidden_layer_3'),\n",
        "      Dense(N_LABELS, activation='sigmoid', name='output')\n",
        "  ])\n",
        "  # Compile the model\n",
        "  model_all_0.compile(\n",
        "    optimizer=tf.keras.optimizers.Adam(learning_rate=LR),\n",
        "    loss='binary_crossentropy',\n",
        "    metrics=['accuracy'])\n",
        "\n",
        "  history = model_all_0.fit(X[train], y[train],\n",
        "              batch_size=batch_size,\n",
        "              epochs=EPOCHS,\n",
        "              validation_data=(X[test], y[test]))\n",
        "\n",
        "  # Generate generalization metrics\n",
        "  scores = model_all_0.evaluate(X[test], y[test], verbose=1)\n",
        "  print(f'Score for fold {fold_no}: {model_all_0.metrics_names[0]} of {scores[0]}; {model_all_0.metrics_names[1]} of {scores[1]*100}%')\n",
        "  acc_per_fold.append(scores[1] * 100)\n",
        "  loss_per_fold.append(scores[0])\n",
        "\n",
        "  # Increase fold number\n",
        "  fold_no = fold_no + 1"
      ],
      "id": "yXDrQVCP7ruG"
    },
    {
      "cell_type": "code",
      "execution_count": null,
      "metadata": {
        "id": "sFhCQQiQTDmB"
      },
      "outputs": [],
      "source": [
        "# == Provide average scores ==\n",
        "print('------------------------------------------------------------------------')\n",
        "print('Score per fold')\n",
        "for i in range(0, len(acc_per_fold)):\n",
        "  print('------------------------------------------------------------------------')\n",
        "  print(f'> Fold {i+1} - Loss: {loss_per_fold[i]} - Accuracy: {acc_per_fold[i]}%')\n",
        "print('------------------------------------------------------------------------')\n",
        "print('Average scores for all folds:')\n",
        "print(f'> Accuracy: {np.mean(acc_per_fold)} (+- {np.std(acc_per_fold)})')\n",
        "print(f'> Loss: {np.mean(loss_per_fold)}')\n",
        "print('------------------------------------------------------------------------')\n"
      ],
      "id": "sFhCQQiQTDmB"
    },
    {
      "cell_type": "markdown",
      "metadata": {
        "id": "xq4biatLTZSp"
      },
      "source": [
        "## Backbone resnet101"
      ],
      "id": "xq4biatLTZSp"
    },
    {
      "cell_type": "code",
      "execution_count": null,
      "metadata": {
        "id": "03azdjz4Xoe9"
      },
      "outputs": [],
      "source": [
        "feature_extractor_url_resnet = \"https://tfhub.dev/google/imagenet/resnet_v2_101/feature_vector/5\"\n",
        "feature_extractor_layer_resnet = hub.KerasLayer(feature_extractor_url_resnet,\n",
        "                                         input_shape=(IMG_SIZE,IMG_SIZE,CHANNELS))"
      ],
      "id": "03azdjz4Xoe9"
    },
    {
      "cell_type": "code",
      "execution_count": null,
      "metadata": {
        "id": "xqv_eH2BQ_Ji"
      },
      "outputs": [],
      "source": [
        "feature_extractor_url_eff = \"https://tfhub.dev/google/imagenet/efficientnet_v2_imagenet1k_b0/feature_vector/2\"\n",
        "feature_extractor_layer_eff = hub.KerasLayer(feature_extractor_url_resnet,\n",
        "                                         input_shape=(IMG_SIZE,IMG_SIZE,CHANNELS))"
      ],
      "id": "xqv_eH2BQ_Ji"
    },
    {
      "cell_type": "code",
      "execution_count": null,
      "metadata": {
        "id": "1ublyrIrVGuy"
      },
      "outputs": [],
      "source": [
        "print(\"Thickness of the model:\", len(feature_extractor_layer_resnet.weights))\n",
        "#list(feature_extractor_layer_resnet.layers)"
      ],
      "id": "1ublyrIrVGuy"
    },
    {
      "cell_type": "code",
      "execution_count": null,
      "metadata": {
        "id": "Fp_2olObVxwr"
      },
      "outputs": [],
      "source": [
        "feature_extractor_layer_resnet.trainable = False"
      ],
      "id": "Fp_2olObVxwr"
    },
    {
      "cell_type": "code",
      "execution_count": null,
      "metadata": {
        "id": "verllFrzHVAq"
      },
      "outputs": [],
      "source": [
        "#X, y = create_dataset_aug()\n",
        "X, y = create_mydataset_all()\n",
        "X_train, X_test, y_train, y_test = train_test_split(X, y, random_state=20, test_size=0.2, shuffle=True)\n",
        "X_train.shape, y_train.shape\n",
        "del X\n",
        "del y"
      ],
      "id": "verllFrzHVAq"
    },
    {
      "cell_type": "code",
      "execution_count": null,
      "metadata": {
        "id": "4eFUpI3IKODa"
      },
      "outputs": [],
      "source": [
        "#tf.random.set_seed(42)"
      ],
      "id": "4eFUpI3IKODa"
    },
    {
      "cell_type": "markdown",
      "metadata": {
        "id": "6bSiHSMxTdpn"
      },
      "source": [
        "## Unit Test"
      ],
      "id": "6bSiHSMxTdpn"
    },
    {
      "cell_type": "code",
      "source": [
        "dense = [2048, 1024, 512, 256, 128, 64, 32, 16, 10, 5]"
      ],
      "metadata": {
        "id": "MGdMpvjwmIFQ"
      },
      "id": "MGdMpvjwmIFQ",
      "execution_count": null,
      "outputs": []
    },
    {
      "cell_type": "code",
      "source": [
        "tested = 659\n",
        "for i in range(len(dense)):\n",
        "  for j in range(len(dense)-i):\n",
        "    for k in range(len(dense)-j-i):\n",
        "      for l in range(len(dense)-j-i-k):\n",
        "        if tested >-1:\n",
        "          a=1\n",
        "        else:\n",
        "          title = '2048_'+str(dense[i])+'_'+str(dense[j+i])+'_'+str(dense[k+j+i])+'_'+str(dense[k+j+i+l])\n",
        "          print(title)\n",
        "        tested = tested-1\n",
        "tested"
      ],
      "metadata": {
        "id": "UFEAGvrBpli9"
      },
      "id": "UFEAGvrBpli9",
      "execution_count": null,
      "outputs": []
    },
    {
      "cell_type": "code",
      "execution_count": null,
      "metadata": {
        "id": "Wq0j72qtR6pZ"
      },
      "outputs": [],
      "source": [
        "tested = 659\n",
        "for i in range(len(dense)):\n",
        "  for j in range(len(dense)-i):\n",
        "    for k in range(len(dense)-j-i):\n",
        "      for l in range(len(dense)-j-i-k):\n",
        "        if tested >-1:\n",
        "          a=1\n",
        "        else:\n",
        "          N_LABELS = 5\n",
        "          EPOCHS = 30\n",
        "          LR = 1e-4\n",
        "          batch_size = 32\n",
        "          ##################\n",
        "          #2048-5 = \n",
        "          initializer = tf.keras.initializers.Identity()\n",
        "          model_all_0 = tf.keras.Sequential([\n",
        "              feature_extractor_layer_resnet,\n",
        "              Dense(2048, activation='relu', name='hidden_layer_1'),\n",
        "              Dense(dense[i], activation='relu', name='hidden_layer_2'),\n",
        "              Dense(dense[j+i], activation='relu', name='hidden_layer_3'),\n",
        "              Dense(dense[k+j+i], activation='relu', name='hidden_layer_4'),\n",
        "              Dense(dense[k+j+i+l], activation='relu', name='hidden_layer_5'),\n",
        "              Dense(N_LABELS, activation='sigmoid', name='output')\n",
        "          ])\n",
        "          # Compile the model\n",
        "\n",
        "          model_all_0.compile(\n",
        "            optimizer=tf.keras.optimizers.Adam(learning_rate=LR),\n",
        "            loss='binary_crossentropy',\n",
        "            metrics=['accuracy'])\n",
        "\n",
        "          history = model_all_0.fit(X_train, y_train,\n",
        "                      batch_size=batch_size,\n",
        "                      epochs=EPOCHS,\n",
        "                      validation_data=(X_test, y_test))\n",
        "          title = title = '2048_'+str(dense[i])+'_'+str(dense[j+i])+'_'+str(dense[k+j+i])+'_'+str(dense[k+j+i+l])+'_5'\n",
        "          print(\"Model: \"+title)\n",
        "          print(\"=================================================================================\")\n",
        "          plot_curves(history, title)\n",
        "        tested = tested -1"
      ],
      "id": "Wq0j72qtR6pZ"
    },
    {
      "cell_type": "code",
      "source": [
        "N_LABELS = 5\n",
        "EPOCHS = 30\n",
        "LR = 1e-4\n",
        "batch_size = 32\n",
        "##################\n",
        "#2048-5 = \n",
        "initializer = tf.keras.initializers.Identity()\n",
        "model_all_0 = tf.keras.Sequential([\n",
        "    feature_extractor_layer_resnet,\n",
        "    Dense(2048, activation='relu', name='hidden_layer_1'),\n",
        "    Dense(256, activation='relu', name='hidden_layer_2'),\n",
        "    Dense(32, activation='relu', name='hidden_layer_3'),\n",
        "    Dense(16, activation='relu', name='hidden_layer_4'),\n",
        "    Dense(5, activation='relu', name='hidden_layer_5'),\n",
        "    Dense(N_LABELS, activation='sigmoid', name='output')\n",
        "])\n",
        "# Compile the model\n",
        "\n",
        "model_all_0.compile(\n",
        "  optimizer=tf.keras.optimizers.Adam(learning_rate=LR),\n",
        "  loss='binary_crossentropy',\n",
        "  metrics=['accuracy'])\n",
        "\n",
        "history = model_all_0.fit(X_train, y_train,\n",
        "            batch_size=batch_size,\n",
        "            epochs=EPOCHS,\n",
        "            validation_data=(X_test, y_test))"
      ],
      "metadata": {
        "id": "MT4REgT-LrPM"
      },
      "id": "MT4REgT-LrPM",
      "execution_count": null,
      "outputs": []
    },
    {
      "cell_type": "code",
      "source": [
        "!zip -r data.zip imgs/"
      ],
      "metadata": {
        "id": "pkMunXT4nIPl"
      },
      "id": "pkMunXT4nIPl",
      "execution_count": null,
      "outputs": []
    },
    {
      "cell_type": "code",
      "execution_count": null,
      "metadata": {
        "id": "x9EOUrQmS8zF"
      },
      "outputs": [],
      "source": [
        "\n",
        "base_model.trainable = True\n",
        "# Freeze all layers except for the\n",
        "for layer in base_model.layers[:-10]:\n",
        "  layer.trainable = False"
      ],
      "id": "x9EOUrQmS8zF"
    },
    {
      "cell_type": "markdown",
      "metadata": {
        "id": "k4LvhZIwThWc"
      },
      "source": [
        "## Experiments\n"
      ],
      "id": "k4LvhZIwThWc"
    },
    {
      "cell_type": "markdown",
      "metadata": {
        "id": "wLotyvR-TpaT"
      },
      "source": [
        "\n",
        "\n",
        "### Approved model\n"
      ],
      "id": "wLotyvR-TpaT"
    },
    {
      "cell_type": "code",
      "execution_count": null,
      "metadata": {
        "id": "f6SoWUvngTUr"
      },
      "outputs": [],
      "source": [
        "# == Provide average scores ==\n",
        "print('------------------------------------------------------------------------')\n",
        "print('Score per fold')\n",
        "for i in range(0, len(acc_per_fold)):\n",
        "  print('------------------------------------------------------------------------')\n",
        "  print(f'> Fold {i+1} - Loss: {loss_per_fold[i]} - Accuracy: {acc_per_fold[i]}%')\n",
        "print('------------------------------------------------------------------------')\n",
        "print('Average scores for all folds:')\n",
        "print(f'> Accuracy: {np.mean(acc_per_fold)} (+- {np.std(acc_per_fold)})')\n",
        "print(f'> Loss: {np.mean(loss_per_fold)}')\n",
        "print('------------------------------------------------------------------------')\n"
      ],
      "id": "f6SoWUvngTUr"
    },
    {
      "cell_type": "code",
      "source": [
        "IMG_SIZE = 224 # Specify height and width of image to match the input format of the model\n",
        "CHANNELS = 1 # Keep RGB color channels to match the input format of the model\n",
        "num_imgs_per_video=10"
      ],
      "metadata": {
        "id": "gShAciAkJ_tP"
      },
      "id": "gShAciAkJ_tP",
      "execution_count": null,
      "outputs": []
    },
    {
      "cell_type": "code",
      "source": [
        "def create_mydataset_all_gray():\n",
        "    X_train, y_train = [], []\n",
        "    for filename in videos_list:\n",
        "        count=0\n",
        "        #print(filename)\n",
        "        vid_cap = cv2.VideoCapture(path+'/'+filename)\n",
        "        total_frame_count= int(vid_cap.get(cv2.CAP_PROP_FRAME_COUNT))\n",
        "        step = total_frame_count/num_imgs_per_video\n",
        "        success, image = vid_cap.read()\n",
        "        metadata_cap = metadata.loc[metadata.Filename == filename.split('.')[0]]\n",
        "        if len(metadata_cap) >0:\n",
        "            while success:\n",
        "                #print(\"Reading new frame...\", success)\n",
        "                if ((count+1) % int(step) == 0):\n",
        "                    #print(\"Writing new frame...\")\n",
        "                    out = '/content/dataset/{}_{}.png'.format(filename.split('.')[0], count)\n",
        "                    cv2.imwrite(out,cv2.cvtColor(image, cv2.COLOR_BGR2GRAY))\n",
        "                    img = tf.keras.utils.load_img(out, target_size = (224, 224, 1),color_mode=\"grayscale\")\n",
        "                    img = tf.keras.utils.img_to_array(img)\n",
        "                    img= img/255.\n",
        "                    #img = img.transpose(2,0,1)\n",
        "                    X_train.append(img)\n",
        "                    y_train.append([metadata['A-lines'][metadata_cap.index[0]],\n",
        "                                    metadata['B-lines'][metadata_cap.index[0]],\n",
        "                                    metadata['Effusion'][metadata_cap.index[0]],\n",
        "                                    metadata['Consolidations'][metadata_cap.index[0]],\n",
        "                                    metadata['Pleural_line_irregularities'][metadata_cap.index[0]]])\n",
        "                                     #metadata['Air_bronchogram'][metadata_cap.index[0]]])\n",
        "                success, image = vid_cap.read()\n",
        "                count += 1\n",
        "    X = np.array(X_train)\n",
        "    y = np.array(y_train)\n",
        "    return X, y"
      ],
      "metadata": {
        "id": "euAsXM5KKFnE"
      },
      "id": "euAsXM5KKFnE",
      "execution_count": null,
      "outputs": []
    },
    {
      "cell_type": "code",
      "source": [
        "#X, y = create_dataset_aug()\n",
        "X, y = create_mydataset_all_gray()\n",
        "X_train, X_test, y_train, y_test = train_test_split(X, y, random_state=20, test_size=0.2, shuffle=True)\n",
        "X_train.shape, y_train.shape\n",
        "del X\n",
        "del y"
      ],
      "metadata": {
        "id": "K7iCvsnMKhCf"
      },
      "id": "K7iCvsnMKhCf",
      "execution_count": null,
      "outputs": []
    },
    {
      "cell_type": "code",
      "source": [
        "\n",
        "#BUild a CNN model ( some as Tiny VGG on the CNN exlpainer website)\n",
        "model_1 = tf.keras.Sequential([\n",
        "    tf.keras.layers.Conv2D(filters=10,\n",
        "                           kernel_size=3,\n",
        "                           activation=\"relu\",\n",
        "                           input_shape=(224,224,1)),\n",
        "    tf.keras.layers.Conv2D(10, 3, activation=\"relu\"),\n",
        "    tf.keras.layers.MaxPool2D(pool_size=2,\n",
        "                              padding=\"valid\"),\n",
        "    tf.keras.layers.Conv2D(8, 3, activation=\"relu\"),\n",
        "    tf.keras.layers.Conv2D(8, 3, activation=\"relu\"),\n",
        "    #tf.keras.layers.Activations(tf.nn.relu),\n",
        "    tf.keras.layers.MaxPool2D(4),\n",
        "    tf.keras.layers.Flatten(),\n",
        "    tf.keras.layers.Dense(5408, activation='relu'),\n",
        "    tf.keras.layers.Dense(4, activation=\"sigmoid\")\n",
        "])\n"
      ],
      "metadata": {
        "id": "zq1WhaqfJXmY"
      },
      "id": "zq1WhaqfJXmY",
      "execution_count": 42,
      "outputs": []
    },
    {
      "cell_type": "code",
      "source": [
        "X_train.shape"
      ],
      "metadata": {
        "colab": {
          "base_uri": "https://localhost:8080/"
        },
        "id": "vDqn0yZpLXI6",
        "outputId": "489d6ce1-540b-4a1e-b737-3f7390e8a320"
      },
      "id": "vDqn0yZpLXI6",
      "execution_count": null,
      "outputs": [
        {
          "output_type": "execute_result",
          "data": {
            "text/plain": [
              "(1225, 224, 224, 3)"
            ]
          },
          "metadata": {},
          "execution_count": 23
        }
      ]
    },
    {
      "cell_type": "code",
      "source": [
        "#compile our model\n",
        "model_1.compile(loss=\"binary_crossentropy\",\n",
        "                optimizer=tf.keras.optimizers.Adam(learning_rate=0.0001),\n",
        "                metrics=[\"accuracy\"])\n",
        "1500/32\n",
        "#fit the model\n",
        "history_1 = model_1.fit(X, y,\n",
        "                        epochs=100,\n",
        "                        validation_data=(X, y))"
      ],
      "metadata": {
        "colab": {
          "base_uri": "https://localhost:8080/"
        },
        "id": "VZayxd5eJbT9",
        "outputId": "b0637098-68aa-457d-d4a0-90cdcf1aaa0c"
      },
      "id": "VZayxd5eJbT9",
      "execution_count": 48,
      "outputs": [
        {
          "output_type": "stream",
          "name": "stdout",
          "text": [
            "Epoch 1/100\n",
            "1/1 [==============================] - 1s 748ms/step - loss: 0.6799 - accuracy: 0.7500 - val_loss: 0.6749 - val_accuracy: 0.7500\n",
            "Epoch 2/100\n",
            "1/1 [==============================] - 0s 65ms/step - loss: 0.6749 - accuracy: 0.7500 - val_loss: 0.6688 - val_accuracy: 0.7500\n",
            "Epoch 3/100\n",
            "1/1 [==============================] - 0s 63ms/step - loss: 0.6688 - accuracy: 0.7500 - val_loss: 0.6615 - val_accuracy: 0.7500\n",
            "Epoch 4/100\n",
            "1/1 [==============================] - 0s 64ms/step - loss: 0.6615 - accuracy: 0.7500 - val_loss: 0.6532 - val_accuracy: 0.7500\n",
            "Epoch 5/100\n",
            "1/1 [==============================] - 0s 60ms/step - loss: 0.6532 - accuracy: 0.7500 - val_loss: 0.6437 - val_accuracy: 0.7500\n",
            "Epoch 6/100\n",
            "1/1 [==============================] - 0s 58ms/step - loss: 0.6437 - accuracy: 0.7500 - val_loss: 0.6332 - val_accuracy: 0.7500\n",
            "Epoch 7/100\n",
            "1/1 [==============================] - 0s 58ms/step - loss: 0.6332 - accuracy: 0.7500 - val_loss: 0.6218 - val_accuracy: 0.7500\n",
            "Epoch 8/100\n",
            "1/1 [==============================] - 0s 62ms/step - loss: 0.6218 - accuracy: 0.7500 - val_loss: 0.6097 - val_accuracy: 0.7500\n",
            "Epoch 9/100\n",
            "1/1 [==============================] - 0s 56ms/step - loss: 0.6097 - accuracy: 0.7500 - val_loss: 0.5972 - val_accuracy: 0.7500\n",
            "Epoch 10/100\n",
            "1/1 [==============================] - 0s 56ms/step - loss: 0.5972 - accuracy: 0.7500 - val_loss: 0.5845 - val_accuracy: 0.7500\n",
            "Epoch 11/100\n",
            "1/1 [==============================] - 0s 56ms/step - loss: 0.5845 - accuracy: 0.7500 - val_loss: 0.5722 - val_accuracy: 0.7500\n",
            "Epoch 12/100\n",
            "1/1 [==============================] - 0s 55ms/step - loss: 0.5722 - accuracy: 0.7500 - val_loss: 0.5610 - val_accuracy: 0.7500\n",
            "Epoch 13/100\n",
            "1/1 [==============================] - 0s 57ms/step - loss: 0.5610 - accuracy: 0.7500 - val_loss: 0.5513 - val_accuracy: 0.6250\n",
            "Epoch 14/100\n",
            "1/1 [==============================] - 0s 55ms/step - loss: 0.5513 - accuracy: 0.6250 - val_loss: 0.5438 - val_accuracy: 0.6250\n",
            "Epoch 15/100\n",
            "1/1 [==============================] - 0s 58ms/step - loss: 0.5438 - accuracy: 0.6250 - val_loss: 0.5388 - val_accuracy: 0.5625\n",
            "Epoch 16/100\n",
            "1/1 [==============================] - 0s 56ms/step - loss: 0.5388 - accuracy: 0.5625 - val_loss: 0.5363 - val_accuracy: 0.4375\n",
            "Epoch 17/100\n",
            "1/1 [==============================] - 0s 54ms/step - loss: 0.5363 - accuracy: 0.4375 - val_loss: 0.5358 - val_accuracy: 0.4375\n",
            "Epoch 18/100\n",
            "1/1 [==============================] - 0s 56ms/step - loss: 0.5358 - accuracy: 0.4375 - val_loss: 0.5361 - val_accuracy: 0.4375\n",
            "Epoch 19/100\n",
            "1/1 [==============================] - 0s 55ms/step - loss: 0.5361 - accuracy: 0.4375 - val_loss: 0.5361 - val_accuracy: 0.3125\n",
            "Epoch 20/100\n",
            "1/1 [==============================] - 0s 57ms/step - loss: 0.5361 - accuracy: 0.3125 - val_loss: 0.5350 - val_accuracy: 0.3125\n",
            "Epoch 21/100\n",
            "1/1 [==============================] - 0s 54ms/step - loss: 0.5350 - accuracy: 0.3125 - val_loss: 0.5323 - val_accuracy: 0.2500\n",
            "Epoch 22/100\n",
            "1/1 [==============================] - 0s 60ms/step - loss: 0.5323 - accuracy: 0.2500 - val_loss: 0.5285 - val_accuracy: 0.2500\n",
            "Epoch 23/100\n",
            "1/1 [==============================] - 0s 55ms/step - loss: 0.5285 - accuracy: 0.2500 - val_loss: 0.5238 - val_accuracy: 0.2500\n",
            "Epoch 24/100\n",
            "1/1 [==============================] - 0s 56ms/step - loss: 0.5238 - accuracy: 0.2500 - val_loss: 0.5188 - val_accuracy: 0.2500\n",
            "Epoch 25/100\n",
            "1/1 [==============================] - 0s 56ms/step - loss: 0.5188 - accuracy: 0.2500 - val_loss: 0.5140 - val_accuracy: 0.2500\n",
            "Epoch 26/100\n",
            "1/1 [==============================] - 0s 54ms/step - loss: 0.5140 - accuracy: 0.2500 - val_loss: 0.5096 - val_accuracy: 0.4375\n",
            "Epoch 27/100\n",
            "1/1 [==============================] - 0s 54ms/step - loss: 0.5096 - accuracy: 0.4375 - val_loss: 0.5058 - val_accuracy: 0.6875\n",
            "Epoch 28/100\n",
            "1/1 [==============================] - 0s 52ms/step - loss: 0.5058 - accuracy: 0.6875 - val_loss: 0.5024 - val_accuracy: 0.6875\n",
            "Epoch 29/100\n",
            "1/1 [==============================] - 0s 55ms/step - loss: 0.5024 - accuracy: 0.6875 - val_loss: 0.4994 - val_accuracy: 0.8125\n",
            "Epoch 30/100\n",
            "1/1 [==============================] - 0s 59ms/step - loss: 0.4994 - accuracy: 0.8125 - val_loss: 0.4965 - val_accuracy: 0.8750\n",
            "Epoch 31/100\n",
            "1/1 [==============================] - 0s 53ms/step - loss: 0.4965 - accuracy: 0.8750 - val_loss: 0.4935 - val_accuracy: 0.8750\n",
            "Epoch 32/100\n",
            "1/1 [==============================] - 0s 66ms/step - loss: 0.4935 - accuracy: 0.8750 - val_loss: 0.4902 - val_accuracy: 0.9375\n",
            "Epoch 33/100\n",
            "1/1 [==============================] - 0s 57ms/step - loss: 0.4902 - accuracy: 0.9375 - val_loss: 0.4866 - val_accuracy: 0.9375\n",
            "Epoch 34/100\n",
            "1/1 [==============================] - 0s 66ms/step - loss: 0.4866 - accuracy: 0.9375 - val_loss: 0.4826 - val_accuracy: 0.9375\n",
            "Epoch 35/100\n",
            "1/1 [==============================] - 0s 52ms/step - loss: 0.4826 - accuracy: 0.9375 - val_loss: 0.4782 - val_accuracy: 0.9375\n",
            "Epoch 36/100\n",
            "1/1 [==============================] - 0s 52ms/step - loss: 0.4782 - accuracy: 0.9375 - val_loss: 0.4735 - val_accuracy: 0.9375\n",
            "Epoch 37/100\n",
            "1/1 [==============================] - 0s 52ms/step - loss: 0.4735 - accuracy: 0.9375 - val_loss: 0.4685 - val_accuracy: 0.9375\n",
            "Epoch 38/100\n",
            "1/1 [==============================] - 0s 52ms/step - loss: 0.4685 - accuracy: 0.9375 - val_loss: 0.4633 - val_accuracy: 0.9375\n",
            "Epoch 39/100\n",
            "1/1 [==============================] - 0s 50ms/step - loss: 0.4633 - accuracy: 0.9375 - val_loss: 0.4580 - val_accuracy: 1.0000\n",
            "Epoch 40/100\n",
            "1/1 [==============================] - 0s 51ms/step - loss: 0.4580 - accuracy: 1.0000 - val_loss: 0.4526 - val_accuracy: 1.0000\n",
            "Epoch 41/100\n",
            "1/1 [==============================] - 0s 54ms/step - loss: 0.4526 - accuracy: 1.0000 - val_loss: 0.4472 - val_accuracy: 1.0000\n",
            "Epoch 42/100\n",
            "1/1 [==============================] - 0s 55ms/step - loss: 0.4472 - accuracy: 1.0000 - val_loss: 0.4418 - val_accuracy: 1.0000\n",
            "Epoch 43/100\n",
            "1/1 [==============================] - 0s 57ms/step - loss: 0.4418 - accuracy: 1.0000 - val_loss: 0.4362 - val_accuracy: 1.0000\n",
            "Epoch 44/100\n",
            "1/1 [==============================] - 0s 53ms/step - loss: 0.4362 - accuracy: 1.0000 - val_loss: 0.4305 - val_accuracy: 0.9375\n",
            "Epoch 45/100\n",
            "1/1 [==============================] - 0s 53ms/step - loss: 0.4305 - accuracy: 0.9375 - val_loss: 0.4244 - val_accuracy: 0.9375\n",
            "Epoch 46/100\n",
            "1/1 [==============================] - 0s 54ms/step - loss: 0.4244 - accuracy: 0.9375 - val_loss: 0.4182 - val_accuracy: 0.9375\n",
            "Epoch 47/100\n",
            "1/1 [==============================] - 0s 51ms/step - loss: 0.4182 - accuracy: 0.9375 - val_loss: 0.4119 - val_accuracy: 0.9375\n",
            "Epoch 48/100\n",
            "1/1 [==============================] - 0s 53ms/step - loss: 0.4119 - accuracy: 0.9375 - val_loss: 0.4056 - val_accuracy: 0.9375\n",
            "Epoch 49/100\n",
            "1/1 [==============================] - 0s 55ms/step - loss: 0.4056 - accuracy: 0.9375 - val_loss: 0.3991 - val_accuracy: 0.9375\n",
            "Epoch 50/100\n",
            "1/1 [==============================] - 0s 49ms/step - loss: 0.3991 - accuracy: 0.9375 - val_loss: 0.3923 - val_accuracy: 0.9375\n",
            "Epoch 51/100\n",
            "1/1 [==============================] - 0s 50ms/step - loss: 0.3923 - accuracy: 0.9375 - val_loss: 0.3852 - val_accuracy: 0.9375\n",
            "Epoch 52/100\n",
            "1/1 [==============================] - 0s 50ms/step - loss: 0.3852 - accuracy: 0.9375 - val_loss: 0.3778 - val_accuracy: 0.9375\n",
            "Epoch 53/100\n",
            "1/1 [==============================] - 0s 48ms/step - loss: 0.3778 - accuracy: 0.9375 - val_loss: 0.3702 - val_accuracy: 0.9375\n",
            "Epoch 54/100\n",
            "1/1 [==============================] - 0s 49ms/step - loss: 0.3702 - accuracy: 0.9375 - val_loss: 0.3623 - val_accuracy: 0.9375\n",
            "Epoch 55/100\n",
            "1/1 [==============================] - 0s 51ms/step - loss: 0.3623 - accuracy: 0.9375 - val_loss: 0.3543 - val_accuracy: 0.9375\n",
            "Epoch 56/100\n",
            "1/1 [==============================] - 0s 58ms/step - loss: 0.3543 - accuracy: 0.9375 - val_loss: 0.3460 - val_accuracy: 0.9375\n",
            "Epoch 57/100\n",
            "1/1 [==============================] - 0s 51ms/step - loss: 0.3460 - accuracy: 0.9375 - val_loss: 0.3378 - val_accuracy: 0.9375\n",
            "Epoch 58/100\n",
            "1/1 [==============================] - 0s 50ms/step - loss: 0.3378 - accuracy: 0.9375 - val_loss: 0.3294 - val_accuracy: 0.9375\n",
            "Epoch 59/100\n",
            "1/1 [==============================] - 0s 49ms/step - loss: 0.3294 - accuracy: 0.9375 - val_loss: 0.3209 - val_accuracy: 0.9375\n",
            "Epoch 60/100\n",
            "1/1 [==============================] - 0s 53ms/step - loss: 0.3209 - accuracy: 0.9375 - val_loss: 0.3122 - val_accuracy: 0.9375\n",
            "Epoch 61/100\n",
            "1/1 [==============================] - 0s 51ms/step - loss: 0.3122 - accuracy: 0.9375 - val_loss: 0.3033 - val_accuracy: 0.9375\n",
            "Epoch 62/100\n",
            "1/1 [==============================] - 0s 51ms/step - loss: 0.3033 - accuracy: 0.9375 - val_loss: 0.2943 - val_accuracy: 0.9375\n",
            "Epoch 63/100\n",
            "1/1 [==============================] - 0s 55ms/step - loss: 0.2943 - accuracy: 0.9375 - val_loss: 0.2852 - val_accuracy: 0.9375\n",
            "Epoch 64/100\n",
            "1/1 [==============================] - 0s 51ms/step - loss: 0.2852 - accuracy: 0.9375 - val_loss: 0.2760 - val_accuracy: 0.9375\n",
            "Epoch 65/100\n",
            "1/1 [==============================] - 0s 53ms/step - loss: 0.2760 - accuracy: 0.9375 - val_loss: 0.2669 - val_accuracy: 0.9375\n",
            "Epoch 66/100\n",
            "1/1 [==============================] - 0s 49ms/step - loss: 0.2669 - accuracy: 0.9375 - val_loss: 0.2578 - val_accuracy: 0.9375\n",
            "Epoch 67/100\n",
            "1/1 [==============================] - 0s 58ms/step - loss: 0.2578 - accuracy: 0.9375 - val_loss: 0.2486 - val_accuracy: 0.9375\n",
            "Epoch 68/100\n",
            "1/1 [==============================] - 0s 50ms/step - loss: 0.2486 - accuracy: 0.9375 - val_loss: 0.2394 - val_accuracy: 0.9375\n",
            "Epoch 69/100\n",
            "1/1 [==============================] - 0s 49ms/step - loss: 0.2394 - accuracy: 0.9375 - val_loss: 0.2303 - val_accuracy: 0.9375\n",
            "Epoch 70/100\n",
            "1/1 [==============================] - 0s 51ms/step - loss: 0.2303 - accuracy: 0.9375 - val_loss: 0.2212 - val_accuracy: 0.9375\n",
            "Epoch 71/100\n",
            "1/1 [==============================] - 0s 49ms/step - loss: 0.2212 - accuracy: 0.9375 - val_loss: 0.2121 - val_accuracy: 0.9375\n",
            "Epoch 72/100\n",
            "1/1 [==============================] - 0s 54ms/step - loss: 0.2121 - accuracy: 0.9375 - val_loss: 0.2032 - val_accuracy: 0.9375\n",
            "Epoch 73/100\n",
            "1/1 [==============================] - 0s 50ms/step - loss: 0.2032 - accuracy: 0.9375 - val_loss: 0.1944 - val_accuracy: 0.9375\n",
            "Epoch 74/100\n",
            "1/1 [==============================] - 0s 52ms/step - loss: 0.1944 - accuracy: 0.9375 - val_loss: 0.1858 - val_accuracy: 0.9375\n",
            "Epoch 75/100\n",
            "1/1 [==============================] - 0s 52ms/step - loss: 0.1858 - accuracy: 0.9375 - val_loss: 0.1773 - val_accuracy: 0.9375\n",
            "Epoch 76/100\n",
            "1/1 [==============================] - 0s 55ms/step - loss: 0.1773 - accuracy: 0.9375 - val_loss: 0.1690 - val_accuracy: 0.9375\n",
            "Epoch 77/100\n",
            "1/1 [==============================] - 0s 53ms/step - loss: 0.1690 - accuracy: 0.9375 - val_loss: 0.1613 - val_accuracy: 1.0000\n",
            "Epoch 78/100\n",
            "1/1 [==============================] - 0s 54ms/step - loss: 0.1613 - accuracy: 1.0000 - val_loss: 0.1538 - val_accuracy: 1.0000\n",
            "Epoch 79/100\n",
            "1/1 [==============================] - 0s 52ms/step - loss: 0.1538 - accuracy: 1.0000 - val_loss: 0.1466 - val_accuracy: 1.0000\n",
            "Epoch 80/100\n",
            "1/1 [==============================] - 0s 49ms/step - loss: 0.1466 - accuracy: 1.0000 - val_loss: 0.1396 - val_accuracy: 1.0000\n",
            "Epoch 81/100\n",
            "1/1 [==============================] - 0s 62ms/step - loss: 0.1396 - accuracy: 1.0000 - val_loss: 0.1328 - val_accuracy: 1.0000\n",
            "Epoch 82/100\n",
            "1/1 [==============================] - 0s 49ms/step - loss: 0.1328 - accuracy: 1.0000 - val_loss: 0.1263 - val_accuracy: 1.0000\n",
            "Epoch 83/100\n",
            "1/1 [==============================] - 0s 49ms/step - loss: 0.1263 - accuracy: 1.0000 - val_loss: 0.1199 - val_accuracy: 1.0000\n",
            "Epoch 84/100\n",
            "1/1 [==============================] - 0s 62ms/step - loss: 0.1199 - accuracy: 1.0000 - val_loss: 0.1138 - val_accuracy: 1.0000\n",
            "Epoch 85/100\n",
            "1/1 [==============================] - 0s 54ms/step - loss: 0.1138 - accuracy: 1.0000 - val_loss: 0.1079 - val_accuracy: 1.0000\n",
            "Epoch 86/100\n",
            "1/1 [==============================] - 0s 51ms/step - loss: 0.1079 - accuracy: 1.0000 - val_loss: 0.1023 - val_accuracy: 1.0000\n",
            "Epoch 87/100\n",
            "1/1 [==============================] - 0s 50ms/step - loss: 0.1023 - accuracy: 1.0000 - val_loss: 0.0969 - val_accuracy: 1.0000\n",
            "Epoch 88/100\n",
            "1/1 [==============================] - 0s 50ms/step - loss: 0.0969 - accuracy: 1.0000 - val_loss: 0.0917 - val_accuracy: 1.0000\n",
            "Epoch 89/100\n",
            "1/1 [==============================] - 0s 53ms/step - loss: 0.0917 - accuracy: 1.0000 - val_loss: 0.0867 - val_accuracy: 1.0000\n",
            "Epoch 90/100\n",
            "1/1 [==============================] - 0s 50ms/step - loss: 0.0867 - accuracy: 1.0000 - val_loss: 0.0819 - val_accuracy: 1.0000\n",
            "Epoch 91/100\n",
            "1/1 [==============================] - 0s 56ms/step - loss: 0.0819 - accuracy: 1.0000 - val_loss: 0.0773 - val_accuracy: 1.0000\n",
            "Epoch 92/100\n",
            "1/1 [==============================] - 0s 51ms/step - loss: 0.0773 - accuracy: 1.0000 - val_loss: 0.0730 - val_accuracy: 1.0000\n",
            "Epoch 93/100\n",
            "1/1 [==============================] - 0s 53ms/step - loss: 0.0730 - accuracy: 1.0000 - val_loss: 0.0688 - val_accuracy: 1.0000\n",
            "Epoch 94/100\n",
            "1/1 [==============================] - 0s 54ms/step - loss: 0.0688 - accuracy: 1.0000 - val_loss: 0.0648 - val_accuracy: 1.0000\n",
            "Epoch 95/100\n",
            "1/1 [==============================] - 0s 52ms/step - loss: 0.0648 - accuracy: 1.0000 - val_loss: 0.0610 - val_accuracy: 1.0000\n",
            "Epoch 96/100\n",
            "1/1 [==============================] - 0s 51ms/step - loss: 0.0610 - accuracy: 1.0000 - val_loss: 0.0574 - val_accuracy: 1.0000\n",
            "Epoch 97/100\n",
            "1/1 [==============================] - 0s 51ms/step - loss: 0.0574 - accuracy: 1.0000 - val_loss: 0.0541 - val_accuracy: 1.0000\n",
            "Epoch 98/100\n",
            "1/1 [==============================] - 0s 60ms/step - loss: 0.0541 - accuracy: 1.0000 - val_loss: 0.0509 - val_accuracy: 1.0000\n",
            "Epoch 99/100\n",
            "1/1 [==============================] - 0s 50ms/step - loss: 0.0509 - accuracy: 1.0000 - val_loss: 0.0479 - val_accuracy: 1.0000\n",
            "Epoch 100/100\n",
            "1/1 [==============================] - 0s 52ms/step - loss: 0.0479 - accuracy: 1.0000 - val_loss: 0.0451 - val_accuracy: 1.0000\n"
          ]
        }
      ]
    },
    {
      "cell_type": "code",
      "source": [
        "model_1.summary()"
      ],
      "metadata": {
        "colab": {
          "base_uri": "https://localhost:8080/"
        },
        "id": "PzEdCCSkMDkD",
        "outputId": "21a66324-e49b-42c5-d82a-a40aaa927c2b"
      },
      "id": "PzEdCCSkMDkD",
      "execution_count": 41,
      "outputs": [
        {
          "output_type": "stream",
          "name": "stdout",
          "text": [
            "Model: \"sequential_3\"\n",
            "_________________________________________________________________\n",
            " Layer (type)                Output Shape              Param #   \n",
            "=================================================================\n",
            " conv2d_12 (Conv2D)          (None, 222, 222, 10)      100       \n",
            "                                                                 \n",
            " conv2d_13 (Conv2D)          (None, 220, 220, 10)      910       \n",
            "                                                                 \n",
            " max_pooling2d_6 (MaxPooling  (None, 110, 110, 10)     0         \n",
            " 2D)                                                             \n",
            "                                                                 \n",
            " conv2d_14 (Conv2D)          (None, 108, 108, 8)       728       \n",
            "                                                                 \n",
            " conv2d_15 (Conv2D)          (None, 106, 106, 8)       584       \n",
            "                                                                 \n",
            " max_pooling2d_7 (MaxPooling  (None, 26, 26, 8)        0         \n",
            " 2D)                                                             \n",
            "                                                                 \n",
            " flatten_3 (Flatten)         (None, 5408)              0         \n",
            "                                                                 \n",
            " dense_6 (Dense)             (None, 28090)             151938810 \n",
            "                                                                 \n",
            " dense_7 (Dense)             (None, 4)                 112364    \n",
            "                                                                 \n",
            "=================================================================\n",
            "Total params: 152,053,496\n",
            "Trainable params: 152,053,496\n",
            "Non-trainable params: 0\n",
            "_________________________________________________________________\n"
          ]
        }
      ]
    },
    {
      "cell_type": "code",
      "source": [
        "import seaborn as sns\n",
        "from sklearn.metrics import confusion_matrix, accuracy_score\n",
        "preds = model_1.predict(X)\n",
        "print(preds)\n",
        "preds = np.array(preds> 0.4) #limiar\n",
        "preds"
      ],
      "metadata": {
        "colab": {
          "base_uri": "https://localhost:8080/"
        },
        "id": "4PR653sVRARp",
        "outputId": "7e9e6710-c41d-4438-d1a8-3a7ee3770ad2"
      },
      "id": "4PR653sVRARp",
      "execution_count": 49,
      "outputs": [
        {
          "output_type": "stream",
          "name": "stdout",
          "text": [
            "1/1 [==============================] - 0s 74ms/step\n",
            "[[1.0213855e-02 4.0034712e-03 2.5250607e-03 9.8887640e-01]\n",
            " [1.0213855e-02 4.0034712e-03 2.5250607e-03 9.8887640e-01]\n",
            " [4.3406900e-02 2.5100505e-03 4.1371710e-03 9.6865797e-01]\n",
            " [1.0213855e-02 4.0034712e-03 2.5250607e-03 9.8887640e-01]\n",
            " [9.3980294e-01 2.3668239e-02 3.1495579e-02 1.3338941e-02]\n",
            " [8.6652046e-01 2.9076148e-02 6.3921265e-02 1.1865794e-02]\n",
            " [8.4516037e-01 2.8440375e-02 6.5413356e-02 1.5707852e-02]\n",
            " [9.3980294e-01 2.3668239e-02 3.1495579e-02 1.3338941e-02]\n",
            " [1.1363535e-02 8.5999447e-01 4.9053714e-02 2.4753567e-03]\n",
            " [2.2941371e-02 9.0713996e-01 7.8487821e-02 4.1104850e-04]\n",
            " [2.1817364e-02 9.0107834e-01 4.2276952e-02 6.7250564e-04]\n",
            " [2.5280278e-02 8.6962873e-01 4.3895863e-02 1.3157404e-03]\n",
            " [3.9692748e-02 3.1350917e-01 8.6460352e-01 5.4774238e-05]\n",
            " [4.2371061e-02 2.3966841e-02 9.0315408e-01 9.9789761e-03]\n",
            " [3.6255285e-02 3.0363282e-02 9.0429914e-01 9.1883484e-03]\n",
            " [6.7488730e-02 1.3580234e-02 8.9858872e-01 1.3875329e-02]]\n"
          ]
        },
        {
          "output_type": "execute_result",
          "data": {
            "text/plain": [
              "array([[False, False, False,  True],\n",
              "       [False, False, False,  True],\n",
              "       [False, False, False,  True],\n",
              "       [False, False, False,  True],\n",
              "       [ True, False, False, False],\n",
              "       [ True, False, False, False],\n",
              "       [ True, False, False, False],\n",
              "       [ True, False, False, False],\n",
              "       [False,  True, False, False],\n",
              "       [False,  True, False, False],\n",
              "       [False,  True, False, False],\n",
              "       [False,  True, False, False],\n",
              "       [False, False,  True, False],\n",
              "       [False, False,  True, False],\n",
              "       [False, False,  True, False],\n",
              "       [False, False,  True, False]])"
            ]
          },
          "metadata": {},
          "execution_count": 49
        }
      ]
    },
    {
      "cell_type": "code",
      "source": [
        "def plot_results(y_test, preds):\n",
        "  effusion_list_preds = []\n",
        "  consolid_list_preds = []\n",
        "  aline_list_preds = []\n",
        "  bline_list_preds = []\n",
        "  pli_list_preds = []\n",
        "  effusion_list= []\n",
        "  consolid_list = []\n",
        "  aline_list = []\n",
        "  bline_list = []\n",
        "  pli_list = []\n",
        "  for i in range(len(preds)):\n",
        "    aline_list_preds.append(preds[i][0])\n",
        "    bline_list_preds.append(preds[i][1])\n",
        "    effusion_list_preds.append(preds[i][2])\n",
        "    consolid_list_preds.append(preds[i][3])\n",
        "    pli_list_preds.append(preds[i][4])\n",
        "    aline_list.append(y_test[i][0])\n",
        "    bline_list.append(y_test[i][1])\n",
        "    effusion_list.append(y_test[i][2])\n",
        "    consolid_list.append(y_test[i][3])\n",
        "    pli_list.append(y_test[i][4])\n",
        "  acc_aline = accuracy_score(aline_list, aline_list_preds)\n",
        "  print('The accuracy for A-Line: ', acc_aline)\n",
        "  acc_bline = accuracy_score(bline_list, bline_list_preds)\n",
        "  print('The accuracy for B-Line: ', acc_bline)\n",
        "  acc_aline = accuracy_score(aline_list, aline_list_preds)\n",
        "  print('The accuracy for A-Line: ', acc_aline)\n",
        "  acc_aline = accuracy_score(aline_list, aline_list_preds)\n",
        "  print('The accuracy for A-Line: ', acc_aline)\n",
        "  acc_aline = accuracy_score(aline_list, aline_list_preds)\n",
        "  print('The accuracy for A-Line: ', acc_aline)\n",
        "  matriz_aline = confusion_matrix(aline_list, aline_list_preds)\n",
        "  ax1 = plt.axes()\n",
        "  sns.heatmap(matriz_aline, annot=True);\n",
        "  ax1.set_title('A-Lines')\n",
        "  plt.show()\n",
        "  ax2 = plt.axes()\n",
        "  matriz_bline = confusion_matrix(bline_list, bline_list_preds)\n",
        "  sns.heatmap(matriz_bline, annot=True);\n",
        "  ax2.set_title('B-Lines')\n",
        "  plt.show()\n",
        "  matriz_effusion = confusion_matrix(effusion_list, effusion_list_preds)\n",
        "  ax3 = plt.axes()\n",
        "  sns.heatmap(matriz_effusion, annot=True);\n",
        "  ax3.set_title('Effusion')\n",
        "  plt.show()\n",
        "  matriz_consolidations = confusion_matrix(consolid_list, consolid_list_preds)\n",
        "  ax4 = plt.axes()\n",
        "  sns.heatmap(matriz_consolidations, annot=True);\n",
        "  ax4.set_title('Consolidations')\n",
        "  plt.show()\n",
        "  matriz_pli = confusion_matrix(pli_list, pli_list_preds)\n",
        "  ax3 = plt.axes()\n",
        "  sns.heatmap(matriz_pli, annot=True);\n",
        "  ax3.set_title('Pleural Irregularities')\n",
        "  plt.show()\n",
        "  print(matriz_aline)\n",
        "  print(matriz_bline)\n",
        "  print(matriz_effusion)\n",
        "  print(matriz_consolidations)\n",
        "  print(matriz_pli)"
      ],
      "metadata": {
        "id": "AXgvMoVdSsc3"
      },
      "id": "AXgvMoVdSsc3",
      "execution_count": null,
      "outputs": []
    },
    {
      "cell_type": "code",
      "source": [
        "plot_results(y_test, preds)"
      ],
      "metadata": {
        "colab": {
          "base_uri": "https://localhost:8080/",
          "height": 1000
        },
        "id": "m-Ma5YGvT2y_",
        "outputId": "363200ee-f9f1-4a03-eedc-b87336e127b0"
      },
      "id": "m-Ma5YGvT2y_",
      "execution_count": null,
      "outputs": [
        {
          "output_type": "stream",
          "name": "stdout",
          "text": [
            "The accuracy was:  0.993485342019544\n"
          ]
        },
        {
          "output_type": "display_data",
          "data": {
            "text/plain": [
              "<Figure size 432x288 with 2 Axes>"
            ],
            "image/png": "[encoded data removed]"
          },
          "metadata": {
            "needs_background": "light"
          }
        },
        {
          "output_type": "display_data",
          "data": {
            "text/plain": [
              "<Figure size 432x288 with 2 Axes>"
            ],
            "image/png": "[encoded data removed]"
          },
          "metadata": {
            "needs_background": "light"
          }
        },
        {
          "output_type": "display_data",
          "data": {
            "text/plain": [
              "<Figure size 432x288 with 2 Axes>"
            ],
            "image/png": "[encoded data removed]"
          },
          "metadata": {
            "needs_background": "light"
          }
        },
        {
          "output_type": "display_data",
          "data": {
            "text/plain": [
              "<Figure size 432x288 with 2 Axes>"
            ],
            "image/png": "[encoded data removed]"
          },
          "metadata": {
            "needs_background": "light"
          }
        },
        {
          "output_type": "display_data",
          "data": {
            "text/plain": [
              "<Figure size 432x288 with 2 Axes>"
            ],
            "image/png": "[encoded data removed]"
          },
          "metadata": {
            "needs_background": "light"
          }
        },
        {
          "output_type": "stream",
          "name": "stdout",
          "text": [
            "[[278   1]\n",
            " [  1  27]]\n",
            "[[243   0]\n",
            " [  0  64]]\n",
            "[[263   0]\n",
            " [  4  40]]\n",
            "[[195   4]\n",
            " [  1 107]]\n",
            "[[260   0]\n",
            " [  3  44]]\n"
          ]
        }
      ]
    },
    {
      "cell_type": "code",
      "source": [
        "#train (80%(80%) #Validation(20%)) %teste(20%)\n",
        "#set random seed\n",
        "tf.random.set_seed(42)\n",
        "\n",
        "#create the model\n",
        "model_3 = tf.keras.Sequential([\n",
        "    tf.keras.layers.Flatten(input_shape=(224, 224, 3)),\n",
        "    tf.keras.layers.Dense(100, activation=\"relu\"),\n",
        "    tf.keras.layers.Dense(100, activation=\"relu\"),\n",
        "    tf.keras.layers.Dense(100, activation=\"relu\"),\n",
        "    tf.keras.layers.Dense(1, activation=\"sigmoid\")\n",
        "])\n",
        "#compile the model\n",
        "model_3.compile(loss=\"binary_crossentropy\",\n",
        "                optimizer=tf.keras.optimizers.Adam(),\n",
        "                metrics=[\"accuracy\"])\n",
        "#fit the model\n",
        "history_3=model_3.fit(train_data,\n",
        "            epochs=5,\n",
        "            steps_per_epoch=len(train_data),\n",
        "            validation_data=valid_data,\n",
        "            validation_steps=len(valid_data))"
      ],
      "metadata": {
        "id": "1tXtE9q9JmR3"
      },
      "id": "1tXtE9q9JmR3",
      "execution_count": null,
      "outputs": []
    }
  ],
  "metadata": {
    "accelerator": "GPU",
    "colab": {
      "provenance": [],
      "include_colab_link": true
    },
    "gpuClass": "standard",
    "kernelspec": {
      "display_name": "Python 3 (ipykernel)",
      "language": "python",
      "name": "python3"
    },
    "language_info": {
      "codemirror_mode": {
        "name": "ipython",
        "version": 3
      },
      "file_extension": ".py",
      "mimetype": "text/x-python",
      "name": "python",
      "nbconvert_exporter": "python",
      "pygments_lexer": "ipython3",
      "version": "3.10.7"
    }
  },
  "nbformat": 4,
  "nbformat_minor": 5
}