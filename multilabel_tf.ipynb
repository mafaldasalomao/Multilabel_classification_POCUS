{
  "cells": [
    {
      "cell_type": "markdown",
      "metadata": {
        "id": "view-in-github",
        "colab_type": "text"
      },
      "source": [
        "<a href=\"https://colab.research.google.com/github/mafaldasalomao/multilabel_classification_pocus/blob/main/multilabel_tf.ipynb\" target=\"_parent\"><img src=\"https://colab.research.google.com/assets/colab-badge.svg\" alt=\"Open In Colab\"/></a>"
      ]
    },
    {
      "cell_type": "code",
      "execution_count": 1,
      "metadata": {
        "id": "36c4e51a"
      },
      "outputs": [],
      "source": [
        "#Import suppporting libraries\n",
        "import tarfile\n",
        "import urllib.request as urllib2\n",
        "import os\n",
        "import cv2\n",
        "from os import listdir\n",
        "from os.path import isfile, join\n",
        "import re\n",
        "#Import deep learning libraries\n",
        "import cv2\n",
        "import os\n",
        "import pandas as pd\n",
        "import numpy as np\n",
        "import tensorflow as tf\n",
        "import matplotlib.pyplot as plt\n",
        "import tensorflow.keras as keras\n",
        "from tensorflow.keras.models import Sequential\n",
        "from tensorflow.keras.layers import Dense, Dropout, Flatten, Conv2D, MaxPooling2D, BatchNormalization\n",
        "from tensorflow.keras.preprocessing import image\n",
        "from sklearn.model_selection import train_test_split\n",
        "from sklearn.model_selection import KFold\n",
        "import tqdm as tqdm\n",
        "import tensorflow_hub as hub\n",
        "\n",
        "#Import data analytics libraries\n",
        "import matplotlib.pyplot as plt\n",
        "import matplotlib.image as img\n",
        "import numpy as np\n",
        "import scipy.io\n",
        "import pandas as pd\n",
        "import seaborn as sns\n",
        "#Import image visualization libraries\n",
        "from PIL import *\n",
        "from PIL import ImageFile\n",
        "from PIL import Image\n",
        "#System settings\n",
        "ImageFile.LOAD_TRUNCATED_IMAGES = True\n",
        "os.environ['WANDB_CONSOLE'] = 'off'\n",
        "#Coloring for print outputs\n",
        "class color:\n",
        "   RED = '\\033[91m'\n",
        "   BOLD = '\\033[1m'\n",
        "   END = '\\033[0m'"
      ],
      "id": "36c4e51a"
    },
    {
      "cell_type": "code",
      "execution_count": 2,
      "metadata": {
        "colab": {
          "base_uri": "https://localhost:8080/"
        },
        "id": "RPQUiGWYUBSB",
        "outputId": "f0c87ef4-d322-4545-8ec7-7be795e60ef5"
      },
      "outputs": [
        {
          "output_type": "stream",
          "name": "stdout",
          "text": [
            "Mounted at /content/drive\n"
          ]
        }
      ],
      "source": [
        "from google.colab import drive\n",
        "drive.mount('/content/drive')"
      ],
      "id": "RPQUiGWYUBSB"
    },
    {
      "cell_type": "code",
      "execution_count": 3,
      "metadata": {
        "id": "Ly0UuR9UUegJ"
      },
      "outputs": [],
      "source": [
        "!cp  /content/drive/MyDrive/datasets/convex.zip /content/"
      ],
      "id": "Ly0UuR9UUegJ"
    },
    {
      "cell_type": "code",
      "execution_count": 4,
      "metadata": {
        "id": "mPQZVh0jnNxN"
      },
      "outputs": [],
      "source": [
        "!cp /content/drive/MyDrive/datasets/dataset_metadata.csv /content/"
      ],
      "id": "mPQZVh0jnNxN"
    },
    {
      "cell_type": "code",
      "execution_count": 5,
      "metadata": {
        "id": "w5J1X5wCDzMe"
      },
      "outputs": [],
      "source": [
        "!unzip -q convex.zip -d /content/temp"
      ],
      "id": "w5J1X5wCDzMe"
    },
    {
      "cell_type": "code",
      "execution_count": 6,
      "metadata": {
        "id": "053f4152"
      },
      "outputs": [],
      "source": [
        "path='/content/temp/convex'\n",
        "annotation_path = \"dataset_metadata.csv\"\n",
        "videos_list = os.listdir(path)"
      ],
      "id": "053f4152"
    },
    {
      "cell_type": "code",
      "execution_count": 7,
      "metadata": {
        "id": "b80ab3fe"
      },
      "outputs": [],
      "source": [
        "columns = ['Filename', 'Effusion', 'Consolidations', 'B-lines', 'A-lines', 'Pleural_line_irregularities', 'Air_bronchogram', 'Label']\n",
        "base = pd.read_csv(annotation_path, usecols=columns)"
      ],
      "id": "b80ab3fe"
    },
    {
      "cell_type": "code",
      "execution_count": 8,
      "metadata": {
        "colab": {
          "base_uri": "https://localhost:8080/",
          "height": 206
        },
        "id": "6c86410a",
        "outputId": "2298b73d-5956-46cf-e9f2-2f521732cb15"
      },
      "outputs": [
        {
          "output_type": "execute_result",
          "data": {
            "text/plain": [
              "                              Filename     Label  Effusion  Consolidations  \\\n",
              "0           Cov-Butterfly-COVID Lung 2  COVID-19       1.0             0.0   \n",
              "1            Cov-Butterfly-Skip Lesion  COVID-19       0.0             1.0   \n",
              "2      Cov-Butterfly-Confluent B lines  COVID-19       0.0             0.0   \n",
              "3    Reg-Butterfly-Normal Lung A lines   Regular       0.0             0.0   \n",
              "4  Reg-Butterfly-Normal Lung_Example 2   Regular       0.0             0.0   \n",
              "\n",
              "   B-lines  A-lines  Pleural_line_irregularities  Air_bronchogram  \n",
              "0      1.0      0.0                          1.0              0.0  \n",
              "1      1.0      1.0                          1.0              0.0  \n",
              "2      1.0      0.0                          0.0              0.0  \n",
              "3      0.0      1.0                          0.0              0.0  \n",
              "4      0.0      0.0                          0.0              0.0  "
            ],
            "text/html": [
              "\n",
              "  <div id=\"df-3f9c9866-c653-4b0f-88c7-b829b0f074de\">\n",
              "    <div class=\"colab-df-container\">\n",
              "      <div>\n",
              "<style scoped>\n",
              "    .dataframe tbody tr th:only-of-type {\n",
              "        vertical-align: middle;\n",
              "    }\n",
              "\n",
              "    .dataframe tbody tr th {\n",
              "        vertical-align: top;\n",
              "    }\n",
              "\n",
              "    .dataframe thead th {\n",
              "        text-align: right;\n",
              "    }\n",
              "</style>\n",
              "<table border=\"1\" class=\"dataframe\">\n",
              "  <thead>\n",
              "    <tr style=\"text-align: right;\">\n",
              "      <th></th>\n",
              "      <th>Filename</th>\n",
              "      <th>Label</th>\n",
              "      <th>Effusion</th>\n",
              "      <th>Consolidations</th>\n",
              "      <th>B-lines</th>\n",
              "      <th>A-lines</th>\n",
              "      <th>Pleural_line_irregularities</th>\n",
              "      <th>Air_bronchogram</th>\n",
              "    </tr>\n",
              "  </thead>\n",
              "  <tbody>\n",
              "    <tr>\n",
              "      <th>0</th>\n",
              "      <td>Cov-Butterfly-COVID Lung 2</td>\n",
              "      <td>COVID-19</td>\n",
              "      <td>1.0</td>\n",
              "      <td>0.0</td>\n",
              "      <td>1.0</td>\n",
              "      <td>0.0</td>\n",
              "      <td>1.0</td>\n",
              "      <td>0.0</td>\n",
              "    </tr>\n",
              "    <tr>\n",
              "      <th>1</th>\n",
              "      <td>Cov-Butterfly-Skip Lesion</td>\n",
              "      <td>COVID-19</td>\n",
              "      <td>0.0</td>\n",
              "      <td>1.0</td>\n",
              "      <td>1.0</td>\n",
              "      <td>1.0</td>\n",
              "      <td>1.0</td>\n",
              "      <td>0.0</td>\n",
              "    </tr>\n",
              "    <tr>\n",
              "      <th>2</th>\n",
              "      <td>Cov-Butterfly-Confluent B lines</td>\n",
              "      <td>COVID-19</td>\n",
              "      <td>0.0</td>\n",
              "      <td>0.0</td>\n",
              "      <td>1.0</td>\n",
              "      <td>0.0</td>\n",
              "      <td>0.0</td>\n",
              "      <td>0.0</td>\n",
              "    </tr>\n",
              "    <tr>\n",
              "      <th>3</th>\n",
              "      <td>Reg-Butterfly-Normal Lung A lines</td>\n",
              "      <td>Regular</td>\n",
              "      <td>0.0</td>\n",
              "      <td>0.0</td>\n",
              "      <td>0.0</td>\n",
              "      <td>1.0</td>\n",
              "      <td>0.0</td>\n",
              "      <td>0.0</td>\n",
              "    </tr>\n",
              "    <tr>\n",
              "      <th>4</th>\n",
              "      <td>Reg-Butterfly-Normal Lung_Example 2</td>\n",
              "      <td>Regular</td>\n",
              "      <td>0.0</td>\n",
              "      <td>0.0</td>\n",
              "      <td>0.0</td>\n",
              "      <td>0.0</td>\n",
              "      <td>0.0</td>\n",
              "      <td>0.0</td>\n",
              "    </tr>\n",
              "  </tbody>\n",
              "</table>\n",
              "</div>\n",
              "      <button class=\"colab-df-convert\" onclick=\"convertToInteractive('df-3f9c9866-c653-4b0f-88c7-b829b0f074de')\"\n",
              "              title=\"Convert this dataframe to an interactive table.\"\n",
              "              style=\"display:none;\">\n",
              "        \n",
              "  <svg xmlns=\"http://www.w3.org/2000/svg\" height=\"24px\"viewBox=\"0 0 24 24\"\n",
              "       width=\"24px\">\n",
              "    <path d=\"M0 0h24v24H0V0z\" fill=\"none\"/>\n",
              "    <path d=\"M18.56 5.44l.94 2.06.94-2.06 2.06-.94-2.06-.94-.94-2.06-.94 2.06-2.06.94zm-11 1L8.5 8.5l.94-2.06 2.06-.94-2.06-.94L8.5 2.5l-.94 2.06-2.06.94zm10 10l.94 2.06.94-2.06 2.06-.94-2.06-.94-.94-2.06-.94 2.06-2.06.94z\"/><path d=\"M17.41 7.96l-1.37-1.37c-.4-.4-.92-.59-1.43-.59-.52 0-1.04.2-1.43.59L10.3 9.45l-7.72 7.72c-.78.78-.78 2.05 0 2.83L4 21.41c.39.39.9.59 1.41.59.51 0 1.02-.2 1.41-.59l7.78-7.78 2.81-2.81c.8-.78.8-2.07 0-2.86zM5.41 20L4 18.59l7.72-7.72 1.47 1.35L5.41 20z\"/>\n",
              "  </svg>\n",
              "      </button>\n",
              "      \n",
              "  <style>\n",
              "    .colab-df-container {\n",
              "      display:flex;\n",
              "      flex-wrap:wrap;\n",
              "      gap: 12px;\n",
              "    }\n",
              "\n",
              "    .colab-df-convert {\n",
              "      background-color: #E8F0FE;\n",
              "      border: none;\n",
              "      border-radius: 50%;\n",
              "      cursor: pointer;\n",
              "      display: none;\n",
              "      fill: #1967D2;\n",
              "      height: 32px;\n",
              "      padding: 0 0 0 0;\n",
              "      width: 32px;\n",
              "    }\n",
              "\n",
              "    .colab-df-convert:hover {\n",
              "      background-color: #E2EBFA;\n",
              "      box-shadow: 0px 1px 2px rgba(60, 64, 67, 0.3), 0px 1px 3px 1px rgba(60, 64, 67, 0.15);\n",
              "      fill: #174EA6;\n",
              "    }\n",
              "\n",
              "    [theme=dark] .colab-df-convert {\n",
              "      background-color: #3B4455;\n",
              "      fill: #D2E3FC;\n",
              "    }\n",
              "\n",
              "    [theme=dark] .colab-df-convert:hover {\n",
              "      background-color: #434B5C;\n",
              "      box-shadow: 0px 1px 3px 1px rgba(0, 0, 0, 0.15);\n",
              "      filter: drop-shadow(0px 1px 2px rgba(0, 0, 0, 0.3));\n",
              "      fill: #FFFFFF;\n",
              "    }\n",
              "  </style>\n",
              "\n",
              "      <script>\n",
              "        const buttonEl =\n",
              "          document.querySelector('#df-3f9c9866-c653-4b0f-88c7-b829b0f074de button.colab-df-convert');\n",
              "        buttonEl.style.display =\n",
              "          google.colab.kernel.accessAllowed ? 'block' : 'none';\n",
              "\n",
              "        async function convertToInteractive(key) {\n",
              "          const element = document.querySelector('#df-3f9c9866-c653-4b0f-88c7-b829b0f074de');\n",
              "          const dataTable =\n",
              "            await google.colab.kernel.invokeFunction('convertToInteractive',\n",
              "                                                     [key], {});\n",
              "          if (!dataTable) return;\n",
              "\n",
              "          const docLinkHtml = 'Like what you see? Visit the ' +\n",
              "            '<a target=\"_blank\" href=https://colab.research.google.com/notebooks/data_table.ipynb>data table notebook</a>'\n",
              "            + ' to learn more about interactive tables.';\n",
              "          element.innerHTML = '';\n",
              "          dataTable['output_type'] = 'display_data';\n",
              "          await google.colab.output.renderOutput(dataTable, element);\n",
              "          const docLink = document.createElement('div');\n",
              "          docLink.innerHTML = docLinkHtml;\n",
              "          element.appendChild(docLink);\n",
              "        }\n",
              "      </script>\n",
              "    </div>\n",
              "  </div>\n",
              "  "
            ]
          },
          "metadata": {},
          "execution_count": 8
        }
      ],
      "source": [
        "base = base[base['Effusion'] != 'n/A']\n",
        "base = base[base['Consolidations'] != 'n/A']\n",
        "base = base[base['B-lines'] != 'n/A']\n",
        "base = base[base['A-lines']  != 'n/A']\n",
        "base = base[base['Pleural_line_irregularities']  != 'n/A']\n",
        "base = base[base['Air_bronchogram']  != 'n/A']\n",
        "base = base[base['Label']  != 'n/A']\n",
        "#base = base[base['Label']  != 'regular']\n",
        "#base = base[base['Label']  != 'Regular']\n",
        "base['Label']= base['Label'].replace(['regular'], 'Regular')\n",
        "\n",
        "base['Effusion'] = pd.to_numeric(base['Effusion'])\n",
        "base.head()"
      ],
      "id": "6c86410a"
    },
    {
      "cell_type": "code",
      "execution_count": 9,
      "metadata": {
        "colab": {
          "base_uri": "https://localhost:8080/"
        },
        "id": "8b3a3fb8",
        "outputId": "8d095dfa-9634-4542-f3c6-b4fc4e4dcf4b"
      },
      "outputs": [
        {
          "output_type": "execute_result",
          "data": {
            "text/plain": [
              "(346, 8)"
            ]
          },
          "metadata": {},
          "execution_count": 9
        }
      ],
      "source": [
        "base  = base.dropna(axis = 0)\n",
        "base.shape"
      ],
      "id": "8b3a3fb8"
    },
    {
      "cell_type": "code",
      "execution_count": 10,
      "metadata": {
        "colab": {
          "base_uri": "https://localhost:8080/"
        },
        "id": "f68f0c0a",
        "outputId": "8bab9815-0071-497a-866a-4679d37dc423"
      },
      "outputs": [
        {
          "output_type": "execute_result",
          "data": {
            "text/plain": [
              "0               Cov-Butterfly-COVID Lung 2\n",
              "1                Cov-Butterfly-Skip Lesion\n",
              "2          Cov-Butterfly-Confluent B lines\n",
              "3        Reg-Butterfly-Normal Lung A lines\n",
              "4      Reg-Butterfly-Normal Lung_Example 2\n",
              "                      ...                 \n",
              "344                Cov-B_ConvexProb_score1\n",
              "345               Cov-C_Convex_Prob_score2\n",
              "346               Cov-D_Convex_Prob_score3\n",
              "347                Cov-C_ConvexProb_score3\n",
              "348                    Cov-MSU-SkipLesions\n",
              "Name: Filename, Length: 346, dtype: object"
            ]
          },
          "metadata": {},
          "execution_count": 10
        }
      ],
      "source": [
        "metadata = base;\n",
        "metadata['Filename']"
      ],
      "id": "f68f0c0a"
    },
    {
      "cell_type": "code",
      "execution_count": 11,
      "metadata": {
        "colab": {
          "base_uri": "https://localhost:8080/"
        },
        "id": "c16b65e8",
        "outputId": "eddd9d17-94a7-44f7-b6b6-8508072daf50"
      },
      "outputs": [
        {
          "output_type": "execute_result",
          "data": {
            "text/plain": [
              "1"
            ]
          },
          "metadata": {},
          "execution_count": 11
        }
      ],
      "source": [
        "#\"Cov-Butterfly-COVID Lung 2\" in metadata['Filename']\n",
        "teste = metadata.loc[metadata.Filename == \"Reg-Atlas-lungcurtain\"]\n",
        "len(teste)"
      ],
      "id": "c16b65e8"
    },
    {
      "cell_type": "code",
      "execution_count": null,
      "metadata": {
        "id": "48b100ac"
      },
      "outputs": [],
      "source": [
        "effusion_list = []\n",
        "consolid_list = []\n",
        "aline_list = []\n",
        "bline_list = []\n",
        "pli_list = []\n",
        "airb_list = []\n",
        "filenames = []\n",
        "y_labels = []\n",
        "num_imgs_per_video = 20\n",
        "path_imgs_train = '/content/drive/MyDrive/datasets/imgs'\n",
        "os.mkdir(path_imgs_train)\n",
        "os.mkdir(\"/content/dataset\")"
      ],
      "id": "48b100ac"
    },
    {
      "cell_type": "code",
      "execution_count": 23,
      "metadata": {
        "id": "dmnSUSnASW6I"
      },
      "outputs": [],
      "source": [
        "IMG_SIZE = 224 # Specify height and width of image to match the input format of the model\n",
        "CHANNELS = 3 # Keep RGB color channels to match the input format of the model\n",
        "num_imgs_per_video=10"
      ],
      "id": "dmnSUSnASW6I"
    },
    {
      "cell_type": "code",
      "execution_count": null,
      "metadata": {
        "id": "KZ5AAYRSSSyF"
      },
      "outputs": [],
      "source": [
        "\n",
        "feature_extractor_url = \"https://tfhub.dev/google/imagenet/mobilenet_v2_100_224/feature_vector/4\"\n",
        "feature_extractor_layer = hub.KerasLayer(feature_extractor_url,\n",
        "                                         input_shape=(IMG_SIZE,IMG_SIZE,CHANNELS))"
      ],
      "id": "KZ5AAYRSSSyF"
    },
    {
      "cell_type": "code",
      "execution_count": null,
      "metadata": {
        "colab": {
          "base_uri": "https://localhost:8080/",
          "height": 165
        },
        "id": "aQm4KjuqSeaX",
        "outputId": "1b2adbc5-3770-409c-f5ca-8a435290b109"
      },
      "outputs": [
        {
          "ename": "NameError",
          "evalue": "ignored",
          "output_type": "error",
          "traceback": [
            "\u001b[0;31m---------------------------------------------------------------------------\u001b[0m",
            "\u001b[0;31mNameError\u001b[0m                                 Traceback (most recent call last)",
            "\u001b[0;32m<ipython-input-14-68b7c9790c7b>\u001b[0m in \u001b[0;36m<module>\u001b[0;34m\u001b[0m\n\u001b[0;32m----> 1\u001b[0;31m \u001b[0mfeature_extractor_layer\u001b[0m\u001b[0;34m.\u001b[0m\u001b[0mtrainable\u001b[0m \u001b[0;34m=\u001b[0m \u001b[0;32mTrue\u001b[0m\u001b[0;34m\u001b[0m\u001b[0;34m\u001b[0m\u001b[0m\n\u001b[0m",
            "\u001b[0;31mNameError\u001b[0m: name 'feature_extractor_layer' is not defined"
          ]
        }
      ],
      "source": [
        "feature_extractor_layer.trainable = True"
      ],
      "id": "aQm4KjuqSeaX"
    },
    {
      "cell_type": "code",
      "execution_count": 15,
      "metadata": {
        "id": "zDCzD3UPSiXT"
      },
      "outputs": [],
      "source": [
        "def plot_curves(history, title):\n",
        "    fig_1 = plt.figure(figsize=(5, 3))\n",
        "    epochs = range(1, len(history.history['loss'])+1)\n",
        "    plt.plot(epochs, history.history['loss'], label=\"Train loss\")\n",
        "    plt.plot(epochs, history.history['val_loss'], label=\"Test Loss\")\n",
        "    plt.title(\"Training Loss Curve: \"+title)\n",
        "    plt.ylabel(\"Loss\")\n",
        "    plt.xlabel(\"Epochs\")\n",
        "    plt.legend();\n",
        "    fig_1.savefig(path_imgs_train+'/loss_'+title+'.png')\n",
        "    plt.close(fig_1)\n",
        "    \n",
        "    fig_2 = plt.figure(figsize=(5, 3))\n",
        "    epochs = range(1, len(history.history['accuracy'])+1)\n",
        "    plt.plot(epochs, history.history['accuracy'], label=\"Train Acc\")\n",
        "    plt.plot(epochs, history.history['val_accuracy'], label=\"Test Acc\")\n",
        "    plt.title(\"Training Accuracy Curve: \"+title)\n",
        "    plt.ylabel(\"Accuracy\")\n",
        "    plt.xlabel(\"Epochs\")\n",
        "    plt.legend();\n",
        "    fig_2.savefig(path_imgs_train+'/acc_'+title+'.png')\n",
        "    plt.close(fig_2)"
      ],
      "id": "zDCzD3UPSiXT"
    },
    {
      "cell_type": "markdown",
      "metadata": {
        "id": "HazpET0-FRDS"
      },
      "source": [
        "## Data Augmentation\n"
      ],
      "id": "HazpET0-FRDS"
    },
    {
      "cell_type": "code",
      "execution_count": null,
      "metadata": {
        "id": "oN9Iq9b3FS9Y"
      },
      "outputs": [],
      "source": [
        "!pip install -U git+https://github.com/albumentations-team/albumentations"
      ],
      "id": "oN9Iq9b3FS9Y"
    },
    {
      "cell_type": "code",
      "execution_count": null,
      "metadata": {
        "id": "Xr4xWZvdFTpd"
      },
      "outputs": [],
      "source": [
        "from albumentations import HorizontalFlip, VerticalFlip, ElasticTransform, GridDistortion, OpticalDistortion, CoarseDropout"
      ],
      "id": "Xr4xWZvdFTpd"
    },
    {
      "cell_type": "code",
      "execution_count": null,
      "metadata": {
        "id": "vGSHPci-FQRW"
      },
      "outputs": [],
      "source": [
        "def criar_diretorio(caminho):\n",
        "  if not os.path.exists(caminho):\n",
        "    os.makedirs(caminho)"
      ],
      "id": "vGSHPci-FQRW"
    },
    {
      "cell_type": "code",
      "execution_count": null,
      "metadata": {
        "id": "_OlTdy7jFjoI"
      },
      "outputs": [],
      "source": [
        "from scipy.stats.distributions import alpha\n",
        "def create_dataset_aug(img_altura=224, img_largura=224, augmentation=True):\n",
        "    X_train, y_train = [], []\n",
        "    for filename in videos_list:\n",
        "        count=0\n",
        "        #print(filename)\n",
        "        vid_cap = cv2.VideoCapture(path+'/'+filename)\n",
        "        total_frame_count= int(vid_cap.get(cv2.CAP_PROP_FRAME_COUNT))\n",
        "        step = total_frame_count/num_imgs_per_video\n",
        "        success, image = vid_cap.read()\n",
        "        metadata_cap = metadata.loc[metadata.Filename == filename.split('.')[0]]\n",
        "        if len(metadata_cap) >0:\n",
        "            while success:\n",
        "                #print(\"Reading new frame...\", success)\n",
        "                if ((count+1) % int(step) == 0):\n",
        "                    #print(\"Writing new frame...\")\n",
        "                    out = '/content/dataset/{}_{}.png'.format(filename.split('.')[0], count)\n",
        "                    cv2.imwrite(out, image)\n",
        "                    img = tf.keras.utils.load_img(out, target_size = (img_largura, img_altura, 3))\n",
        "                    img = tf.keras.utils.img_to_array(img)\n",
        "                    img= img/255.\n",
        "                    #img = img.transpose(2,0,1)\n",
        "                    X_train.append(img)\n",
        "                    img_labels = [metadata['A-lines'][metadata_cap.index[0]],\n",
        "                                    metadata['B-lines'][metadata_cap.index[0]],\n",
        "                                    metadata['Effusion'][metadata_cap.index[0]],\n",
        "                                    metadata['Consolidations'][metadata_cap.index[0]],\n",
        "                                    metadata['Pleural_line_irregularities'][metadata_cap.index[0]]]\n",
        "                                     #metadata['Air_bronchogram'][metadata_cap.index[0]]])\n",
        "                    y_train.append(img_labels)\n",
        "                    if augmentation:\n",
        "                      aug = HorizontalFlip(p = 1.0)\n",
        "                      augmentation = aug(image = img)\n",
        "                      x1 = augmentation['image']\n",
        "                      X_train.append(x1)\n",
        "                      y_train.append(img_labels)\n",
        "\n",
        "                      aug = OpticalDistortion(p = 1.0, distort_limit=2, shift_limit=0.5)\n",
        "                      augmentation = aug(image = img)\n",
        "                      x2 = augmentation['image']\n",
        "                      X_train.append(x2)\n",
        "                      y_train.append(img_labels)\n",
        "\n",
        "                      # aug = ElasticTransform(p = 1.0, alpha=120, sigma=120*0.05, alpha_affine=120*0.03)\n",
        "                      # augmentation = aug(image = img)\n",
        "                      # x3 = augmentation['image']\n",
        "                      # X_train.append(x3)\n",
        "                      # y_train.append(img_labels)\n",
        "\n",
        "                      # aug = GridDistortion(p = 1.0)\n",
        "                      # augmentation = aug(image = img)\n",
        "                      # x4 = augmentation['image']\n",
        "                      # X_train.append(x4)\n",
        "                      # y_train.append(img_labels)\n",
        "\n",
        "                success, image = vid_cap.read()\n",
        "                count += 1\n",
        "    X = np.array(X_train)\n",
        "    y = np.array(y_train)\n",
        "    return X, y"
      ],
      "id": "_OlTdy7jFjoI"
    },
    {
      "cell_type": "code",
      "execution_count": 16,
      "metadata": {
        "id": "U_Ol__-ESoSs"
      },
      "outputs": [],
      "source": [
        "def create_mydataset_all():\n",
        "    X_train, y_train = [], []\n",
        "    for filename in videos_list:\n",
        "        count=0\n",
        "        #print(filename)\n",
        "        vid_cap = cv2.VideoCapture(path+'/'+filename)\n",
        "        total_frame_count= int(vid_cap.get(cv2.CAP_PROP_FRAME_COUNT))\n",
        "        step = total_frame_count/num_imgs_per_video\n",
        "        success, image = vid_cap.read()\n",
        "        metadata_cap = metadata.loc[metadata.Filename == filename.split('.')[0]]\n",
        "        if len(metadata_cap) >0:\n",
        "            while success:\n",
        "                #print(\"Reading new frame...\", success)\n",
        "                if ((count+1) % int(step) == 0):\n",
        "                    #print(\"Writing new frame...\")\n",
        "                    out = '/content/dataset/{}_{}.png'.format(filename.split('.')[0], count)\n",
        "                    cv2.imwrite(out, image)\n",
        "                    img = tf.keras.utils.load_img(out, target_size = (224, 224, 3))\n",
        "                    img = tf.keras.utils.img_to_array(img)\n",
        "                    img= img/255.\n",
        "                    #img = img.transpose(2,0,1)\n",
        "                    X_train.append(img)\n",
        "                    y_train.append([metadata['A-lines'][metadata_cap.index[0]],\n",
        "                                    metadata['B-lines'][metadata_cap.index[0]],\n",
        "                                    metadata['Effusion'][metadata_cap.index[0]],\n",
        "                                    metadata['Consolidations'][metadata_cap.index[0]],\n",
        "                                    metadata['Pleural_line_irregularities'][metadata_cap.index[0]]])\n",
        "                                     #metadata['Air_bronchogram'][metadata_cap.index[0]]])\n",
        "                success, image = vid_cap.read()\n",
        "                count += 1\n",
        "    X = np.array(X_train)\n",
        "    y = np.array(y_train)\n",
        "    return X, y"
      ],
      "id": "U_Ol__-ESoSs"
    },
    {
      "cell_type": "code",
      "execution_count": 17,
      "metadata": {
        "id": "P2wfiDK9Sobs"
      },
      "outputs": [],
      "source": [
        "#X, y = create_dataset_aug()\n",
        "X, y = create_mydataset_all()\n",
        "#((1225, 224, 224, 3), (1225, 5))\n",
        "num_folds=5\n",
        "# Define the K-fold Cross Validator\n",
        "kfold = KFold(n_splits=num_folds, shuffle=True)\n",
        "X_train, X_test, y_train, y_test = train_test_split(X, y, random_state=20, test_size=0.2, shuffle=True)\n",
        "del X\n",
        "del y\n",
        "#X_train.shape, y_train.shape"
      ],
      "id": "P2wfiDK9Sobs"
    },
    {
      "cell_type": "code",
      "execution_count": null,
      "metadata": {
        "id": "s72CtPdf72mB"
      },
      "outputs": [],
      "source": [
        "from keras import initializers\n",
        "#tf.random.set_seed(42)\n",
        "N_LABELS = 5\n",
        "EPOCHS = 20\n",
        "batch_size = 32\n",
        "LR = 0.0001\n",
        "acc_per_fold = []\n",
        "loss_per_fold = []"
      ],
      "id": "s72CtPdf72mB"
    },
    {
      "cell_type": "code",
      "execution_count": null,
      "metadata": {
        "id": "J6_HsSZON-hM"
      },
      "outputs": [],
      "source": [
        "reconstructed_model = keras.models.load_model(\"my_h5_model.h5\")"
      ],
      "id": "J6_HsSZON-hM"
    },
    {
      "cell_type": "markdown",
      "metadata": {
        "id": "z6pcQwvLTC5C"
      },
      "source": [
        "## K-fold train"
      ],
      "id": "z6pcQwvLTC5C"
    },
    {
      "cell_type": "code",
      "execution_count": null,
      "metadata": {
        "colab": {
          "background_save": true
        },
        "id": "yXDrQVCP7ruG"
      },
      "outputs": [],
      "source": [
        "# K-fold Cross Validation model evaluation\n",
        "fold_no = 1\n",
        "for train, test in kfold.split(X, y):\n",
        "  N_LABELS = 5\n",
        "  EPOCHS = 30\n",
        "  LR = 1e-4\n",
        "  batch_size = 32\n",
        "  ##################\n",
        "  #2048-5 = \n",
        "  initializer = tf.keras.initializers.Identity()\n",
        "  model_all_0 = tf.keras.Sequential([\n",
        "      feature_extractor_layer_resnet,\n",
        "      Dense(512, activation='relu', name='hidden_layer_1'),\n",
        "      Dense(512, activation='relu', name='hidden_layer_2'),\n",
        "      Dense(128, activation='relu', name='hidden_layer_3'),\n",
        "      Dense(N_LABELS, activation='sigmoid', name='output')\n",
        "  ])\n",
        "  # Compile the model\n",
        "  model_all_0.compile(\n",
        "    optimizer=tf.keras.optimizers.Adam(learning_rate=LR),\n",
        "    loss='binary_crossentropy',\n",
        "    metrics=['accuracy'])\n",
        "\n",
        "  history = model_all_0.fit(X[train], y[train],\n",
        "              batch_size=batch_size,\n",
        "              epochs=EPOCHS,\n",
        "              validation_data=(X[test], y[test]))\n",
        "\n",
        "  # Generate generalization metrics\n",
        "  scores = model_all_0.evaluate(X[test], y[test], verbose=1)\n",
        "  print(f'Score for fold {fold_no}: {model_all_0.metrics_names[0]} of {scores[0]}; {model_all_0.metrics_names[1]} of {scores[1]*100}%')\n",
        "  acc_per_fold.append(scores[1] * 100)\n",
        "  loss_per_fold.append(scores[0])\n",
        "\n",
        "  # Increase fold number\n",
        "  fold_no = fold_no + 1"
      ],
      "id": "yXDrQVCP7ruG"
    },
    {
      "cell_type": "code",
      "execution_count": null,
      "metadata": {
        "id": "sFhCQQiQTDmB"
      },
      "outputs": [],
      "source": [
        "# == Provide average scores ==\n",
        "print('------------------------------------------------------------------------')\n",
        "print('Score per fold')\n",
        "for i in range(0, len(acc_per_fold)):\n",
        "  print('------------------------------------------------------------------------')\n",
        "  print(f'> Fold {i+1} - Loss: {loss_per_fold[i]} - Accuracy: {acc_per_fold[i]}%')\n",
        "print('------------------------------------------------------------------------')\n",
        "print('Average scores for all folds:')\n",
        "print(f'> Accuracy: {np.mean(acc_per_fold)} (+- {np.std(acc_per_fold)})')\n",
        "print(f'> Loss: {np.mean(loss_per_fold)}')\n",
        "print('------------------------------------------------------------------------')\n"
      ],
      "id": "sFhCQQiQTDmB"
    },
    {
      "cell_type": "markdown",
      "metadata": {
        "id": "xq4biatLTZSp"
      },
      "source": [
        "## Backbone resnet101"
      ],
      "id": "xq4biatLTZSp"
    },
    {
      "cell_type": "code",
      "execution_count": 24,
      "metadata": {
        "id": "03azdjz4Xoe9"
      },
      "outputs": [],
      "source": [
        "feature_extractor_url_resnet = \"https://tfhub.dev/google/imagenet/resnet_v2_101/feature_vector/5\"\n",
        "feature_extractor_layer_resnet = hub.KerasLayer(feature_extractor_url_resnet,\n",
        "                                         input_shape=(IMG_SIZE,IMG_SIZE,CHANNELS))"
      ],
      "id": "03azdjz4Xoe9"
    },
    {
      "cell_type": "code",
      "execution_count": null,
      "metadata": {
        "id": "xqv_eH2BQ_Ji"
      },
      "outputs": [],
      "source": [
        "feature_extractor_url_eff = \"https://tfhub.dev/google/imagenet/efficientnet_v2_imagenet1k_b0/feature_vector/2\"\n",
        "feature_extractor_layer_eff = hub.KerasLayer(feature_extractor_url_resnet,\n",
        "                                         input_shape=(IMG_SIZE,IMG_SIZE,CHANNELS))"
      ],
      "id": "xqv_eH2BQ_Ji"
    },
    {
      "cell_type": "code",
      "execution_count": null,
      "metadata": {
        "id": "1ublyrIrVGuy"
      },
      "outputs": [],
      "source": [
        "print(\"Thickness of the model:\", len(feature_extractor_layer_resnet.weights))\n",
        "#list(feature_extractor_layer_resnet.layers)"
      ],
      "id": "1ublyrIrVGuy"
    },
    {
      "cell_type": "code",
      "execution_count": 25,
      "metadata": {
        "id": "Fp_2olObVxwr"
      },
      "outputs": [],
      "source": [
        "feature_extractor_layer_resnet.trainable = False"
      ],
      "id": "Fp_2olObVxwr"
    },
    {
      "cell_type": "code",
      "execution_count": null,
      "metadata": {
        "id": "verllFrzHVAq"
      },
      "outputs": [],
      "source": [
        "#X, y = create_dataset_aug()\n",
        "X, y = create_mydataset_all()\n",
        "X_train, X_test, y_train, y_test = train_test_split(X, y, random_state=20, test_size=0.2, shuffle=True)\n",
        "X_train.shape, y_train.shape\n",
        "del X\n",
        "del y"
      ],
      "id": "verllFrzHVAq"
    },
    {
      "cell_type": "code",
      "execution_count": null,
      "metadata": {
        "id": "4eFUpI3IKODa"
      },
      "outputs": [],
      "source": [
        "#tf.random.set_seed(42)"
      ],
      "id": "4eFUpI3IKODa"
    },
    {
      "cell_type": "markdown",
      "metadata": {
        "id": "6bSiHSMxTdpn"
      },
      "source": [
        "## Unit Test"
      ],
      "id": "6bSiHSMxTdpn"
    },
    {
      "cell_type": "code",
      "source": [
        "dense = [2048, 1024, 512, 256, 128, 64, 32, 16, 10, 5]"
      ],
      "metadata": {
        "id": "MGdMpvjwmIFQ"
      },
      "id": "MGdMpvjwmIFQ",
      "execution_count": 19,
      "outputs": []
    },
    {
      "cell_type": "code",
      "source": [
        "tested = 0\n",
        "for i in range(len(dense)):\n",
        "  for j in range(len(dense)-i):\n",
        "    for k in range(len(dense)-j-i):\n",
        "      for l in range(len(dense)-j-i-k):\n",
        "        if tested >-1:\n",
        "          print('Trained')\n",
        "        else:\n",
        "          title = '2048_'+str(dense[i])+'_'+str(dense[j+i])+'_'+str(dense[k+j+i])+'_'+str(dense[k+j+i+l])\n",
        "          print(title)\n",
        "        tested = tested-1"
      ],
      "metadata": {
        "id": "UFEAGvrBpli9"
      },
      "id": "UFEAGvrBpli9",
      "execution_count": null,
      "outputs": []
    },
    {
      "cell_type": "code",
      "execution_count": null,
      "metadata": {
        "colab": {
          "base_uri": "https://localhost:8080/"
        },
        "id": "Wq0j72qtR6pZ",
        "outputId": "eaf2cd42-ce21-4c42-e216-de3544ae111c"
      },
      "outputs": [
        {
          "output_type": "stream",
          "name": "stdout",
          "text": [
            "Trained\n",
            "Epoch 1/30\n",
            "84/84 [==============================] - 32s 212ms/step - loss: 0.1773 - accuracy: 0.5465 - val_loss: 0.0398 - val_accuracy: 0.5862\n",
            "Epoch 2/30\n",
            "84/84 [==============================] - 15s 179ms/step - loss: 0.0325 - accuracy: 0.5832 - val_loss: 0.0138 - val_accuracy: 0.5877\n",
            "Epoch 3/30\n",
            "84/84 [==============================] - 15s 182ms/step - loss: 0.0056 - accuracy: 0.5622 - val_loss: 0.0126 - val_accuracy: 0.6372\n",
            "Epoch 4/30\n",
            "84/84 [==============================] - 15s 185ms/step - loss: 0.0024 - accuracy: 0.5712 - val_loss: 0.0062 - val_accuracy: 0.5547\n",
            "Epoch 5/30\n",
            "84/84 [==============================] - 16s 187ms/step - loss: 3.7176e-04 - accuracy: 0.5311 - val_loss: 0.0036 - val_accuracy: 0.5592\n",
            "Epoch 6/30\n",
            "84/84 [==============================] - 16s 191ms/step - loss: 1.3179e-04 - accuracy: 0.5420 - val_loss: 0.0030 - val_accuracy: 0.5742\n",
            "Epoch 7/30\n",
            "84/84 [==============================] - 16s 194ms/step - loss: 7.8946e-05 - accuracy: 0.5450 - val_loss: 0.0028 - val_accuracy: 0.5802\n",
            "Epoch 8/30\n",
            "84/84 [==============================] - 16s 189ms/step - loss: 5.6828e-05 - accuracy: 0.5450 - val_loss: 0.0027 - val_accuracy: 0.5772\n",
            "Epoch 9/30\n",
            "84/84 [==============================] - 16s 188ms/step - loss: 4.2170e-05 - accuracy: 0.5480 - val_loss: 0.0026 - val_accuracy: 0.5757\n",
            "Epoch 10/30\n",
            "84/84 [==============================] - 16s 188ms/step - loss: 3.2818e-05 - accuracy: 0.5465 - val_loss: 0.0026 - val_accuracy: 0.5742\n",
            "Epoch 11/30\n",
            "84/84 [==============================] - 16s 190ms/step - loss: 2.6399e-05 - accuracy: 0.5472 - val_loss: 0.0024 - val_accuracy: 0.5787\n",
            "Epoch 12/30\n",
            "84/84 [==============================] - 16s 191ms/step - loss: 2.1386e-05 - accuracy: 0.5491 - val_loss: 0.0024 - val_accuracy: 0.5712\n",
            "Epoch 13/30\n",
            "84/84 [==============================] - 16s 190ms/step - loss: 1.7700e-05 - accuracy: 0.5521 - val_loss: 0.0023 - val_accuracy: 0.5772\n",
            "Epoch 14/30\n",
            "84/84 [==============================] - 16s 189ms/step - loss: 1.4692e-05 - accuracy: 0.5532 - val_loss: 0.0021 - val_accuracy: 0.5652\n",
            "Epoch 15/30\n",
            "84/84 [==============================] - 16s 191ms/step - loss: 1.2298e-05 - accuracy: 0.5491 - val_loss: 0.0022 - val_accuracy: 0.5877\n",
            "Epoch 16/30\n",
            "84/84 [==============================] - 18s 214ms/step - loss: 1.0496e-05 - accuracy: 0.5528 - val_loss: 0.0021 - val_accuracy: 0.5817\n",
            "Epoch 17/30\n",
            "84/84 [==============================] - 16s 189ms/step - loss: 8.9103e-06 - accuracy: 0.5570 - val_loss: 0.0020 - val_accuracy: 0.5817\n",
            "Epoch 18/30\n",
            "84/84 [==============================] - 16s 190ms/step - loss: 7.6190e-06 - accuracy: 0.5562 - val_loss: 0.0022 - val_accuracy: 0.5877\n",
            "Epoch 19/30\n",
            "84/84 [==============================] - 16s 190ms/step - loss: 6.6521e-06 - accuracy: 0.5592 - val_loss: 0.0022 - val_accuracy: 0.5832\n",
            "Epoch 20/30\n",
            "84/84 [==============================] - 16s 190ms/step - loss: 5.8291e-06 - accuracy: 0.5585 - val_loss: 0.0020 - val_accuracy: 0.5922\n",
            "Epoch 21/30\n",
            "84/84 [==============================] - 16s 190ms/step - loss: 5.0096e-06 - accuracy: 0.5588 - val_loss: 0.0019 - val_accuracy: 0.5907\n",
            "Epoch 22/30\n",
            "84/84 [==============================] - 16s 189ms/step - loss: 4.4495e-06 - accuracy: 0.5626 - val_loss: 0.0019 - val_accuracy: 0.5952\n",
            "Epoch 23/30\n",
            "84/84 [==============================] - 16s 189ms/step - loss: 3.8830e-06 - accuracy: 0.5626 - val_loss: 0.0021 - val_accuracy: 0.5892\n",
            "Epoch 24/30\n",
            "84/84 [==============================] - 16s 191ms/step - loss: 3.5124e-06 - accuracy: 0.5626 - val_loss: 0.0020 - val_accuracy: 0.5907\n",
            "Epoch 25/30\n",
            "84/84 [==============================] - 16s 190ms/step - loss: 3.0761e-06 - accuracy: 0.5618 - val_loss: 0.0020 - val_accuracy: 0.5922\n",
            "Epoch 26/30\n",
            "84/84 [==============================] - 16s 190ms/step - loss: 2.7468e-06 - accuracy: 0.5592 - val_loss: 0.0019 - val_accuracy: 0.5922\n",
            "Epoch 27/30\n",
            "84/84 [==============================] - 16s 190ms/step - loss: 2.4697e-06 - accuracy: 0.5622 - val_loss: 0.0019 - val_accuracy: 0.5952\n",
            "Epoch 28/30\n",
            "84/84 [==============================] - 16s 189ms/step - loss: 2.2286e-06 - accuracy: 0.5618 - val_loss: 0.0020 - val_accuracy: 0.5952\n",
            "Epoch 29/30\n",
            "84/84 [==============================] - 16s 190ms/step - loss: 1.9942e-06 - accuracy: 0.5645 - val_loss: 0.0020 - val_accuracy: 0.5922\n",
            "Epoch 30/30\n",
            "84/84 [==============================] - 16s 190ms/step - loss: 1.8197e-06 - accuracy: 0.5607 - val_loss: 0.0020 - val_accuracy: 0.5937\n",
            "Model: 2048_2048_2048_2048_1024_5\n",
            "=================================================================================\n",
            "Epoch 1/30\n",
            "84/84 [==============================] - 20s 206ms/step - loss: 0.2000 - accuracy: 0.5513 - val_loss: 0.0561 - val_accuracy: 0.5637\n",
            "Epoch 2/30\n",
            "84/84 [==============================] - 16s 194ms/step - loss: 0.0264 - accuracy: 0.5986 - val_loss: 0.0182 - val_accuracy: 0.6237\n",
            "Epoch 3/30\n",
            "84/84 [==============================] - 16s 194ms/step - loss: 0.0083 - accuracy: 0.5930 - val_loss: 0.0071 - val_accuracy: 0.5832\n",
            "Epoch 4/30\n",
            "84/84 [==============================] - 16s 189ms/step - loss: 0.0050 - accuracy: 0.5821 - val_loss: 0.0068 - val_accuracy: 0.6312\n",
            "Epoch 5/30\n",
            "84/84 [==============================] - 16s 187ms/step - loss: 4.9222e-04 - accuracy: 0.5813 - val_loss: 0.0027 - val_accuracy: 0.6147\n",
            "Epoch 6/30\n",
            "84/84 [==============================] - 16s 188ms/step - loss: 1.6259e-04 - accuracy: 0.5851 - val_loss: 0.0024 - val_accuracy: 0.6117\n",
            "Epoch 7/30\n",
            "84/84 [==============================] - 16s 190ms/step - loss: 9.9995e-05 - accuracy: 0.5821 - val_loss: 0.0024 - val_accuracy: 0.6147\n",
            "Epoch 8/30\n",
            "84/84 [==============================] - 16s 191ms/step - loss: 6.9929e-05 - accuracy: 0.5791 - val_loss: 0.0020 - val_accuracy: 0.6042\n",
            "Epoch 9/30\n",
            "84/84 [==============================] - 16s 192ms/step - loss: 5.2003e-05 - accuracy: 0.5813 - val_loss: 0.0020 - val_accuracy: 0.6117\n",
            "Epoch 10/30\n",
            "84/84 [==============================] - 16s 189ms/step - loss: 3.8518e-05 - accuracy: 0.5791 - val_loss: 0.0018 - val_accuracy: 0.6102\n",
            "Epoch 11/30\n",
            "84/84 [==============================] - 16s 189ms/step - loss: 3.0378e-05 - accuracy: 0.5795 - val_loss: 0.0019 - val_accuracy: 0.6072\n",
            "Epoch 12/30\n",
            "84/84 [==============================] - 16s 190ms/step - loss: 2.4174e-05 - accuracy: 0.5813 - val_loss: 0.0019 - val_accuracy: 0.6072\n",
            "Epoch 13/30\n",
            "84/84 [==============================] - 16s 190ms/step - loss: 1.9274e-05 - accuracy: 0.5813 - val_loss: 0.0018 - val_accuracy: 0.6057\n",
            "Epoch 14/30\n",
            "84/84 [==============================] - 16s 190ms/step - loss: 1.6093e-05 - accuracy: 0.5817 - val_loss: 0.0020 - val_accuracy: 0.6072\n",
            "Epoch 15/30\n",
            "84/84 [==============================] - 16s 190ms/step - loss: 1.2960e-05 - accuracy: 0.5795 - val_loss: 0.0018 - val_accuracy: 0.6177\n",
            "Epoch 16/30\n",
            "84/84 [==============================] - 16s 190ms/step - loss: 1.1055e-05 - accuracy: 0.5885 - val_loss: 0.0018 - val_accuracy: 0.6087\n",
            "Epoch 17/30\n",
            "84/84 [==============================] - 16s 190ms/step - loss: 9.2173e-06 - accuracy: 0.5783 - val_loss: 0.0019 - val_accuracy: 0.6147\n",
            "Epoch 18/30\n",
            "84/84 [==============================] - 16s 190ms/step - loss: 7.9941e-06 - accuracy: 0.5866 - val_loss: 0.0017 - val_accuracy: 0.6087\n",
            "Epoch 19/30\n",
            "84/84 [==============================] - 16s 189ms/step - loss: 6.8251e-06 - accuracy: 0.5855 - val_loss: 0.0019 - val_accuracy: 0.6102\n",
            "Epoch 20/30\n",
            "84/84 [==============================] - 16s 189ms/step - loss: 6.0112e-06 - accuracy: 0.5832 - val_loss: 0.0018 - val_accuracy: 0.6117\n",
            "Epoch 21/30\n",
            "84/84 [==============================] - 16s 189ms/step - loss: 5.1982e-06 - accuracy: 0.5828 - val_loss: 0.0018 - val_accuracy: 0.6177\n",
            "Epoch 22/30\n",
            "84/84 [==============================] - 16s 190ms/step - loss: 4.5981e-06 - accuracy: 0.5855 - val_loss: 0.0018 - val_accuracy: 0.6132\n",
            "Epoch 23/30\n",
            "84/84 [==============================] - 16s 190ms/step - loss: 4.1095e-06 - accuracy: 0.5851 - val_loss: 0.0017 - val_accuracy: 0.6147\n",
            "Epoch 24/30\n",
            "84/84 [==============================] - 16s 190ms/step - loss: 3.6585e-06 - accuracy: 0.5858 - val_loss: 0.0018 - val_accuracy: 0.6117\n",
            "Epoch 25/30\n",
            "84/84 [==============================] - 16s 190ms/step - loss: 3.2474e-06 - accuracy: 0.5825 - val_loss: 0.0018 - val_accuracy: 0.6147\n",
            "Epoch 26/30\n",
            "84/84 [==============================] - 16s 191ms/step - loss: 2.9042e-06 - accuracy: 0.5821 - val_loss: 0.0018 - val_accuracy: 0.6177\n",
            "Epoch 27/30\n",
            "84/84 [==============================] - 16s 190ms/step - loss: 2.6290e-06 - accuracy: 0.5866 - val_loss: 0.0017 - val_accuracy: 0.6087\n",
            "Epoch 28/30\n",
            "84/84 [==============================] - 16s 190ms/step - loss: 2.3709e-06 - accuracy: 0.5817 - val_loss: 0.0017 - val_accuracy: 0.6147\n",
            "Epoch 29/30\n",
            "84/84 [==============================] - 16s 189ms/step - loss: 2.1427e-06 - accuracy: 0.5810 - val_loss: 0.0017 - val_accuracy: 0.6192\n",
            "Epoch 30/30\n",
            "84/84 [==============================] - 16s 190ms/step - loss: 1.9472e-06 - accuracy: 0.5832 - val_loss: 0.0017 - val_accuracy: 0.6192\n",
            "Model: 2048_2048_2048_2048_512_5\n",
            "=================================================================================\n",
            "Epoch 1/30\n",
            "84/84 [==============================] - 20s 205ms/step - loss: 0.1958 - accuracy: 0.5337 - val_loss: 0.0543 - val_accuracy: 0.5817\n",
            "Epoch 2/30\n",
            "84/84 [==============================] - 16s 191ms/step - loss: 0.0222 - accuracy: 0.5753 - val_loss: 0.0155 - val_accuracy: 0.6492\n",
            "Epoch 3/30\n",
            "84/84 [==============================] - 16s 190ms/step - loss: 0.0071 - accuracy: 0.5626 - val_loss: 0.0056 - val_accuracy: 0.5877\n",
            "Epoch 4/30\n",
            "84/84 [==============================] - 16s 191ms/step - loss: 0.0035 - accuracy: 0.5543 - val_loss: 0.0049 - val_accuracy: 0.6012\n",
            "Epoch 5/30\n",
            "84/84 [==============================] - 16s 188ms/step - loss: 0.0071 - accuracy: 0.5495 - val_loss: 0.0077 - val_accuracy: 0.5952\n",
            "Epoch 6/30\n",
            "84/84 [==============================] - 16s 189ms/step - loss: 0.0010 - accuracy: 0.5352 - val_loss: 0.0037 - val_accuracy: 0.5412\n",
            "Epoch 7/30\n",
            "84/84 [==============================] - 16s 190ms/step - loss: 1.5440e-04 - accuracy: 0.5206 - val_loss: 0.0031 - val_accuracy: 0.5547\n",
            "Epoch 8/30\n",
            "84/84 [==============================] - 16s 190ms/step - loss: 8.7150e-05 - accuracy: 0.5270 - val_loss: 0.0028 - val_accuracy: 0.5532\n",
            "Epoch 9/30\n",
            "84/84 [==============================] - 16s 189ms/step - loss: 5.7379e-05 - accuracy: 0.5266 - val_loss: 0.0027 - val_accuracy: 0.5637\n",
            "Epoch 10/30\n",
            "84/84 [==============================] - 16s 189ms/step - loss: 3.9769e-05 - accuracy: 0.5349 - val_loss: 0.0024 - val_accuracy: 0.5652\n",
            "Epoch 11/30\n",
            "84/84 [==============================] - 16s 189ms/step - loss: 2.8873e-05 - accuracy: 0.5352 - val_loss: 0.0021 - val_accuracy: 0.5652\n",
            "Epoch 12/30\n",
            "84/84 [==============================] - 16s 191ms/step - loss: 2.1513e-05 - accuracy: 0.5360 - val_loss: 0.0021 - val_accuracy: 0.5772\n",
            "Epoch 13/30\n",
            "84/84 [==============================] - 16s 189ms/step - loss: 1.6751e-05 - accuracy: 0.5360 - val_loss: 0.0021 - val_accuracy: 0.5652\n",
            "Epoch 14/30\n",
            "84/84 [==============================] - 16s 189ms/step - loss: 1.3187e-05 - accuracy: 0.5394 - val_loss: 0.0020 - val_accuracy: 0.5652\n",
            "Epoch 15/30\n",
            "84/84 [==============================] - 16s 190ms/step - loss: 1.0746e-05 - accuracy: 0.5386 - val_loss: 0.0019 - val_accuracy: 0.5757\n",
            "Epoch 16/30\n",
            "84/84 [==============================] - 18s 214ms/step - loss: 8.9898e-06 - accuracy: 0.5435 - val_loss: 0.0019 - val_accuracy: 0.5712\n",
            "Epoch 17/30\n",
            "84/84 [==============================] - 16s 189ms/step - loss: 7.6505e-06 - accuracy: 0.5484 - val_loss: 0.0020 - val_accuracy: 0.5742\n",
            "Epoch 18/30\n",
            "84/84 [==============================] - 16s 190ms/step - loss: 6.5975e-06 - accuracy: 0.5412 - val_loss: 0.0019 - val_accuracy: 0.5742\n",
            "Epoch 19/30\n",
            "84/84 [==============================] - 16s 190ms/step - loss: 5.6089e-06 - accuracy: 0.5424 - val_loss: 0.0019 - val_accuracy: 0.5877\n",
            "Epoch 20/30\n",
            " 7/84 [=>............................] - ETA: 11s - loss: 7.9648e-06 - accuracy: 0.5714"
          ]
        }
      ],
      "source": [
        "tested = 0\n",
        "for i in range(len(dense)):\n",
        "  for j in range(len(dense)-i):\n",
        "    for k in range(len(dense)-j-i):\n",
        "      for l in range(len(dense)-j-i-k):\n",
        "        if tested >-1:\n",
        "          print('Trained')\n",
        "        else:\n",
        "          N_LABELS = 5\n",
        "          EPOCHS = 30\n",
        "          LR = 1e-4\n",
        "          batch_size = 32\n",
        "          ##################\n",
        "          #2048-5 = \n",
        "          initializer = tf.keras.initializers.Identity()\n",
        "          model_all_0 = tf.keras.Sequential([\n",
        "              feature_extractor_layer_resnet,\n",
        "              Dense(2048, activation='relu', name='hidden_layer_1'),\n",
        "              Dense(dense[i], activation='relu', name='hidden_layer_2'),\n",
        "              Dense(dense[j+i], activation='relu', name='hidden_layer_3'),\n",
        "              Dense(dense[k+j+i], activation='relu', name='hidden_layer_4'),\n",
        "              Dense(dense[k+j+i+l], activation='relu', name='hidden_layer_5'),\n",
        "              Dense(N_LABELS, activation='sigmoid', name='output')\n",
        "          ])\n",
        "          # Compile the model\n",
        "\n",
        "          model_all_0.compile(\n",
        "            optimizer=tf.keras.optimizers.Adam(learning_rate=LR),\n",
        "            loss='binary_crossentropy',\n",
        "            metrics=['accuracy'])\n",
        "\n",
        "          history = model_all_0.fit(X_train, y_train,\n",
        "                      batch_size=batch_size,\n",
        "                      epochs=EPOCHS,\n",
        "                      validation_data=(X_test, y_test))\n",
        "          title = title = '2048_'+str(dense[i])+'_'+str(dense[j+i])+'_'+str(dense[k+j+i])+'_'+str(dense[k+j+i+l])+'_5'\n",
        "          print(\"Model: \"+title)\n",
        "          print(\"=================================================================================\")\n",
        "          plot_curves(history, title)\n",
        "        tested = tested -1"
      ],
      "id": "Wq0j72qtR6pZ"
    },
    {
      "cell_type": "code",
      "source": [
        "!zip -r data.zip imgs/"
      ],
      "metadata": {
        "id": "pkMunXT4nIPl"
      },
      "id": "pkMunXT4nIPl",
      "execution_count": null,
      "outputs": []
    },
    {
      "cell_type": "code",
      "execution_count": null,
      "metadata": {
        "id": "x9EOUrQmS8zF"
      },
      "outputs": [],
      "source": [
        "\n",
        "base_model.trainable = True\n",
        "# Freeze all layers except for the\n",
        "for layer in base_model.layers[:-10]:\n",
        "  layer.trainable = False"
      ],
      "id": "x9EOUrQmS8zF"
    },
    {
      "cell_type": "markdown",
      "metadata": {
        "id": "k4LvhZIwThWc"
      },
      "source": [
        "## Experiments\n"
      ],
      "id": "k4LvhZIwThWc"
    },
    {
      "cell_type": "markdown",
      "metadata": {
        "id": "wLotyvR-TpaT"
      },
      "source": [
        "\n",
        "\n",
        "### Approved model\n"
      ],
      "id": "wLotyvR-TpaT"
    },
    {
      "cell_type": "code",
      "execution_count": null,
      "metadata": {
        "colab": {
          "base_uri": "https://localhost:8080/"
        },
        "id": "f6SoWUvngTUr",
        "outputId": "df6b0614-8b85-4205-fa40-29cc9e825841"
      },
      "outputs": [
        {
          "name": "stdout",
          "output_type": "stream",
          "text": [
            "------------------------------------------------------------------------\n",
            "Score per fold\n",
            "------------------------------------------------------------------------\n",
            "> Fold 1 - Loss: 0.27525442838668823 - Accuracy: 52.768731117248535%\n",
            "------------------------------------------------------------------------\n",
            "> Fold 2 - Loss: 0.20195697247982025 - Accuracy: 96.09120488166809%\n",
            "------------------------------------------------------------------------\n",
            "> Fold 3 - Loss: 0.18232537806034088 - Accuracy: 56.02605938911438%\n",
            "------------------------------------------------------------------------\n",
            "> Fold 4 - Loss: 0.23135672509670258 - Accuracy: 80.06535768508911%\n",
            "------------------------------------------------------------------------\n",
            "> Fold 5 - Loss: 0.15090304613113403 - Accuracy: 57.189542055130005%\n",
            "------------------------------------------------------------------------\n",
            "> Fold 6 - Loss: 0.13643944263458252 - Accuracy: 70.58823704719543%\n",
            "------------------------------------------------------------------------\n",
            "Average scores for all folds:\n",
            "> Accuracy: 68.78818869590759 (+- 15.437470522362245)\n",
            "> Loss: 0.19637266546487808\n",
            "------------------------------------------------------------------------\n"
          ]
        }
      ],
      "source": [
        "# == Provide average scores ==\n",
        "print('------------------------------------------------------------------------')\n",
        "print('Score per fold')\n",
        "for i in range(0, len(acc_per_fold)):\n",
        "  print('------------------------------------------------------------------------')\n",
        "  print(f'> Fold {i+1} - Loss: {loss_per_fold[i]} - Accuracy: {acc_per_fold[i]}%')\n",
        "print('------------------------------------------------------------------------')\n",
        "print('Average scores for all folds:')\n",
        "print(f'> Accuracy: {np.mean(acc_per_fold)} (+- {np.std(acc_per_fold)})')\n",
        "print(f'> Loss: {np.mean(loss_per_fold)}')\n",
        "print('------------------------------------------------------------------------')\n"
      ],
      "id": "f6SoWUvngTUr"
    }
  ],
  "metadata": {
    "accelerator": "GPU",
    "colab": {
      "provenance": [],
      "include_colab_link": true
    },
    "gpuClass": "standard",
    "kernelspec": {
      "display_name": "Python 3 (ipykernel)",
      "language": "python",
      "name": "python3"
    },
    "language_info": {
      "codemirror_mode": {
        "name": "ipython",
        "version": 3
      },
      "file_extension": ".py",
      "mimetype": "text/x-python",
      "name": "python",
      "nbconvert_exporter": "python",
      "pygments_lexer": "ipython3",
      "version": "3.10.7"
    }
  },
  "nbformat": 4,
  "nbformat_minor": 5
}