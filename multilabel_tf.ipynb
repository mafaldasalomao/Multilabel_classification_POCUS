{
  "cells": [
    {
      "cell_type": "markdown",
      "metadata": {
        "id": "view-in-github",
        "colab_type": "text"
      },
      "source": [
        "<a href=\"https://colab.research.google.com/github/mafaldasalomao/multilabel_classification_pocus/blob/main/multilabel_tf.ipynb\" target=\"_parent\"><img src=\"https://colab.research.google.com/assets/colab-badge.svg\" alt=\"Open In Colab\"/></a>"
      ]
    },
    {
      "cell_type": "code",
      "execution_count": 1,
      "metadata": {
        "id": "36c4e51a"
      },
      "outputs": [],
      "source": [
        "#Import suppporting libraries\n",
        "import tarfile\n",
        "import urllib.request as urllib2\n",
        "import os\n",
        "import cv2\n",
        "from os import listdir\n",
        "from os.path import isfile, join\n",
        "import re\n",
        "#Import deep learning libraries\n",
        "import cv2\n",
        "import os\n",
        "import pandas as pd\n",
        "import numpy as np\n",
        "import tensorflow as tf\n",
        "import matplotlib.pyplot as plt\n",
        "import tensorflow.keras as keras\n",
        "from tensorflow.keras.models import Sequential\n",
        "from tensorflow.keras.layers import Dense, Dropout, Flatten, Conv2D, MaxPooling2D, BatchNormalization\n",
        "from tensorflow.keras.preprocessing import image\n",
        "from sklearn.model_selection import train_test_split\n",
        "from sklearn.model_selection import KFold\n",
        "import tqdm as tqdm\n",
        "import tensorflow_hub as hub\n",
        "\n",
        "#Import data analytics libraries\n",
        "import matplotlib.pyplot as plt\n",
        "import matplotlib.image as img\n",
        "import numpy as np\n",
        "import scipy.io\n",
        "import pandas as pd\n",
        "import seaborn as sns\n",
        "#Import image visualization libraries\n",
        "from PIL import *\n",
        "from PIL import ImageFile\n",
        "from PIL import Image\n",
        "#System settings\n",
        "ImageFile.LOAD_TRUNCATED_IMAGES = True\n",
        "os.environ['WANDB_CONSOLE'] = 'off'\n",
        "#Coloring for print outputs\n",
        "class color:\n",
        "   RED = '\\033[91m'\n",
        "   BOLD = '\\033[1m'\n",
        "   END = '\\033[0m'"
      ],
      "id": "36c4e51a"
    },
    {
      "cell_type": "code",
      "source": [
        "!nvidia-smi"
      ],
      "metadata": {
        "colab": {
          "base_uri": "https://localhost:8080/"
        },
        "id": "yLT4tb3jWYEO",
        "outputId": "e03ea76f-9b6d-47b7-93a6-14db55a1c5e3"
      },
      "id": "yLT4tb3jWYEO",
      "execution_count": null,
      "outputs": [
        {
          "output_type": "stream",
          "name": "stdout",
          "text": [
            "Thu Dec 22 19:40:10 2022       \n",
            "+-----------------------------------------------------------------------------+\n",
            "| NVIDIA-SMI 460.32.03    Driver Version: 460.32.03    CUDA Version: 11.2     |\n",
            "|-------------------------------+----------------------+----------------------+\n",
            "| GPU  Name        Persistence-M| Bus-Id        Disp.A | Volatile Uncorr. ECC |\n",
            "| Fan  Temp  Perf  Pwr:Usage/Cap|         Memory-Usage | GPU-Util  Compute M. |\n",
            "|                               |                      |               MIG M. |\n",
            "|===============================+======================+======================|\n",
            "|   0  Tesla T4            Off  | 00000000:00:04.0 Off |                    0 |\n",
            "| N/A   69C    P0    31W /  70W |      0MiB / 15109MiB |      0%      Default |\n",
            "|                               |                      |                  N/A |\n",
            "+-------------------------------+----------------------+----------------------+\n",
            "                                                                               \n",
            "+-----------------------------------------------------------------------------+\n",
            "| Processes:                                                                  |\n",
            "|  GPU   GI   CI        PID   Type   Process name                  GPU Memory |\n",
            "|        ID   ID                                                   Usage      |\n",
            "|=============================================================================|\n",
            "|  No running processes found                                                 |\n",
            "+-----------------------------------------------------------------------------+\n"
          ]
        }
      ]
    },
    {
      "cell_type": "code",
      "execution_count": 3,
      "metadata": {
        "colab": {
          "base_uri": "https://localhost:8080/"
        },
        "id": "RPQUiGWYUBSB",
        "outputId": "b13c401b-dc28-4c8b-dd57-f0266441b964"
      },
      "outputs": [
        {
          "output_type": "stream",
          "name": "stdout",
          "text": [
            "Mounted at /content/drive\n"
          ]
        }
      ],
      "source": [
        "from google.colab import drive\n",
        "drive.mount('/content/drive')"
      ],
      "id": "RPQUiGWYUBSB"
    },
    {
      "cell_type": "code",
      "execution_count": 4,
      "metadata": {
        "id": "Ly0UuR9UUegJ"
      },
      "outputs": [],
      "source": [
        "!cp  /content/drive/MyDrive/datasets/convex.zip /content/"
      ],
      "id": "Ly0UuR9UUegJ"
    },
    {
      "cell_type": "code",
      "execution_count": 5,
      "metadata": {
        "id": "mPQZVh0jnNxN"
      },
      "outputs": [],
      "source": [
        "!cp /content/drive/MyDrive/datasets/dataset_metadata.csv /content/"
      ],
      "id": "mPQZVh0jnNxN"
    },
    {
      "cell_type": "code",
      "execution_count": 6,
      "metadata": {
        "id": "w5J1X5wCDzMe"
      },
      "outputs": [],
      "source": [
        "!unzip -q convex.zip -d /content/temp"
      ],
      "id": "w5J1X5wCDzMe"
    },
    {
      "cell_type": "code",
      "execution_count": 7,
      "metadata": {
        "id": "053f4152"
      },
      "outputs": [],
      "source": [
        "path='/content/temp/convex'\n",
        "annotation_path = \"dataset_metadata.csv\"\n",
        "videos_list = os.listdir(path)"
      ],
      "id": "053f4152"
    },
    {
      "cell_type": "code",
      "execution_count": 8,
      "metadata": {
        "id": "b80ab3fe"
      },
      "outputs": [],
      "source": [
        "columns = ['Filename', 'Effusion', 'Consolidations', 'B-lines', 'A-lines', 'Pleural_line_irregularities', 'Air_bronchogram', 'Label']\n",
        "base = pd.read_csv(annotation_path, usecols=columns)"
      ],
      "id": "b80ab3fe"
    },
    {
      "cell_type": "code",
      "execution_count": 9,
      "metadata": {
        "colab": {
          "base_uri": "https://localhost:8080/",
          "height": 206
        },
        "id": "6c86410a",
        "outputId": "4325c17a-151a-4860-e000-01abcc99e440"
      },
      "outputs": [
        {
          "output_type": "execute_result",
          "data": {
            "text/plain": [
              "                              Filename     Label  Effusion  Consolidations  \\\n",
              "0           Cov-Butterfly-COVID Lung 2  COVID-19       1.0             0.0   \n",
              "1            Cov-Butterfly-Skip Lesion  COVID-19       0.0             1.0   \n",
              "2      Cov-Butterfly-Confluent B lines  COVID-19       0.0             0.0   \n",
              "3    Reg-Butterfly-Normal Lung A lines   Regular       0.0             0.0   \n",
              "4  Reg-Butterfly-Normal Lung_Example 2   Regular       0.0             0.0   \n",
              "\n",
              "   B-lines  A-lines  Pleural_line_irregularities  Air_bronchogram  \n",
              "0      1.0      0.0                          1.0              0.0  \n",
              "1      1.0      1.0                          1.0              0.0  \n",
              "2      1.0      0.0                          0.0              0.0  \n",
              "3      0.0      1.0                          0.0              0.0  \n",
              "4      0.0      0.0                          0.0              0.0  "
            ],
            "text/html": [
              "\n",
              "  <div id=\"df-759ff5d8-a741-400c-b73c-5fc5ded089b7\">\n",
              "    <div class=\"colab-df-container\">\n",
              "      <div>\n",
              "<style scoped>\n",
              "    .dataframe tbody tr th:only-of-type {\n",
              "        vertical-align: middle;\n",
              "    }\n",
              "\n",
              "    .dataframe tbody tr th {\n",
              "        vertical-align: top;\n",
              "    }\n",
              "\n",
              "    .dataframe thead th {\n",
              "        text-align: right;\n",
              "    }\n",
              "</style>\n",
              "<table border=\"1\" class=\"dataframe\">\n",
              "  <thead>\n",
              "    <tr style=\"text-align: right;\">\n",
              "      <th></th>\n",
              "      <th>Filename</th>\n",
              "      <th>Label</th>\n",
              "      <th>Effusion</th>\n",
              "      <th>Consolidations</th>\n",
              "      <th>B-lines</th>\n",
              "      <th>A-lines</th>\n",
              "      <th>Pleural_line_irregularities</th>\n",
              "      <th>Air_bronchogram</th>\n",
              "    </tr>\n",
              "  </thead>\n",
              "  <tbody>\n",
              "    <tr>\n",
              "      <th>0</th>\n",
              "      <td>Cov-Butterfly-COVID Lung 2</td>\n",
              "      <td>COVID-19</td>\n",
              "      <td>1.0</td>\n",
              "      <td>0.0</td>\n",
              "      <td>1.0</td>\n",
              "      <td>0.0</td>\n",
              "      <td>1.0</td>\n",
              "      <td>0.0</td>\n",
              "    </tr>\n",
              "    <tr>\n",
              "      <th>1</th>\n",
              "      <td>Cov-Butterfly-Skip Lesion</td>\n",
              "      <td>COVID-19</td>\n",
              "      <td>0.0</td>\n",
              "      <td>1.0</td>\n",
              "      <td>1.0</td>\n",
              "      <td>1.0</td>\n",
              "      <td>1.0</td>\n",
              "      <td>0.0</td>\n",
              "    </tr>\n",
              "    <tr>\n",
              "      <th>2</th>\n",
              "      <td>Cov-Butterfly-Confluent B lines</td>\n",
              "      <td>COVID-19</td>\n",
              "      <td>0.0</td>\n",
              "      <td>0.0</td>\n",
              "      <td>1.0</td>\n",
              "      <td>0.0</td>\n",
              "      <td>0.0</td>\n",
              "      <td>0.0</td>\n",
              "    </tr>\n",
              "    <tr>\n",
              "      <th>3</th>\n",
              "      <td>Reg-Butterfly-Normal Lung A lines</td>\n",
              "      <td>Regular</td>\n",
              "      <td>0.0</td>\n",
              "      <td>0.0</td>\n",
              "      <td>0.0</td>\n",
              "      <td>1.0</td>\n",
              "      <td>0.0</td>\n",
              "      <td>0.0</td>\n",
              "    </tr>\n",
              "    <tr>\n",
              "      <th>4</th>\n",
              "      <td>Reg-Butterfly-Normal Lung_Example 2</td>\n",
              "      <td>Regular</td>\n",
              "      <td>0.0</td>\n",
              "      <td>0.0</td>\n",
              "      <td>0.0</td>\n",
              "      <td>0.0</td>\n",
              "      <td>0.0</td>\n",
              "      <td>0.0</td>\n",
              "    </tr>\n",
              "  </tbody>\n",
              "</table>\n",
              "</div>\n",
              "      <button class=\"colab-df-convert\" onclick=\"convertToInteractive('df-759ff5d8-a741-400c-b73c-5fc5ded089b7')\"\n",
              "              title=\"Convert this dataframe to an interactive table.\"\n",
              "              style=\"display:none;\">\n",
              "        \n",
              "  <svg xmlns=\"http://www.w3.org/2000/svg\" height=\"24px\"viewBox=\"0 0 24 24\"\n",
              "       width=\"24px\">\n",
              "    <path d=\"M0 0h24v24H0V0z\" fill=\"none\"/>\n",
              "    <path d=\"M18.56 5.44l.94 2.06.94-2.06 2.06-.94-2.06-.94-.94-2.06-.94 2.06-2.06.94zm-11 1L8.5 8.5l.94-2.06 2.06-.94-2.06-.94L8.5 2.5l-.94 2.06-2.06.94zm10 10l.94 2.06.94-2.06 2.06-.94-2.06-.94-.94-2.06-.94 2.06-2.06.94z\"/><path d=\"M17.41 7.96l-1.37-1.37c-.4-.4-.92-.59-1.43-.59-.52 0-1.04.2-1.43.59L10.3 9.45l-7.72 7.72c-.78.78-.78 2.05 0 2.83L4 21.41c.39.39.9.59 1.41.59.51 0 1.02-.2 1.41-.59l7.78-7.78 2.81-2.81c.8-.78.8-2.07 0-2.86zM5.41 20L4 18.59l7.72-7.72 1.47 1.35L5.41 20z\"/>\n",
              "  </svg>\n",
              "      </button>\n",
              "      \n",
              "  <style>\n",
              "    .colab-df-container {\n",
              "      display:flex;\n",
              "      flex-wrap:wrap;\n",
              "      gap: 12px;\n",
              "    }\n",
              "\n",
              "    .colab-df-convert {\n",
              "      background-color: #E8F0FE;\n",
              "      border: none;\n",
              "      border-radius: 50%;\n",
              "      cursor: pointer;\n",
              "      display: none;\n",
              "      fill: #1967D2;\n",
              "      height: 32px;\n",
              "      padding: 0 0 0 0;\n",
              "      width: 32px;\n",
              "    }\n",
              "\n",
              "    .colab-df-convert:hover {\n",
              "      background-color: #E2EBFA;\n",
              "      box-shadow: 0px 1px 2px rgba(60, 64, 67, 0.3), 0px 1px 3px 1px rgba(60, 64, 67, 0.15);\n",
              "      fill: #174EA6;\n",
              "    }\n",
              "\n",
              "    [theme=dark] .colab-df-convert {\n",
              "      background-color: #3B4455;\n",
              "      fill: #D2E3FC;\n",
              "    }\n",
              "\n",
              "    [theme=dark] .colab-df-convert:hover {\n",
              "      background-color: #434B5C;\n",
              "      box-shadow: 0px 1px 3px 1px rgba(0, 0, 0, 0.15);\n",
              "      filter: drop-shadow(0px 1px 2px rgba(0, 0, 0, 0.3));\n",
              "      fill: #FFFFFF;\n",
              "    }\n",
              "  </style>\n",
              "\n",
              "      <script>\n",
              "        const buttonEl =\n",
              "          document.querySelector('#df-759ff5d8-a741-400c-b73c-5fc5ded089b7 button.colab-df-convert');\n",
              "        buttonEl.style.display =\n",
              "          google.colab.kernel.accessAllowed ? 'block' : 'none';\n",
              "\n",
              "        async function convertToInteractive(key) {\n",
              "          const element = document.querySelector('#df-759ff5d8-a741-400c-b73c-5fc5ded089b7');\n",
              "          const dataTable =\n",
              "            await google.colab.kernel.invokeFunction('convertToInteractive',\n",
              "                                                     [key], {});\n",
              "          if (!dataTable) return;\n",
              "\n",
              "          const docLinkHtml = 'Like what you see? Visit the ' +\n",
              "            '<a target=\"_blank\" href=https://colab.research.google.com/notebooks/data_table.ipynb>data table notebook</a>'\n",
              "            + ' to learn more about interactive tables.';\n",
              "          element.innerHTML = '';\n",
              "          dataTable['output_type'] = 'display_data';\n",
              "          await google.colab.output.renderOutput(dataTable, element);\n",
              "          const docLink = document.createElement('div');\n",
              "          docLink.innerHTML = docLinkHtml;\n",
              "          element.appendChild(docLink);\n",
              "        }\n",
              "      </script>\n",
              "    </div>\n",
              "  </div>\n",
              "  "
            ]
          },
          "metadata": {},
          "execution_count": 9
        }
      ],
      "source": [
        "base = base[base['Effusion'] != 'n/A']\n",
        "base = base[base['Consolidations'] != 'n/A']\n",
        "base = base[base['B-lines'] != 'n/A']\n",
        "base = base[base['A-lines']  != 'n/A']\n",
        "base = base[base['Pleural_line_irregularities']  != 'n/A']\n",
        "base = base[base['Air_bronchogram']  != 'n/A']\n",
        "base = base[base['Label']  != 'n/A']\n",
        "#base = base[base['Label']  != 'regular']\n",
        "#base = base[base['Label']  != 'Regular']\n",
        "base['Label']= base['Label'].replace(['regular'], 'Regular')\n",
        "\n",
        "base['Effusion'] = pd.to_numeric(base['Effusion'])\n",
        "base.head()"
      ],
      "id": "6c86410a"
    },
    {
      "cell_type": "code",
      "execution_count": 10,
      "metadata": {
        "colab": {
          "base_uri": "https://localhost:8080/"
        },
        "id": "8b3a3fb8",
        "outputId": "5cc66694-555e-480a-e182-da2790da77c7"
      },
      "outputs": [
        {
          "output_type": "execute_result",
          "data": {
            "text/plain": [
              "(346, 8)"
            ]
          },
          "metadata": {},
          "execution_count": 10
        }
      ],
      "source": [
        "base  = base.dropna(axis = 0)\n",
        "base.shape"
      ],
      "id": "8b3a3fb8"
    },
    {
      "cell_type": "code",
      "execution_count": 11,
      "metadata": {
        "colab": {
          "base_uri": "https://localhost:8080/"
        },
        "id": "f68f0c0a",
        "outputId": "716aef07-e772-4b82-98ef-91a0a450245d"
      },
      "outputs": [
        {
          "output_type": "execute_result",
          "data": {
            "text/plain": [
              "0               Cov-Butterfly-COVID Lung 2\n",
              "1                Cov-Butterfly-Skip Lesion\n",
              "2          Cov-Butterfly-Confluent B lines\n",
              "3        Reg-Butterfly-Normal Lung A lines\n",
              "4      Reg-Butterfly-Normal Lung_Example 2\n",
              "                      ...                 \n",
              "344                Cov-B_ConvexProb_score1\n",
              "345               Cov-C_Convex_Prob_score2\n",
              "346               Cov-D_Convex_Prob_score3\n",
              "347                Cov-C_ConvexProb_score3\n",
              "348                    Cov-MSU-SkipLesions\n",
              "Name: Filename, Length: 346, dtype: object"
            ]
          },
          "metadata": {},
          "execution_count": 11
        }
      ],
      "source": [
        "metadata = base;\n",
        "metadata['Filename']"
      ],
      "id": "f68f0c0a"
    },
    {
      "cell_type": "code",
      "execution_count": 12,
      "metadata": {
        "colab": {
          "base_uri": "https://localhost:8080/"
        },
        "id": "c16b65e8",
        "outputId": "3bd54142-67ae-481a-9c95-4ad591bcb419"
      },
      "outputs": [
        {
          "output_type": "execute_result",
          "data": {
            "text/plain": [
              "1"
            ]
          },
          "metadata": {},
          "execution_count": 12
        }
      ],
      "source": [
        "#\"Cov-Butterfly-COVID Lung 2\" in metadata['Filename']\n",
        "teste = metadata.loc[metadata.Filename == \"Reg-Atlas-lungcurtain\"]\n",
        "len(teste)"
      ],
      "id": "c16b65e8"
    },
    {
      "cell_type": "code",
      "execution_count": 13,
      "metadata": {
        "id": "48b100ac"
      },
      "outputs": [],
      "source": [
        "effusion_list = []\n",
        "consolid_list = []\n",
        "aline_list = []\n",
        "bline_list = []\n",
        "pli_list = []\n",
        "airb_list = []\n",
        "filenames = []\n",
        "y_labels = []\n",
        "num_imgs_per_video = 10\n",
        "path_imgs_train = '/content/drive/MyDrive/datasets/imgs'\n",
        "#os.mkdir(path_imgs_train)\n",
        "os.mkdir(\"/content/dataset\")"
      ],
      "id": "48b100ac"
    },
    {
      "cell_type": "code",
      "execution_count": 14,
      "metadata": {
        "id": "dmnSUSnASW6I"
      },
      "outputs": [],
      "source": [
        "IMG_SIZE = 224 # Specify height and width of image to match the input format of the model\n",
        "CHANNELS = 3 # Keep RGB color channels to match the input format of the model\n",
        "num_imgs_per_video=10"
      ],
      "id": "dmnSUSnASW6I"
    },
    {
      "cell_type": "code",
      "execution_count": null,
      "metadata": {
        "id": "KZ5AAYRSSSyF"
      },
      "outputs": [],
      "source": [
        "\n",
        "feature_extractor_url = \"https://tfhub.dev/google/imagenet/mobilenet_v2_100_224/feature_vector/4\"\n",
        "feature_extractor_layer = hub.KerasLayer(feature_extractor_url,\n",
        "                                         input_shape=(IMG_SIZE,IMG_SIZE,CHANNELS))"
      ],
      "id": "KZ5AAYRSSSyF"
    },
    {
      "cell_type": "code",
      "execution_count": null,
      "metadata": {
        "id": "aQm4KjuqSeaX"
      },
      "outputs": [],
      "source": [
        "feature_extractor_layer.trainable = True"
      ],
      "id": "aQm4KjuqSeaX"
    },
    {
      "cell_type": "code",
      "execution_count": 15,
      "metadata": {
        "id": "zDCzD3UPSiXT"
      },
      "outputs": [],
      "source": [
        "def plot_curves(history, title):\n",
        "    fig_1 = plt.figure(figsize=(5, 3))\n",
        "    epochs = range(1, len(history.history['loss'])+1)\n",
        "    plt.plot(epochs, history.history['loss'], label=\"Train loss\")\n",
        "    plt.plot(epochs, history.history['val_loss'], label=\"Test Loss\")\n",
        "    plt.title(\"Training Loss Curve: \"+title)\n",
        "    plt.ylabel(\"Loss\")\n",
        "    plt.xlabel(\"Epochs\")\n",
        "    plt.legend();\n",
        "    fig_1.savefig(path_imgs_train+'/loss_'+title+'.png')\n",
        "    plt.close(fig_1)\n",
        "    \n",
        "    fig_2 = plt.figure(figsize=(5, 3))\n",
        "    epochs = range(1, len(history.history['accuracy'])+1)\n",
        "    plt.plot(epochs, history.history['accuracy'], label=\"Train Acc\")\n",
        "    plt.plot(epochs, history.history['val_accuracy'], label=\"Test Acc\")\n",
        "    plt.title(\"Training Accuracy Curve: \"+title)\n",
        "    plt.ylabel(\"Accuracy\")\n",
        "    plt.xlabel(\"Epochs\")\n",
        "    plt.legend();\n",
        "    fig_2.savefig(path_imgs_train+'/acc_'+title+'.png')\n",
        "    plt.close(fig_2)"
      ],
      "id": "zDCzD3UPSiXT"
    },
    {
      "cell_type": "markdown",
      "metadata": {
        "id": "HazpET0-FRDS"
      },
      "source": [
        "## Data Augmentation\n"
      ],
      "id": "HazpET0-FRDS"
    },
    {
      "cell_type": "code",
      "execution_count": null,
      "metadata": {
        "id": "oN9Iq9b3FS9Y"
      },
      "outputs": [],
      "source": [
        "!pip install -U git+https://github.com/albumentations-team/albumentations"
      ],
      "id": "oN9Iq9b3FS9Y"
    },
    {
      "cell_type": "code",
      "execution_count": null,
      "metadata": {
        "id": "Xr4xWZvdFTpd"
      },
      "outputs": [],
      "source": [
        "from albumentations import HorizontalFlip, VerticalFlip, ElasticTransform, GridDistortion, OpticalDistortion, CoarseDropout"
      ],
      "id": "Xr4xWZvdFTpd"
    },
    {
      "cell_type": "code",
      "execution_count": null,
      "metadata": {
        "id": "vGSHPci-FQRW"
      },
      "outputs": [],
      "source": [
        "def criar_diretorio(caminho):\n",
        "  if not os.path.exists(caminho):\n",
        "    os.makedirs(caminho)"
      ],
      "id": "vGSHPci-FQRW"
    },
    {
      "cell_type": "code",
      "execution_count": null,
      "metadata": {
        "id": "_OlTdy7jFjoI"
      },
      "outputs": [],
      "source": [
        "from scipy.stats.distributions import alpha\n",
        "def create_dataset_aug(img_altura=224, img_largura=224, augmentation=True):\n",
        "    X_train, y_train = [], []\n",
        "    for filename in videos_list:\n",
        "        count=0\n",
        "        #print(filename)\n",
        "        vid_cap = cv2.VideoCapture(path+'/'+filename)\n",
        "        total_frame_count= int(vid_cap.get(cv2.CAP_PROP_FRAME_COUNT))\n",
        "        step = total_frame_count/num_imgs_per_video\n",
        "        success, image = vid_cap.read()\n",
        "        metadata_cap = metadata.loc[metadata.Filename == filename.split('.')[0]]\n",
        "        if len(metadata_cap) >0:\n",
        "            while success:\n",
        "                #print(\"Reading new frame...\", success)\n",
        "                if ((count+1) % int(step) == 0):\n",
        "                    #print(\"Writing new frame...\")\n",
        "                    out = '/content/dataset/{}_{}.png'.format(filename.split('.')[0], count)\n",
        "                    cv2.imwrite(out, image)\n",
        "                    img = tf.keras.utils.load_img(out, target_size = (img_largura, img_altura, 3))\n",
        "                    img = tf.keras.utils.img_to_array(img)\n",
        "                    img= img/255.\n",
        "                    #img = img.transpose(2,0,1)\n",
        "                    X_train.append(img)\n",
        "                    img_labels = [metadata['A-lines'][metadata_cap.index[0]],\n",
        "                                    metadata['B-lines'][metadata_cap.index[0]],\n",
        "                                    metadata['Effusion'][metadata_cap.index[0]],\n",
        "                                    metadata['Consolidations'][metadata_cap.index[0]],\n",
        "                                    metadata['Pleural_line_irregularities'][metadata_cap.index[0]]]\n",
        "                                     #metadata['Air_bronchogram'][metadata_cap.index[0]]])\n",
        "                    y_train.append(img_labels)\n",
        "                    if augmentation:\n",
        "                      aug = HorizontalFlip(p = 1.0)\n",
        "                      augmentation = aug(image = img)\n",
        "                      x1 = augmentation['image']\n",
        "                      X_train.append(x1)\n",
        "                      y_train.append(img_labels)\n",
        "\n",
        "                      aug = OpticalDistortion(p = 1.0, distort_limit=2, shift_limit=0.5)\n",
        "                      augmentation = aug(image = img)\n",
        "                      x2 = augmentation['image']\n",
        "                      X_train.append(x2)\n",
        "                      y_train.append(img_labels)\n",
        "\n",
        "                      # aug = ElasticTransform(p = 1.0, alpha=120, sigma=120*0.05, alpha_affine=120*0.03)\n",
        "                      # augmentation = aug(image = img)\n",
        "                      # x3 = augmentation['image']\n",
        "                      # X_train.append(x3)\n",
        "                      # y_train.append(img_labels)\n",
        "\n",
        "                      # aug = GridDistortion(p = 1.0)\n",
        "                      # augmentation = aug(image = img)\n",
        "                      # x4 = augmentation['image']\n",
        "                      # X_train.append(x4)\n",
        "                      # y_train.append(img_labels)\n",
        "\n",
        "                success, image = vid_cap.read()\n",
        "                count += 1\n",
        "    X = np.array(X_train)\n",
        "    y = np.array(y_train)\n",
        "    return X, y"
      ],
      "id": "_OlTdy7jFjoI"
    },
    {
      "cell_type": "code",
      "execution_count": 16,
      "metadata": {
        "id": "U_Ol__-ESoSs"
      },
      "outputs": [],
      "source": [
        "def create_mydataset_all():\n",
        "    X_train, y_train = [], []\n",
        "    for filename in videos_list:\n",
        "        count=0\n",
        "        #print(filename)\n",
        "        vid_cap = cv2.VideoCapture(path+'/'+filename)\n",
        "        total_frame_count= int(vid_cap.get(cv2.CAP_PROP_FRAME_COUNT))\n",
        "        step = total_frame_count/num_imgs_per_video\n",
        "        success, image = vid_cap.read()\n",
        "        metadata_cap = metadata.loc[metadata.Filename == filename.split('.')[0]]\n",
        "        if len(metadata_cap) >0:\n",
        "            while success:\n",
        "                #print(\"Reading new frame...\", success)\n",
        "                if ((count+1) % int(step) == 0):\n",
        "                    #print(\"Writing new frame...\")\n",
        "                    out = '/content/dataset/{}_{}.png'.format(filename.split('.')[0], count)\n",
        "                    cv2.imwrite(out, image)\n",
        "                    img = tf.keras.utils.load_img(out, target_size = (224, 224, 3))\n",
        "                    img = tf.keras.utils.img_to_array(img)\n",
        "                    img= img/255.\n",
        "                    #img = img.transpose(2,0,1)\n",
        "                    X_train.append(img)\n",
        "                    y_train.append([metadata['A-lines'][metadata_cap.index[0]],\n",
        "                                    metadata['B-lines'][metadata_cap.index[0]],\n",
        "                                    metadata['Effusion'][metadata_cap.index[0]],\n",
        "                                    metadata['Consolidations'][metadata_cap.index[0]],\n",
        "                                    metadata['Pleural_line_irregularities'][metadata_cap.index[0]]])\n",
        "                                     #metadata['Air_bronchogram'][metadata_cap.index[0]]])\n",
        "                success, image = vid_cap.read()\n",
        "                count += 1\n",
        "    X = np.array(X_train)\n",
        "    y = np.array(y_train)\n",
        "    return X, y"
      ],
      "id": "U_Ol__-ESoSs"
    },
    {
      "cell_type": "code",
      "execution_count": 17,
      "metadata": {
        "id": "P2wfiDK9Sobs"
      },
      "outputs": [],
      "source": [
        "#X, y = create_dataset_aug()\n",
        "X, y = create_mydataset_all()\n",
        "#((1225, 224, 224, 3), (1225, 5))\n",
        "num_folds=5\n",
        "# Define the K-fold Cross Validator\n",
        "#kfold = KFold(n_splits=num_folds, shuffle=True)\n",
        "X_train, X_test, y_train, y_test = train_test_split(X, y, random_state=20, test_size=0.2, shuffle=True)\n",
        "del X\n",
        "del y\n",
        "#X_train.shape, y_train.shape"
      ],
      "id": "P2wfiDK9Sobs"
    },
    {
      "cell_type": "code",
      "execution_count": null,
      "metadata": {
        "id": "s72CtPdf72mB"
      },
      "outputs": [],
      "source": [
        "from keras import initializers\n",
        "#tf.random.set_seed(42)\n",
        "N_LABELS = 5\n",
        "EPOCHS = 20\n",
        "batch_size = 32\n",
        "LR = 0.0001\n",
        "acc_per_fold = []\n",
        "loss_per_fold = []"
      ],
      "id": "s72CtPdf72mB"
    },
    {
      "cell_type": "code",
      "execution_count": null,
      "metadata": {
        "id": "J6_HsSZON-hM"
      },
      "outputs": [],
      "source": [
        "reconstructed_model = keras.models.load_model(\"my_h5_model.h5\")"
      ],
      "id": "J6_HsSZON-hM"
    },
    {
      "cell_type": "markdown",
      "metadata": {
        "id": "z6pcQwvLTC5C"
      },
      "source": [
        "## K-fold train"
      ],
      "id": "z6pcQwvLTC5C"
    },
    {
      "cell_type": "code",
      "execution_count": null,
      "metadata": {
        "colab": {
          "background_save": true
        },
        "id": "yXDrQVCP7ruG"
      },
      "outputs": [],
      "source": [
        "# K-fold Cross Validation model evaluation\n",
        "fold_no = 1\n",
        "for train, test in kfold.split(X, y):\n",
        "  N_LABELS = 5\n",
        "  EPOCHS = 30\n",
        "  LR = 1e-4\n",
        "  batch_size = 32\n",
        "  ##################\n",
        "  #2048-5 = \n",
        "  initializer = tf.keras.initializers.Identity()\n",
        "  model_all_0 = tf.keras.Sequential([\n",
        "      feature_extractor_layer_resnet,\n",
        "      Dense(512, activation='relu', name='hidden_layer_1'),\n",
        "      Dense(512, activation='relu', name='hidden_layer_2'),\n",
        "      Dense(128, activation='relu', name='hidden_layer_3'),\n",
        "      Dense(N_LABELS, activation='sigmoid', name='output')\n",
        "  ])\n",
        "  # Compile the model\n",
        "  model_all_0.compile(\n",
        "    optimizer=tf.keras.optimizers.Adam(learning_rate=LR),\n",
        "    loss='binary_crossentropy',\n",
        "    metrics=['accuracy'])\n",
        "\n",
        "  history = model_all_0.fit(X[train], y[train],\n",
        "              batch_size=batch_size,\n",
        "              epochs=EPOCHS,\n",
        "              validation_data=(X[test], y[test]))\n",
        "\n",
        "  # Generate generalization metrics\n",
        "  scores = model_all_0.evaluate(X[test], y[test], verbose=1)\n",
        "  print(f'Score for fold {fold_no}: {model_all_0.metrics_names[0]} of {scores[0]}; {model_all_0.metrics_names[1]} of {scores[1]*100}%')\n",
        "  acc_per_fold.append(scores[1] * 100)\n",
        "  loss_per_fold.append(scores[0])\n",
        "\n",
        "  # Increase fold number\n",
        "  fold_no = fold_no + 1"
      ],
      "id": "yXDrQVCP7ruG"
    },
    {
      "cell_type": "code",
      "execution_count": null,
      "metadata": {
        "id": "sFhCQQiQTDmB"
      },
      "outputs": [],
      "source": [
        "# == Provide average scores ==\n",
        "print('------------------------------------------------------------------------')\n",
        "print('Score per fold')\n",
        "for i in range(0, len(acc_per_fold)):\n",
        "  print('------------------------------------------------------------------------')\n",
        "  print(f'> Fold {i+1} - Loss: {loss_per_fold[i]} - Accuracy: {acc_per_fold[i]}%')\n",
        "print('------------------------------------------------------------------------')\n",
        "print('Average scores for all folds:')\n",
        "print(f'> Accuracy: {np.mean(acc_per_fold)} (+- {np.std(acc_per_fold)})')\n",
        "print(f'> Loss: {np.mean(loss_per_fold)}')\n",
        "print('------------------------------------------------------------------------')\n"
      ],
      "id": "sFhCQQiQTDmB"
    },
    {
      "cell_type": "markdown",
      "metadata": {
        "id": "xq4biatLTZSp"
      },
      "source": [
        "## Backbone resnet101"
      ],
      "id": "xq4biatLTZSp"
    },
    {
      "cell_type": "code",
      "execution_count": 18,
      "metadata": {
        "id": "03azdjz4Xoe9"
      },
      "outputs": [],
      "source": [
        "feature_extractor_url_resnet = \"https://tfhub.dev/google/imagenet/resnet_v2_101/feature_vector/5\"\n",
        "feature_extractor_layer_resnet = hub.KerasLayer(feature_extractor_url_resnet,\n",
        "                                         input_shape=(IMG_SIZE,IMG_SIZE,CHANNELS))"
      ],
      "id": "03azdjz4Xoe9"
    },
    {
      "cell_type": "code",
      "execution_count": null,
      "metadata": {
        "id": "xqv_eH2BQ_Ji"
      },
      "outputs": [],
      "source": [
        "feature_extractor_url_eff = \"https://tfhub.dev/google/imagenet/efficientnet_v2_imagenet1k_b0/feature_vector/2\"\n",
        "feature_extractor_layer_eff = hub.KerasLayer(feature_extractor_url_resnet,\n",
        "                                         input_shape=(IMG_SIZE,IMG_SIZE,CHANNELS))"
      ],
      "id": "xqv_eH2BQ_Ji"
    },
    {
      "cell_type": "code",
      "execution_count": null,
      "metadata": {
        "id": "1ublyrIrVGuy"
      },
      "outputs": [],
      "source": [
        "print(\"Thickness of the model:\", len(feature_extractor_layer_resnet.weights))\n",
        "#list(feature_extractor_layer_resnet.layers)"
      ],
      "id": "1ublyrIrVGuy"
    },
    {
      "cell_type": "code",
      "execution_count": 19,
      "metadata": {
        "id": "Fp_2olObVxwr"
      },
      "outputs": [],
      "source": [
        "feature_extractor_layer_resnet.trainable = False"
      ],
      "id": "Fp_2olObVxwr"
    },
    {
      "cell_type": "code",
      "execution_count": null,
      "metadata": {
        "id": "verllFrzHVAq"
      },
      "outputs": [],
      "source": [
        "#X, y = create_dataset_aug()\n",
        "X, y = create_mydataset_all()\n",
        "X_train, X_test, y_train, y_test = train_test_split(X, y, random_state=20, test_size=0.2, shuffle=True)\n",
        "X_train.shape, y_train.shape\n",
        "del X\n",
        "del y"
      ],
      "id": "verllFrzHVAq"
    },
    {
      "cell_type": "code",
      "execution_count": null,
      "metadata": {
        "id": "4eFUpI3IKODa"
      },
      "outputs": [],
      "source": [
        "#tf.random.set_seed(42)"
      ],
      "id": "4eFUpI3IKODa"
    },
    {
      "cell_type": "markdown",
      "metadata": {
        "id": "6bSiHSMxTdpn"
      },
      "source": [
        "## Unit Test"
      ],
      "id": "6bSiHSMxTdpn"
    },
    {
      "cell_type": "code",
      "source": [
        "dense = [2048, 1024, 512, 256, 128, 64, 32, 16, 10, 5]"
      ],
      "metadata": {
        "id": "MGdMpvjwmIFQ"
      },
      "id": "MGdMpvjwmIFQ",
      "execution_count": 20,
      "outputs": []
    },
    {
      "cell_type": "code",
      "source": [
        "tested = 474\n",
        "for i in range(len(dense)):\n",
        "  for j in range(len(dense)-i):\n",
        "    for k in range(len(dense)-j-i):\n",
        "      for l in range(len(dense)-j-i-k):\n",
        "        if tested >-1:\n",
        "          a=1\n",
        "        else:\n",
        "          title = '2048_'+str(dense[i])+'_'+str(dense[j+i])+'_'+str(dense[k+j+i])+'_'+str(dense[k+j+i+l])\n",
        "          print(title)\n",
        "        tested = tested-1"
      ],
      "metadata": {
        "id": "UFEAGvrBpli9"
      },
      "id": "UFEAGvrBpli9",
      "execution_count": null,
      "outputs": []
    },
    {
      "cell_type": "code",
      "execution_count": null,
      "metadata": {
        "id": "Wq0j72qtR6pZ",
        "colab": {
          "base_uri": "https://localhost:8080/"
        },
        "outputId": "d9695bf2-4373-437b-c205-78f1e35265cb"
      },
      "outputs": [
        {
          "output_type": "stream",
          "name": "stdout",
          "text": [
            "Epoch 1/30\n",
            "39/39 [==============================] - 25s 241ms/step - loss: 0.5471 - accuracy: 0.2343 - val_loss: 0.4197 - val_accuracy: 0.2313\n",
            "Epoch 2/30\n",
            "39/39 [==============================] - 7s 177ms/step - loss: 0.3197 - accuracy: 0.3576 - val_loss: 0.2648 - val_accuracy: 0.4853\n",
            "Epoch 3/30\n",
            "39/39 [==============================] - 7s 177ms/step - loss: 0.1840 - accuracy: 0.5200 - val_loss: 0.1742 - val_accuracy: 0.5668\n",
            "Epoch 4/30\n",
            "39/39 [==============================] - 7s 177ms/step - loss: 0.1102 - accuracy: 0.5657 - val_loss: 0.1225 - val_accuracy: 0.5505\n",
            "Epoch 5/30\n",
            "39/39 [==============================] - 7s 179ms/step - loss: 0.0727 - accuracy: 0.5894 - val_loss: 0.0912 - val_accuracy: 0.5863\n",
            "Epoch 6/30\n",
            "39/39 [==============================] - 7s 179ms/step - loss: 0.0453 - accuracy: 0.5886 - val_loss: 0.0787 - val_accuracy: 0.5505\n",
            "Epoch 7/30\n",
            "39/39 [==============================] - 7s 183ms/step - loss: 0.0297 - accuracy: 0.6057 - val_loss: 0.0459 - val_accuracy: 0.5668\n",
            "Epoch 8/30\n",
            "39/39 [==============================] - 7s 180ms/step - loss: 0.0180 - accuracy: 0.5935 - val_loss: 0.0416 - val_accuracy: 0.5635\n",
            "Epoch 9/30\n",
            "39/39 [==============================] - 7s 180ms/step - loss: 0.0126 - accuracy: 0.5771 - val_loss: 0.0352 - val_accuracy: 0.5472\n",
            "Epoch 10/30\n",
            "39/39 [==============================] - 7s 181ms/step - loss: 0.0099 - accuracy: 0.5951 - val_loss: 0.0394 - val_accuracy: 0.4886\n",
            "Epoch 11/30\n",
            "39/39 [==============================] - 7s 182ms/step - loss: 0.0068 - accuracy: 0.5820 - val_loss: 0.0291 - val_accuracy: 0.5375\n",
            "Epoch 12/30\n",
            "39/39 [==============================] - 7s 184ms/step - loss: 0.0058 - accuracy: 0.5853 - val_loss: 0.0245 - val_accuracy: 0.5700\n",
            "Epoch 13/30\n",
            "39/39 [==============================] - 7s 183ms/step - loss: 0.0042 - accuracy: 0.5878 - val_loss: 0.0314 - val_accuracy: 0.5342\n",
            "Epoch 14/30\n",
            "39/39 [==============================] - 7s 184ms/step - loss: 0.0032 - accuracy: 0.5894 - val_loss: 0.0265 - val_accuracy: 0.5440\n",
            "Epoch 15/30\n",
            "39/39 [==============================] - 7s 183ms/step - loss: 0.0026 - accuracy: 0.5812 - val_loss: 0.0251 - val_accuracy: 0.5440\n",
            "Epoch 16/30\n",
            "39/39 [==============================] - 7s 183ms/step - loss: 0.0022 - accuracy: 0.5829 - val_loss: 0.0235 - val_accuracy: 0.5472\n",
            "Epoch 17/30\n",
            "39/39 [==============================] - 7s 184ms/step - loss: 0.0019 - accuracy: 0.5886 - val_loss: 0.0197 - val_accuracy: 0.5668\n",
            "Epoch 18/30\n",
            "39/39 [==============================] - 7s 185ms/step - loss: 0.0016 - accuracy: 0.5935 - val_loss: 0.0194 - val_accuracy: 0.5472\n",
            "Epoch 19/30\n",
            "39/39 [==============================] - 7s 185ms/step - loss: 0.0014 - accuracy: 0.5812 - val_loss: 0.0183 - val_accuracy: 0.5440\n",
            "Epoch 20/30\n",
            "39/39 [==============================] - 7s 188ms/step - loss: 0.0012 - accuracy: 0.5902 - val_loss: 0.0186 - val_accuracy: 0.5407\n",
            "Epoch 21/30\n",
            "39/39 [==============================] - 7s 185ms/step - loss: 0.0010 - accuracy: 0.5976 - val_loss: 0.0181 - val_accuracy: 0.5407\n",
            "Epoch 22/30\n",
            "39/39 [==============================] - 7s 185ms/step - loss: 9.4319e-04 - accuracy: 0.5927 - val_loss: 0.0176 - val_accuracy: 0.5537\n",
            "Epoch 23/30\n",
            "39/39 [==============================] - 7s 185ms/step - loss: 8.0598e-04 - accuracy: 0.6049 - val_loss: 0.0169 - val_accuracy: 0.5505\n",
            "Epoch 24/30\n",
            "39/39 [==============================] - 7s 187ms/step - loss: 7.2930e-04 - accuracy: 0.6147 - val_loss: 0.0174 - val_accuracy: 0.5505\n",
            "Epoch 25/30\n",
            "39/39 [==============================] - 7s 186ms/step - loss: 6.5827e-04 - accuracy: 0.6057 - val_loss: 0.0157 - val_accuracy: 0.5635\n",
            "Epoch 26/30\n",
            "39/39 [==============================] - 7s 187ms/step - loss: 5.8862e-04 - accuracy: 0.6131 - val_loss: 0.0168 - val_accuracy: 0.5472\n",
            "Epoch 27/30\n",
            "39/39 [==============================] - 7s 187ms/step - loss: 5.3583e-04 - accuracy: 0.6139 - val_loss: 0.0161 - val_accuracy: 0.5505\n",
            "Epoch 28/30\n",
            "39/39 [==============================] - 7s 186ms/step - loss: 4.8588e-04 - accuracy: 0.6082 - val_loss: 0.0157 - val_accuracy: 0.5635\n",
            "Epoch 29/30\n",
            "39/39 [==============================] - 7s 187ms/step - loss: 4.5183e-04 - accuracy: 0.6131 - val_loss: 0.0167 - val_accuracy: 0.5603\n",
            "Epoch 30/30\n",
            "39/39 [==============================] - 7s 187ms/step - loss: 4.2594e-04 - accuracy: 0.6237 - val_loss: 0.0158 - val_accuracy: 0.5505\n",
            "Model: 2048_512_64_32_32_5\n",
            "=================================================================================\n",
            "Epoch 1/30\n",
            "39/39 [==============================] - 11s 216ms/step - loss: 0.3735 - accuracy: 0.3192 - val_loss: 0.3083 - val_accuracy: 0.4235\n",
            "Epoch 2/30\n",
            "39/39 [==============================] - 7s 186ms/step - loss: 0.2245 - accuracy: 0.4506 - val_loss: 0.2119 - val_accuracy: 0.4039\n",
            "Epoch 3/30\n",
            "39/39 [==============================] - 8s 216ms/step - loss: 0.1381 - accuracy: 0.4743 - val_loss: 0.1410 - val_accuracy: 0.4463\n",
            "Epoch 4/30\n",
            "39/39 [==============================] - 7s 186ms/step - loss: 0.0838 - accuracy: 0.4988 - val_loss: 0.0988 - val_accuracy: 0.4853\n",
            "Epoch 5/30\n",
            "39/39 [==============================] - 7s 186ms/step - loss: 0.0585 - accuracy: 0.5208 - val_loss: 0.0718 - val_accuracy: 0.5147\n",
            "Epoch 6/30\n",
            "39/39 [==============================] - 7s 187ms/step - loss: 0.0385 - accuracy: 0.5167 - val_loss: 0.0586 - val_accuracy: 0.5277\n",
            "Epoch 7/30\n",
            "39/39 [==============================] - 7s 187ms/step - loss: 0.0232 - accuracy: 0.5322 - val_loss: 0.0466 - val_accuracy: 0.5179\n",
            "Epoch 8/30\n",
            "39/39 [==============================] - 7s 187ms/step - loss: 0.0149 - accuracy: 0.5208 - val_loss: 0.0473 - val_accuracy: 0.4528\n",
            "Epoch 9/30\n",
            "39/39 [==============================] - 7s 190ms/step - loss: 0.0103 - accuracy: 0.5257 - val_loss: 0.0324 - val_accuracy: 0.4853\n",
            "Epoch 10/30\n",
            "39/39 [==============================] - 7s 188ms/step - loss: 0.0066 - accuracy: 0.5200 - val_loss: 0.0292 - val_accuracy: 0.5342\n",
            "Epoch 11/30\n",
            "39/39 [==============================] - 8s 217ms/step - loss: 0.0048 - accuracy: 0.5265 - val_loss: 0.0278 - val_accuracy: 0.5081\n",
            "Epoch 12/30\n",
            "39/39 [==============================] - 7s 188ms/step - loss: 0.0038 - accuracy: 0.5233 - val_loss: 0.0270 - val_accuracy: 0.5081\n",
            "Epoch 13/30\n",
            "39/39 [==============================] - 7s 190ms/step - loss: 0.0029 - accuracy: 0.5306 - val_loss: 0.0279 - val_accuracy: 0.5114\n",
            "Epoch 14/30\n",
            "39/39 [==============================] - 7s 189ms/step - loss: 0.0022 - accuracy: 0.5257 - val_loss: 0.0241 - val_accuracy: 0.5212\n",
            "Epoch 15/30\n",
            "39/39 [==============================] - 7s 189ms/step - loss: 0.0019 - accuracy: 0.5339 - val_loss: 0.0238 - val_accuracy: 0.5081\n",
            "Epoch 16/30\n",
            "39/39 [==============================] - 7s 189ms/step - loss: 0.0016 - accuracy: 0.5396 - val_loss: 0.0251 - val_accuracy: 0.5016\n",
            "Epoch 17/30\n",
            "39/39 [==============================] - 7s 188ms/step - loss: 0.0014 - accuracy: 0.5273 - val_loss: 0.0221 - val_accuracy: 0.5114\n",
            "Epoch 18/30\n",
            "39/39 [==============================] - 7s 188ms/step - loss: 0.0012 - accuracy: 0.5363 - val_loss: 0.0214 - val_accuracy: 0.5179\n",
            "Epoch 19/30\n",
            "39/39 [==============================] - 8s 218ms/step - loss: 0.0010 - accuracy: 0.5355 - val_loss: 0.0215 - val_accuracy: 0.5016\n",
            "Epoch 20/30\n",
            "39/39 [==============================] - 7s 189ms/step - loss: 9.0506e-04 - accuracy: 0.5257 - val_loss: 0.0234 - val_accuracy: 0.5081\n",
            "Epoch 21/30\n",
            "39/39 [==============================] - 7s 188ms/step - loss: 7.7810e-04 - accuracy: 0.5322 - val_loss: 0.0220 - val_accuracy: 0.5114\n",
            "Epoch 22/30\n",
            "39/39 [==============================] - 7s 189ms/step - loss: 6.8517e-04 - accuracy: 0.5331 - val_loss: 0.0203 - val_accuracy: 0.5147\n",
            "Epoch 23/30\n",
            "39/39 [==============================] - 7s 189ms/step - loss: 6.1552e-04 - accuracy: 0.5282 - val_loss: 0.0203 - val_accuracy: 0.5212\n",
            "Epoch 24/30\n",
            "39/39 [==============================] - 8s 218ms/step - loss: 5.5777e-04 - accuracy: 0.5314 - val_loss: 0.0212 - val_accuracy: 0.5114\n",
            "Epoch 25/30\n",
            "39/39 [==============================] - 7s 189ms/step - loss: 5.1019e-04 - accuracy: 0.5371 - val_loss: 0.0203 - val_accuracy: 0.5114\n",
            "Epoch 26/30\n",
            "39/39 [==============================] - 7s 189ms/step - loss: 4.5539e-04 - accuracy: 0.5282 - val_loss: 0.0215 - val_accuracy: 0.5114\n",
            "Epoch 27/30\n",
            "39/39 [==============================] - 7s 189ms/step - loss: 4.2140e-04 - accuracy: 0.5388 - val_loss: 0.0195 - val_accuracy: 0.5147\n",
            "Epoch 28/30\n",
            "39/39 [==============================] - 7s 189ms/step - loss: 3.8069e-04 - accuracy: 0.5355 - val_loss: 0.0185 - val_accuracy: 0.5179\n",
            "Epoch 29/30\n",
            "39/39 [==============================] - 7s 193ms/step - loss: 3.5001e-04 - accuracy: 0.5331 - val_loss: 0.0196 - val_accuracy: 0.5114\n",
            "Epoch 30/30\n",
            "39/39 [==============================] - 7s 189ms/step - loss: 3.2222e-04 - accuracy: 0.5371 - val_loss: 0.0197 - val_accuracy: 0.5114\n",
            "Model: 2048_512_64_32_16_5\n",
            "=================================================================================\n",
            "Epoch 1/30\n",
            "39/39 [==============================] - 10s 211ms/step - loss: 0.4817 - accuracy: 0.2400 - val_loss: 0.4195 - val_accuracy: 0.2769\n",
            "Epoch 2/30\n",
            "39/39 [==============================] - 7s 184ms/step - loss: 0.3565 - accuracy: 0.3143 - val_loss: 0.3546 - val_accuracy: 0.3616\n",
            "Epoch 3/30\n",
            "39/39 [==============================] - 8s 215ms/step - loss: 0.2895 - accuracy: 0.4596 - val_loss: 0.2843 - val_accuracy: 0.4984\n",
            "Epoch 4/30\n",
            "39/39 [==============================] - 7s 184ms/step - loss: 0.2077 - accuracy: 0.5396 - val_loss: 0.2198 - val_accuracy: 0.5212\n",
            "Epoch 5/30\n",
            "39/39 [==============================] - 7s 185ms/step - loss: 0.1553 - accuracy: 0.5388 - val_loss: 0.1865 - val_accuracy: 0.5277\n",
            "Epoch 6/30\n",
            "39/39 [==============================] - 7s 185ms/step - loss: 0.1250 - accuracy: 0.5404 - val_loss: 0.1776 - val_accuracy: 0.5147\n",
            "Epoch 7/30\n",
            "39/39 [==============================] - 8s 216ms/step - loss: 0.1004 - accuracy: 0.5502 - val_loss: 0.1460 - val_accuracy: 0.5114\n",
            "Epoch 8/30\n",
            "39/39 [==============================] - 7s 185ms/step - loss: 0.0847 - accuracy: 0.5461 - val_loss: 0.1464 - val_accuracy: 0.5179\n",
            "Epoch 9/30\n",
            "39/39 [==============================] - 7s 185ms/step - loss: 0.0766 - accuracy: 0.5543 - val_loss: 0.1255 - val_accuracy: 0.5342\n",
            "Epoch 10/30\n",
            "39/39 [==============================] - 7s 186ms/step - loss: 0.0651 - accuracy: 0.5731 - val_loss: 0.1199 - val_accuracy: 0.5212\n",
            "Epoch 11/30\n",
            "39/39 [==============================] - 7s 187ms/step - loss: 0.0571 - accuracy: 0.5567 - val_loss: 0.1141 - val_accuracy: 0.5277\n",
            "Epoch 12/30\n",
            "39/39 [==============================] - 7s 186ms/step - loss: 0.0500 - accuracy: 0.5559 - val_loss: 0.0932 - val_accuracy: 0.5440\n",
            "Epoch 13/30\n",
            "39/39 [==============================] - 7s 187ms/step - loss: 0.0445 - accuracy: 0.5510 - val_loss: 0.1129 - val_accuracy: 0.5179\n",
            "Epoch 14/30\n",
            "39/39 [==============================] - 7s 190ms/step - loss: 0.0391 - accuracy: 0.5461 - val_loss: 0.0896 - val_accuracy: 0.5277\n",
            "Epoch 15/30\n",
            "39/39 [==============================] - 7s 187ms/step - loss: 0.0321 - accuracy: 0.5551 - val_loss: 0.0831 - val_accuracy: 0.5179\n",
            "Epoch 16/30\n",
            "39/39 [==============================] - 7s 187ms/step - loss: 0.0267 - accuracy: 0.5559 - val_loss: 0.0749 - val_accuracy: 0.5342\n",
            "Epoch 17/30\n",
            "39/39 [==============================] - 7s 188ms/step - loss: 0.0214 - accuracy: 0.5510 - val_loss: 0.0724 - val_accuracy: 0.5049\n",
            "Epoch 18/30\n",
            "39/39 [==============================] - 7s 188ms/step - loss: 0.0178 - accuracy: 0.5535 - val_loss: 0.0656 - val_accuracy: 0.5049\n",
            "Epoch 19/30\n",
            "39/39 [==============================] - 7s 188ms/step - loss: 0.0152 - accuracy: 0.5355 - val_loss: 0.0685 - val_accuracy: 0.5049\n",
            "Epoch 20/30\n",
            "39/39 [==============================] - 7s 188ms/step - loss: 0.0140 - accuracy: 0.5176 - val_loss: 0.0611 - val_accuracy: 0.5114\n",
            "Epoch 21/30\n",
            "39/39 [==============================] - 7s 188ms/step - loss: 0.0116 - accuracy: 0.5445 - val_loss: 0.0505 - val_accuracy: 0.4756\n",
            "Epoch 22/30\n",
            "39/39 [==============================] - 7s 188ms/step - loss: 0.0113 - accuracy: 0.5306 - val_loss: 0.0614 - val_accuracy: 0.4919\n",
            "Epoch 23/30\n",
            "39/39 [==============================] - 7s 188ms/step - loss: 0.0090 - accuracy: 0.5331 - val_loss: 0.0553 - val_accuracy: 0.5016\n",
            "Epoch 24/30\n",
            "39/39 [==============================] - 7s 188ms/step - loss: 0.0077 - accuracy: 0.5339 - val_loss: 0.0478 - val_accuracy: 0.4723\n",
            "Epoch 25/30\n",
            "39/39 [==============================] - 7s 188ms/step - loss: 0.0070 - accuracy: 0.5224 - val_loss: 0.0533 - val_accuracy: 0.4853\n",
            "Epoch 26/30\n",
            "39/39 [==============================] - 7s 189ms/step - loss: 0.0071 - accuracy: 0.5273 - val_loss: 0.0735 - val_accuracy: 0.4853\n",
            "Epoch 27/30\n",
            "39/39 [==============================] - 7s 188ms/step - loss: 0.0080 - accuracy: 0.5094 - val_loss: 0.0486 - val_accuracy: 0.4821\n",
            "Epoch 28/30\n",
            "39/39 [==============================] - 7s 188ms/step - loss: 0.0063 - accuracy: 0.5118 - val_loss: 0.0547 - val_accuracy: 0.4821\n",
            "Epoch 29/30\n",
            "39/39 [==============================] - 8s 219ms/step - loss: 0.0059 - accuracy: 0.5200 - val_loss: 0.0478 - val_accuracy: 0.4853\n",
            "Epoch 30/30\n",
            "39/39 [==============================] - 7s 188ms/step - loss: 0.0060 - accuracy: 0.5176 - val_loss: 0.0387 - val_accuracy: 0.4691\n",
            "Model: 2048_512_64_32_10_5\n",
            "=================================================================================\n",
            "Epoch 1/30\n",
            "39/39 [==============================] - 11s 218ms/step - loss: 0.5597 - accuracy: 0.2294 - val_loss: 0.5358 - val_accuracy: 0.2443\n",
            "Epoch 2/30\n",
            "39/39 [==============================] - 7s 188ms/step - loss: 0.5066 - accuracy: 0.2604 - val_loss: 0.5140 - val_accuracy: 0.2410\n",
            "Epoch 3/30\n",
            "39/39 [==============================] - 7s 192ms/step - loss: 0.4902 - accuracy: 0.2816 - val_loss: 0.5050 - val_accuracy: 0.2834\n",
            "Epoch 4/30\n",
            "39/39 [==============================] - 7s 189ms/step - loss: 0.4821 - accuracy: 0.2776 - val_loss: 0.4990 - val_accuracy: 0.2476\n",
            "Epoch 5/30\n",
            "39/39 [==============================] - 7s 191ms/step - loss: 0.4750 - accuracy: 0.2678 - val_loss: 0.4933 - val_accuracy: 0.2638\n",
            "Epoch 6/30\n",
            "39/39 [==============================] - 8s 219ms/step - loss: 0.4726 - accuracy: 0.2939 - val_loss: 0.4923 - val_accuracy: 0.2345\n",
            "Epoch 7/30\n",
            "39/39 [==============================] - 7s 189ms/step - loss: 0.4667 - accuracy: 0.2571 - val_loss: 0.4860 - val_accuracy: 0.2508\n",
            "Epoch 8/30\n",
            "39/39 [==============================] - 7s 188ms/step - loss: 0.4623 - accuracy: 0.2580 - val_loss: 0.4809 - val_accuracy: 0.2378\n",
            "Epoch 9/30\n",
            "39/39 [==============================] - 7s 189ms/step - loss: 0.4582 - accuracy: 0.2482 - val_loss: 0.4771 - val_accuracy: 0.2248\n",
            "Epoch 10/30\n",
            "39/39 [==============================] - 7s 188ms/step - loss: 0.4547 - accuracy: 0.2449 - val_loss: 0.4751 - val_accuracy: 0.2248\n",
            "Epoch 11/30\n",
            "39/39 [==============================] - 7s 188ms/step - loss: 0.4521 - accuracy: 0.2433 - val_loss: 0.4721 - val_accuracy: 0.2150\n",
            "Epoch 12/30\n",
            "39/39 [==============================] - 7s 188ms/step - loss: 0.4493 - accuracy: 0.2457 - val_loss: 0.4690 - val_accuracy: 0.2182\n",
            "Epoch 13/30\n",
            "39/39 [==============================] - 7s 188ms/step - loss: 0.4459 - accuracy: 0.2392 - val_loss: 0.4665 - val_accuracy: 0.2378\n",
            "Epoch 14/30\n",
            "39/39 [==============================] - 7s 190ms/step - loss: 0.4430 - accuracy: 0.2367 - val_loss: 0.4645 - val_accuracy: 0.2150\n",
            "Epoch 15/30\n",
            "39/39 [==============================] - 7s 190ms/step - loss: 0.4399 - accuracy: 0.2359 - val_loss: 0.4609 - val_accuracy: 0.2117\n",
            "Epoch 16/30\n",
            "39/39 [==============================] - 7s 188ms/step - loss: 0.4370 - accuracy: 0.2359 - val_loss: 0.4592 - val_accuracy: 0.2150\n",
            "Epoch 17/30\n",
            "39/39 [==============================] - 7s 189ms/step - loss: 0.4348 - accuracy: 0.2351 - val_loss: 0.4575 - val_accuracy: 0.2182\n",
            "Epoch 18/30\n",
            "39/39 [==============================] - 7s 190ms/step - loss: 0.4327 - accuracy: 0.2343 - val_loss: 0.4546 - val_accuracy: 0.2117\n",
            "Epoch 19/30\n",
            "39/39 [==============================] - 7s 190ms/step - loss: 0.4304 - accuracy: 0.2294 - val_loss: 0.4514 - val_accuracy: 0.2117\n",
            "Epoch 20/30\n",
            "39/39 [==============================] - 7s 190ms/step - loss: 0.4267 - accuracy: 0.2237 - val_loss: 0.4481 - val_accuracy: 0.1987\n",
            "Epoch 21/30\n",
            "39/39 [==============================] - 7s 189ms/step - loss: 0.4241 - accuracy: 0.2220 - val_loss: 0.4458 - val_accuracy: 0.2085\n",
            "Epoch 22/30\n",
            "39/39 [==============================] - 7s 189ms/step - loss: 0.4213 - accuracy: 0.2237 - val_loss: 0.4427 - val_accuracy: 0.2020\n",
            "Epoch 23/30\n",
            "39/39 [==============================] - 7s 191ms/step - loss: 0.4186 - accuracy: 0.2237 - val_loss: 0.4409 - val_accuracy: 0.2020\n",
            "Epoch 24/30\n",
            "39/39 [==============================] - 8s 219ms/step - loss: 0.4159 - accuracy: 0.2237 - val_loss: 0.4373 - val_accuracy: 0.2052\n",
            "Epoch 25/30\n",
            "39/39 [==============================] - 7s 189ms/step - loss: 0.4134 - accuracy: 0.2245 - val_loss: 0.4348 - val_accuracy: 0.2052\n",
            "Epoch 26/30\n",
            "39/39 [==============================] - 7s 189ms/step - loss: 0.4109 - accuracy: 0.2229 - val_loss: 0.4342 - val_accuracy: 0.1987\n",
            "Epoch 27/30\n",
            "39/39 [==============================] - 7s 190ms/step - loss: 0.4084 - accuracy: 0.2220 - val_loss: 0.4315 - val_accuracy: 0.2020\n",
            "Epoch 28/30\n",
            "39/39 [==============================] - 8s 219ms/step - loss: 0.4061 - accuracy: 0.2204 - val_loss: 0.4290 - val_accuracy: 0.2052\n",
            "Epoch 29/30\n",
            "39/39 [==============================] - 7s 189ms/step - loss: 0.4043 - accuracy: 0.2220 - val_loss: 0.4260 - val_accuracy: 0.2085\n",
            "Epoch 30/30\n",
            "39/39 [==============================] - 7s 190ms/step - loss: 0.4022 - accuracy: 0.2171 - val_loss: 0.4248 - val_accuracy: 0.2020\n",
            "Model: 2048_512_64_32_5_5\n",
            "=================================================================================\n",
            "Epoch 1/30\n",
            "39/39 [==============================] - 11s 219ms/step - loss: 0.4547 - accuracy: 0.2384 - val_loss: 0.4020 - val_accuracy: 0.2378\n",
            "Epoch 2/30\n",
            "39/39 [==============================] - 7s 190ms/step - loss: 0.3460 - accuracy: 0.2824 - val_loss: 0.3204 - val_accuracy: 0.3322\n",
            "Epoch 3/30\n",
            "39/39 [==============================] - 7s 190ms/step - loss: 0.2695 - accuracy: 0.3796 - val_loss: 0.2561 - val_accuracy: 0.3713\n",
            "Epoch 4/30\n",
            "39/39 [==============================] - 7s 191ms/step - loss: 0.2024 - accuracy: 0.3984 - val_loss: 0.2049 - val_accuracy: 0.3909\n",
            "Epoch 5/30\n",
            "39/39 [==============================] - 7s 191ms/step - loss: 0.1479 - accuracy: 0.4155 - val_loss: 0.1512 - val_accuracy: 0.3518\n",
            "Epoch 6/30\n",
            "39/39 [==============================] - 7s 191ms/step - loss: 0.1114 - accuracy: 0.4090 - val_loss: 0.1238 - val_accuracy: 0.3811\n",
            "Epoch 7/30\n",
            "39/39 [==============================] - 7s 190ms/step - loss: 0.0919 - accuracy: 0.4057 - val_loss: 0.1048 - val_accuracy: 0.3681\n",
            "Epoch 8/30\n",
            "39/39 [==============================] - 7s 190ms/step - loss: 0.0745 - accuracy: 0.4253 - val_loss: 0.0926 - val_accuracy: 0.3876\n",
            "Epoch 9/30\n",
            "39/39 [==============================] - 7s 190ms/step - loss: 0.0593 - accuracy: 0.4433 - val_loss: 0.0751 - val_accuracy: 0.4202\n",
            "Epoch 10/30\n",
            "39/39 [==============================] - 7s 190ms/step - loss: 0.0466 - accuracy: 0.4988 - val_loss: 0.0682 - val_accuracy: 0.4267\n",
            "Epoch 11/30\n",
            "39/39 [==============================] - 7s 190ms/step - loss: 0.0380 - accuracy: 0.4963 - val_loss: 0.0648 - val_accuracy: 0.4137\n",
            "Epoch 12/30\n",
            "39/39 [==============================] - 7s 192ms/step - loss: 0.0283 - accuracy: 0.5012 - val_loss: 0.0480 - val_accuracy: 0.5049\n",
            "Epoch 13/30\n",
            "39/39 [==============================] - 7s 191ms/step - loss: 0.0200 - accuracy: 0.5045 - val_loss: 0.0481 - val_accuracy: 0.4919\n",
            "Epoch 14/30\n",
            "39/39 [==============================] - 8s 219ms/step - loss: 0.0144 - accuracy: 0.5167 - val_loss: 0.0352 - val_accuracy: 0.4691\n",
            "Epoch 15/30\n",
            "39/39 [==============================] - 7s 189ms/step - loss: 0.0107 - accuracy: 0.5118 - val_loss: 0.0341 - val_accuracy: 0.4919\n",
            "Epoch 16/30\n",
            "39/39 [==============================] - 7s 191ms/step - loss: 0.0080 - accuracy: 0.5053 - val_loss: 0.0308 - val_accuracy: 0.4788\n",
            "Epoch 17/30\n",
            "39/39 [==============================] - 7s 191ms/step - loss: 0.0055 - accuracy: 0.5045 - val_loss: 0.0331 - val_accuracy: 0.4723\n",
            "Epoch 18/30\n",
            "39/39 [==============================] - 7s 191ms/step - loss: 0.0044 - accuracy: 0.5078 - val_loss: 0.0274 - val_accuracy: 0.4821\n",
            "Epoch 19/30\n",
            "39/39 [==============================] - 7s 191ms/step - loss: 0.0034 - accuracy: 0.5094 - val_loss: 0.0269 - val_accuracy: 0.4723\n",
            "Epoch 20/30\n",
            "39/39 [==============================] - 7s 191ms/step - loss: 0.0028 - accuracy: 0.5078 - val_loss: 0.0323 - val_accuracy: 0.4919\n",
            "Epoch 21/30\n",
            "39/39 [==============================] - 7s 191ms/step - loss: 0.0024 - accuracy: 0.5069 - val_loss: 0.0281 - val_accuracy: 0.4756\n",
            "Epoch 22/30\n",
            "39/39 [==============================] - 7s 190ms/step - loss: 0.0020 - accuracy: 0.5102 - val_loss: 0.0276 - val_accuracy: 0.4919\n",
            "Epoch 23/30\n",
            "39/39 [==============================] - 7s 190ms/step - loss: 0.0016 - accuracy: 0.5004 - val_loss: 0.0268 - val_accuracy: 0.4788\n",
            "Epoch 24/30\n",
            "39/39 [==============================] - 8s 219ms/step - loss: 0.0015 - accuracy: 0.5029 - val_loss: 0.0264 - val_accuracy: 0.4788\n",
            "Epoch 25/30\n",
            "39/39 [==============================] - 7s 189ms/step - loss: 0.0012 - accuracy: 0.5094 - val_loss: 0.0251 - val_accuracy: 0.4853\n",
            "Epoch 26/30\n",
            "39/39 [==============================] - 8s 219ms/step - loss: 0.0011 - accuracy: 0.5078 - val_loss: 0.0263 - val_accuracy: 0.4951\n",
            "Epoch 27/30\n",
            "39/39 [==============================] - 7s 190ms/step - loss: 9.5163e-04 - accuracy: 0.5053 - val_loss: 0.0243 - val_accuracy: 0.4853\n",
            "Epoch 28/30\n",
            "39/39 [==============================] - 7s 190ms/step - loss: 8.3052e-04 - accuracy: 0.5069 - val_loss: 0.0254 - val_accuracy: 0.4886\n",
            "Epoch 29/30\n",
            "39/39 [==============================] - 7s 190ms/step - loss: 7.4694e-04 - accuracy: 0.5069 - val_loss: 0.0254 - val_accuracy: 0.4886\n",
            "Epoch 30/30\n",
            "39/39 [==============================] - 7s 190ms/step - loss: 6.6380e-04 - accuracy: 0.5094 - val_loss: 0.0246 - val_accuracy: 0.4821\n",
            "Model: 2048_512_64_16_16_5\n",
            "=================================================================================\n",
            "Epoch 1/30\n",
            "39/39 [==============================] - 11s 237ms/step - loss: 0.4149 - accuracy: 0.3282 - val_loss: 0.3517 - val_accuracy: 0.4756\n",
            "Epoch 2/30\n",
            "39/39 [==============================] - 7s 190ms/step - loss: 0.2916 - accuracy: 0.4922 - val_loss: 0.2902 - val_accuracy: 0.4886\n",
            "Epoch 3/30\n",
            "39/39 [==============================] - 7s 191ms/step - loss: 0.2382 - accuracy: 0.4808 - val_loss: 0.2586 - val_accuracy: 0.5081\n",
            "Epoch 4/30\n",
            "39/39 [==============================] - 7s 191ms/step - loss: 0.2024 - accuracy: 0.4988 - val_loss: 0.2231 - val_accuracy: 0.4886\n",
            "Epoch 5/30\n",
            "39/39 [==============================] - 7s 191ms/step - loss: 0.1718 - accuracy: 0.4922 - val_loss: 0.1954 - val_accuracy: 0.4788\n",
            "Epoch 6/30\n",
            "39/39 [==============================] - 7s 191ms/step - loss: 0.1374 - accuracy: 0.4873 - val_loss: 0.1586 - val_accuracy: 0.4430\n",
            "Epoch 7/30\n",
            "39/39 [==============================] - 7s 191ms/step - loss: 0.1010 - accuracy: 0.4792 - val_loss: 0.1402 - val_accuracy: 0.4593\n",
            "Epoch 8/30\n",
            "39/39 [==============================] - 7s 190ms/step - loss: 0.0752 - accuracy: 0.4751 - val_loss: 0.1172 - val_accuracy: 0.4951\n",
            "Epoch 9/30\n",
            "39/39 [==============================] - 7s 190ms/step - loss: 0.0576 - accuracy: 0.4906 - val_loss: 0.1001 - val_accuracy: 0.4625\n",
            "Epoch 10/30\n",
            "39/39 [==============================] - 7s 189ms/step - loss: 0.0459 - accuracy: 0.4694 - val_loss: 0.0900 - val_accuracy: 0.4593\n",
            "Epoch 11/30\n",
            "39/39 [==============================] - 7s 189ms/step - loss: 0.0377 - accuracy: 0.4857 - val_loss: 0.0895 - val_accuracy: 0.4756\n",
            "Epoch 12/30\n",
            "39/39 [==============================] - 7s 190ms/step - loss: 0.0332 - accuracy: 0.4906 - val_loss: 0.0840 - val_accuracy: 0.4821\n",
            "Epoch 13/30\n",
            "39/39 [==============================] - 7s 190ms/step - loss: 0.0283 - accuracy: 0.4816 - val_loss: 0.0774 - val_accuracy: 0.4625\n",
            "Epoch 14/30\n",
            "39/39 [==============================] - 7s 190ms/step - loss: 0.0249 - accuracy: 0.4955 - val_loss: 0.0841 - val_accuracy: 0.4104\n",
            "Epoch 15/30\n",
            "39/39 [==============================] - 7s 190ms/step - loss: 0.0225 - accuracy: 0.4980 - val_loss: 0.0667 - val_accuracy: 0.4463\n",
            "Epoch 16/30\n",
            "39/39 [==============================] - 7s 190ms/step - loss: 0.0187 - accuracy: 0.4865 - val_loss: 0.0661 - val_accuracy: 0.4756\n",
            "Epoch 17/30\n",
            "39/39 [==============================] - 7s 190ms/step - loss: 0.0178 - accuracy: 0.4971 - val_loss: 0.0601 - val_accuracy: 0.4723\n",
            "Epoch 18/30\n",
            "39/39 [==============================] - 7s 190ms/step - loss: 0.0145 - accuracy: 0.4939 - val_loss: 0.0556 - val_accuracy: 0.4691\n",
            "Epoch 19/30\n",
            "39/39 [==============================] - 7s 190ms/step - loss: 0.0121 - accuracy: 0.5020 - val_loss: 0.0621 - val_accuracy: 0.5244\n",
            "Epoch 20/30\n",
            "39/39 [==============================] - 8s 220ms/step - loss: 0.0106 - accuracy: 0.4971 - val_loss: 0.0568 - val_accuracy: 0.4951\n",
            "Epoch 21/30\n",
            "39/39 [==============================] - 8s 194ms/step - loss: 0.0084 - accuracy: 0.4971 - val_loss: 0.0554 - val_accuracy: 0.4625\n",
            "Epoch 22/30\n",
            "39/39 [==============================] - 7s 190ms/step - loss: 0.0072 - accuracy: 0.5053 - val_loss: 0.0521 - val_accuracy: 0.4560\n",
            "Epoch 23/30\n",
            "39/39 [==============================] - 7s 190ms/step - loss: 0.0064 - accuracy: 0.4988 - val_loss: 0.0665 - val_accuracy: 0.4430\n",
            "Epoch 24/30\n",
            "39/39 [==============================] - 7s 191ms/step - loss: 0.0102 - accuracy: 0.4996 - val_loss: 0.1059 - val_accuracy: 0.5244\n",
            "Epoch 25/30\n",
            "39/39 [==============================] - 7s 190ms/step - loss: 0.0133 - accuracy: 0.5127 - val_loss: 0.0560 - val_accuracy: 0.4984\n",
            "Epoch 26/30\n",
            "39/39 [==============================] - 7s 191ms/step - loss: 0.0063 - accuracy: 0.5078 - val_loss: 0.0385 - val_accuracy: 0.4658\n",
            "Epoch 27/30\n",
            "39/39 [==============================] - 7s 191ms/step - loss: 0.0068 - accuracy: 0.5045 - val_loss: 0.0493 - val_accuracy: 0.5244\n",
            "Epoch 28/30\n",
            "39/39 [==============================] - 7s 190ms/step - loss: 0.0046 - accuracy: 0.5143 - val_loss: 0.0467 - val_accuracy: 0.4332\n",
            "Epoch 29/30\n",
            "39/39 [==============================] - 7s 191ms/step - loss: 0.0028 - accuracy: 0.4890 - val_loss: 0.0496 - val_accuracy: 0.4528\n",
            "Epoch 30/30\n",
            "39/39 [==============================] - 7s 191ms/step - loss: 0.0018 - accuracy: 0.4661 - val_loss: 0.0393 - val_accuracy: 0.4463\n",
            "Model: 2048_512_64_16_10_5\n",
            "=================================================================================\n",
            "Epoch 1/30\n",
            "39/39 [==============================] - 12s 247ms/step - loss: 0.6650 - accuracy: 0.2180 - val_loss: 0.5971 - val_accuracy: 0.2313\n",
            "Epoch 2/30\n",
            "39/39 [==============================] - 7s 189ms/step - loss: 0.5398 - accuracy: 0.2384 - val_loss: 0.5155 - val_accuracy: 0.2313\n",
            "Epoch 3/30\n",
            "39/39 [==============================] - 7s 191ms/step - loss: 0.4877 - accuracy: 0.2392 - val_loss: 0.4837 - val_accuracy: 0.2248\n",
            "Epoch 4/30\n",
            "39/39 [==============================] - 7s 191ms/step - loss: 0.4528 - accuracy: 0.2441 - val_loss: 0.4533 - val_accuracy: 0.2573\n",
            "Epoch 5/30\n",
            "39/39 [==============================] - 7s 191ms/step - loss: 0.4118 - accuracy: 0.2588 - val_loss: 0.4091 - val_accuracy: 0.2801\n",
            "Epoch 6/30\n",
            "39/39 [==============================] - 7s 191ms/step - loss: 0.3620 - accuracy: 0.2792 - val_loss: 0.3603 - val_accuracy: 0.3029\n",
            "Epoch 7/30\n",
            "39/39 [==============================] - 7s 190ms/step - loss: 0.3150 - accuracy: 0.2955 - val_loss: 0.3212 - val_accuracy: 0.3160\n",
            "Epoch 8/30\n",
            "39/39 [==============================] - 7s 190ms/step - loss: 0.2695 - accuracy: 0.3257 - val_loss: 0.2869 - val_accuracy: 0.3420\n",
            "Epoch 9/30\n",
            "39/39 [==============================] - 8s 219ms/step - loss: 0.2334 - accuracy: 0.3445 - val_loss: 0.2540 - val_accuracy: 0.3388\n",
            "Epoch 10/30\n",
            "39/39 [==============================] - 7s 193ms/step - loss: 0.2060 - accuracy: 0.3518 - val_loss: 0.2291 - val_accuracy: 0.3453\n",
            "Epoch 11/30\n",
            "39/39 [==============================] - 7s 189ms/step - loss: 0.1855 - accuracy: 0.3551 - val_loss: 0.2103 - val_accuracy: 0.3648\n",
            "Epoch 12/30\n",
            "39/39 [==============================] - 7s 189ms/step - loss: 0.1705 - accuracy: 0.3616 - val_loss: 0.2138 - val_accuracy: 0.3257\n",
            "Epoch 13/30\n",
            "39/39 [==============================] - 7s 189ms/step - loss: 0.1599 - accuracy: 0.3616 - val_loss: 0.1922 - val_accuracy: 0.3746\n",
            "Epoch 14/30\n",
            "39/39 [==============================] - 7s 190ms/step - loss: 0.1500 - accuracy: 0.3657 - val_loss: 0.1819 - val_accuracy: 0.3518\n",
            "Epoch 15/30\n",
            "39/39 [==============================] - 7s 190ms/step - loss: 0.1428 - accuracy: 0.3698 - val_loss: 0.1765 - val_accuracy: 0.3518\n",
            "Epoch 16/30\n",
            "39/39 [==============================] - 7s 190ms/step - loss: 0.1379 - accuracy: 0.3616 - val_loss: 0.1721 - val_accuracy: 0.3518\n",
            "Epoch 17/30\n",
            "39/39 [==============================] - 7s 190ms/step - loss: 0.1332 - accuracy: 0.3706 - val_loss: 0.1721 - val_accuracy: 0.3779\n",
            "Epoch 18/30\n",
            "39/39 [==============================] - 7s 190ms/step - loss: 0.1280 - accuracy: 0.3657 - val_loss: 0.1692 - val_accuracy: 0.3746\n",
            "Epoch 19/30\n",
            "39/39 [==============================] - 7s 190ms/step - loss: 0.1243 - accuracy: 0.3624 - val_loss: 0.1666 - val_accuracy: 0.3355\n",
            "Epoch 20/30\n",
            "39/39 [==============================] - 7s 190ms/step - loss: 0.1219 - accuracy: 0.3722 - val_loss: 0.1620 - val_accuracy: 0.3225\n",
            "Epoch 21/30\n",
            "39/39 [==============================] - 7s 190ms/step - loss: 0.1197 - accuracy: 0.3690 - val_loss: 0.1600 - val_accuracy: 0.3616\n",
            "Epoch 22/30\n",
            "39/39 [==============================] - 7s 190ms/step - loss: 0.1167 - accuracy: 0.3641 - val_loss: 0.1579 - val_accuracy: 0.3648\n",
            "Epoch 23/30\n",
            "39/39 [==============================] - 7s 191ms/step - loss: 0.1142 - accuracy: 0.3731 - val_loss: 0.1572 - val_accuracy: 0.3681\n",
            "Epoch 24/30\n",
            "39/39 [==============================] - 7s 190ms/step - loss: 0.1116 - accuracy: 0.3698 - val_loss: 0.1504 - val_accuracy: 0.3844\n",
            "Epoch 25/30\n",
            "39/39 [==============================] - 7s 190ms/step - loss: 0.1098 - accuracy: 0.3649 - val_loss: 0.1557 - val_accuracy: 0.3876\n",
            "Epoch 26/30\n",
            "39/39 [==============================] - 7s 190ms/step - loss: 0.1082 - accuracy: 0.3682 - val_loss: 0.1502 - val_accuracy: 0.3616\n",
            "Epoch 27/30\n",
            "39/39 [==============================] - 7s 190ms/step - loss: 0.1066 - accuracy: 0.3584 - val_loss: 0.1490 - val_accuracy: 0.3681\n",
            "Epoch 28/30\n",
            "39/39 [==============================] - 7s 190ms/step - loss: 0.1050 - accuracy: 0.3722 - val_loss: 0.1498 - val_accuracy: 0.3388\n",
            "Epoch 29/30\n",
            "39/39 [==============================] - 7s 190ms/step - loss: 0.1046 - accuracy: 0.3649 - val_loss: 0.1488 - val_accuracy: 0.3844\n",
            "Epoch 30/30\n",
            "39/39 [==============================] - 7s 190ms/step - loss: 0.1049 - accuracy: 0.3714 - val_loss: 0.1423 - val_accuracy: 0.3746\n",
            "Model: 2048_512_64_16_5_5\n",
            "=================================================================================\n",
            "Epoch 1/30\n",
            "39/39 [==============================] - 10s 212ms/step - loss: 0.6179 - accuracy: 0.2653 - val_loss: 0.5927 - val_accuracy: 0.3257\n",
            "Epoch 2/30\n",
            "39/39 [==============================] - 7s 185ms/step - loss: 0.5447 - accuracy: 0.4122 - val_loss: 0.5069 - val_accuracy: 0.3844\n",
            "Epoch 3/30\n",
            "39/39 [==============================] - 7s 186ms/step - loss: 0.4512 - accuracy: 0.4237 - val_loss: 0.3962 - val_accuracy: 0.2997\n",
            "Epoch 4/30\n",
            "39/39 [==============================] - 7s 186ms/step - loss: 0.3065 - accuracy: 0.4016 - val_loss: 0.2830 - val_accuracy: 0.4267\n",
            "Epoch 5/30\n",
            "39/39 [==============================] - 7s 186ms/step - loss: 0.2333 - accuracy: 0.4514 - val_loss: 0.2421 - val_accuracy: 0.4430\n",
            "Epoch 6/30\n",
            "39/39 [==============================] - 7s 186ms/step - loss: 0.1878 - accuracy: 0.4727 - val_loss: 0.2020 - val_accuracy: 0.4300\n",
            "Epoch 7/30\n",
            "39/39 [==============================] - 7s 186ms/step - loss: 0.1523 - accuracy: 0.5053 - val_loss: 0.1782 - val_accuracy: 0.4593\n",
            "Epoch 8/30\n",
            "39/39 [==============================] - 7s 187ms/step - loss: 0.1242 - accuracy: 0.5143 - val_loss: 0.1537 - val_accuracy: 0.5212\n",
            "Epoch 9/30\n",
            "39/39 [==============================] - 7s 187ms/step - loss: 0.0959 - accuracy: 0.5257 - val_loss: 0.1295 - val_accuracy: 0.5147\n",
            "Epoch 10/30\n",
            "39/39 [==============================] - 7s 188ms/step - loss: 0.0769 - accuracy: 0.5363 - val_loss: 0.1207 - val_accuracy: 0.4853\n",
            "Epoch 11/30\n",
            "39/39 [==============================] - 7s 187ms/step - loss: 0.0615 - accuracy: 0.5347 - val_loss: 0.1031 - val_accuracy: 0.4886\n",
            "Epoch 12/30\n",
            "39/39 [==============================] - 7s 189ms/step - loss: 0.0479 - accuracy: 0.5404 - val_loss: 0.0935 - val_accuracy: 0.5375\n",
            "Epoch 13/30\n",
            "39/39 [==============================] - 7s 189ms/step - loss: 0.0407 - accuracy: 0.5502 - val_loss: 0.0829 - val_accuracy: 0.5375\n",
            "Epoch 14/30\n",
            "39/39 [==============================] - 7s 189ms/step - loss: 0.0309 - accuracy: 0.5437 - val_loss: 0.0789 - val_accuracy: 0.5212\n",
            "Epoch 15/30\n",
            "39/39 [==============================] - 7s 188ms/step - loss: 0.0239 - accuracy: 0.5510 - val_loss: 0.0761 - val_accuracy: 0.5277\n",
            "Epoch 16/30\n",
            "39/39 [==============================] - 7s 191ms/step - loss: 0.0207 - accuracy: 0.5494 - val_loss: 0.0642 - val_accuracy: 0.5081\n",
            "Epoch 17/30\n",
            "39/39 [==============================] - 7s 189ms/step - loss: 0.0162 - accuracy: 0.5437 - val_loss: 0.0622 - val_accuracy: 0.5244\n",
            "Epoch 18/30\n",
            "39/39 [==============================] - 7s 188ms/step - loss: 0.0135 - accuracy: 0.5445 - val_loss: 0.0598 - val_accuracy: 0.5309\n",
            "Epoch 19/30\n",
            "39/39 [==============================] - 7s 189ms/step - loss: 0.0123 - accuracy: 0.5478 - val_loss: 0.0581 - val_accuracy: 0.4984\n",
            "Epoch 20/30\n",
            "39/39 [==============================] - 7s 190ms/step - loss: 0.0102 - accuracy: 0.5453 - val_loss: 0.0597 - val_accuracy: 0.5244\n",
            "Epoch 21/30\n",
            "39/39 [==============================] - 7s 190ms/step - loss: 0.0090 - accuracy: 0.5445 - val_loss: 0.0541 - val_accuracy: 0.5342\n",
            "Epoch 22/30\n",
            "39/39 [==============================] - 7s 191ms/step - loss: 0.0077 - accuracy: 0.5478 - val_loss: 0.0574 - val_accuracy: 0.5407\n",
            "Epoch 23/30\n",
            "39/39 [==============================] - 7s 190ms/step - loss: 0.0070 - accuracy: 0.5453 - val_loss: 0.0478 - val_accuracy: 0.5212\n",
            "Epoch 24/30\n",
            "39/39 [==============================] - 7s 190ms/step - loss: 0.0060 - accuracy: 0.5420 - val_loss: 0.0512 - val_accuracy: 0.5114\n",
            "Epoch 25/30\n",
            "39/39 [==============================] - 7s 190ms/step - loss: 0.0051 - accuracy: 0.5429 - val_loss: 0.0441 - val_accuracy: 0.5147\n",
            "Epoch 26/30\n",
            "39/39 [==============================] - 7s 190ms/step - loss: 0.0045 - accuracy: 0.5437 - val_loss: 0.0434 - val_accuracy: 0.5212\n",
            "Epoch 27/30\n",
            "39/39 [==============================] - 7s 190ms/step - loss: 0.0037 - accuracy: 0.5396 - val_loss: 0.0438 - val_accuracy: 0.5081\n",
            "Epoch 28/30\n",
            "39/39 [==============================] - 7s 190ms/step - loss: 0.0032 - accuracy: 0.5404 - val_loss: 0.0436 - val_accuracy: 0.5179\n",
            "Epoch 29/30\n",
            "39/39 [==============================] - 7s 190ms/step - loss: 0.0028 - accuracy: 0.5461 - val_loss: 0.0430 - val_accuracy: 0.5212\n",
            "Epoch 30/30\n",
            "39/39 [==============================] - 7s 190ms/step - loss: 0.0025 - accuracy: 0.5388 - val_loss: 0.0433 - val_accuracy: 0.5277\n",
            "Model: 2048_512_64_10_10_5\n",
            "=================================================================================\n",
            "Epoch 1/30\n",
            "39/39 [==============================] - 11s 217ms/step - loss: 0.4391 - accuracy: 0.2392 - val_loss: 0.3852 - val_accuracy: 0.2313\n",
            "Epoch 2/30\n",
            "39/39 [==============================] - 8s 219ms/step - loss: 0.3401 - accuracy: 0.2384 - val_loss: 0.3388 - val_accuracy: 0.2410\n",
            "Epoch 3/30\n",
            "39/39 [==============================] - 7s 190ms/step - loss: 0.2928 - accuracy: 0.2531 - val_loss: 0.2972 - val_accuracy: 0.2736\n",
            "Epoch 4/30\n",
            "39/39 [==============================] - 7s 190ms/step - loss: 0.2594 - accuracy: 0.2816 - val_loss: 0.2680 - val_accuracy: 0.2704\n",
            "Epoch 5/30\n",
            "39/39 [==============================] - 7s 191ms/step - loss: 0.2360 - accuracy: 0.2939 - val_loss: 0.2420 - val_accuracy: 0.3779\n",
            "Epoch 6/30\n",
            "39/39 [==============================] - 8s 195ms/step - loss: 0.2197 - accuracy: 0.3869 - val_loss: 0.2342 - val_accuracy: 0.3844\n",
            "Epoch 7/30\n",
            "39/39 [==============================] - 7s 191ms/step - loss: 0.2016 - accuracy: 0.4008 - val_loss: 0.2091 - val_accuracy: 0.3974\n",
            "Epoch 8/30\n",
            "39/39 [==============================] - 7s 191ms/step - loss: 0.1756 - accuracy: 0.4000 - val_loss: 0.1829 - val_accuracy: 0.4007\n",
            "Epoch 9/30\n",
            "39/39 [==============================] - 8s 219ms/step - loss: 0.1521 - accuracy: 0.4073 - val_loss: 0.1653 - val_accuracy: 0.4691\n",
            "Epoch 10/30\n",
            "39/39 [==============================] - 7s 190ms/step - loss: 0.1395 - accuracy: 0.4490 - val_loss: 0.1518 - val_accuracy: 0.4365\n",
            "Epoch 11/30\n",
            "39/39 [==============================] - 7s 190ms/step - loss: 0.1254 - accuracy: 0.4612 - val_loss: 0.1474 - val_accuracy: 0.4365\n",
            "Epoch 12/30\n",
            "39/39 [==============================] - 7s 190ms/step - loss: 0.1167 - accuracy: 0.4702 - val_loss: 0.1398 - val_accuracy: 0.4528\n",
            "Epoch 13/30\n",
            "39/39 [==============================] - 7s 189ms/step - loss: 0.1101 - accuracy: 0.4645 - val_loss: 0.1336 - val_accuracy: 0.4332\n",
            "Epoch 14/30\n",
            "39/39 [==============================] - 7s 190ms/step - loss: 0.1063 - accuracy: 0.4702 - val_loss: 0.1381 - val_accuracy: 0.4528\n",
            "Epoch 15/30\n",
            "39/39 [==============================] - 7s 191ms/step - loss: 0.1084 - accuracy: 0.4751 - val_loss: 0.1257 - val_accuracy: 0.4723\n",
            "Epoch 16/30\n",
            "39/39 [==============================] - 7s 191ms/step - loss: 0.1010 - accuracy: 0.4678 - val_loss: 0.1165 - val_accuracy: 0.4463\n",
            "Epoch 17/30\n",
            "39/39 [==============================] - 7s 190ms/step - loss: 0.0971 - accuracy: 0.4694 - val_loss: 0.1255 - val_accuracy: 0.4430\n",
            "Epoch 18/30\n",
            "39/39 [==============================] - 7s 191ms/step - loss: 0.0963 - accuracy: 0.4702 - val_loss: 0.1396 - val_accuracy: 0.4007\n",
            "Epoch 19/30\n",
            "39/39 [==============================] - 7s 191ms/step - loss: 0.0956 - accuracy: 0.4759 - val_loss: 0.1299 - val_accuracy: 0.4332\n",
            "Epoch 20/30\n",
            "39/39 [==============================] - 7s 190ms/step - loss: 0.0926 - accuracy: 0.4776 - val_loss: 0.1181 - val_accuracy: 0.4397\n",
            "Epoch 21/30\n",
            "39/39 [==============================] - 7s 191ms/step - loss: 0.0920 - accuracy: 0.4735 - val_loss: 0.1247 - val_accuracy: 0.4430\n",
            "Epoch 22/30\n",
            "39/39 [==============================] - 7s 190ms/step - loss: 0.0916 - accuracy: 0.4759 - val_loss: 0.1080 - val_accuracy: 0.4821\n",
            "Epoch 23/30\n",
            "39/39 [==============================] - 9s 221ms/step - loss: 0.0902 - accuracy: 0.4751 - val_loss: 0.1163 - val_accuracy: 0.4495\n",
            "Epoch 24/30\n",
            "39/39 [==============================] - 7s 190ms/step - loss: 0.0903 - accuracy: 0.4735 - val_loss: 0.1204 - val_accuracy: 0.4397\n",
            "Epoch 25/30\n",
            "39/39 [==============================] - 7s 191ms/step - loss: 0.0901 - accuracy: 0.4841 - val_loss: 0.1102 - val_accuracy: 0.4593\n",
            "Epoch 26/30\n",
            "39/39 [==============================] - 9s 223ms/step - loss: 0.0889 - accuracy: 0.4841 - val_loss: 0.1097 - val_accuracy: 0.4528\n",
            "Epoch 27/30\n",
            "39/39 [==============================] - 7s 190ms/step - loss: 0.0874 - accuracy: 0.4767 - val_loss: 0.1111 - val_accuracy: 0.4495\n",
            "Epoch 28/30\n",
            "39/39 [==============================] - 7s 190ms/step - loss: 0.0868 - accuracy: 0.4833 - val_loss: 0.1163 - val_accuracy: 0.4560\n",
            "Epoch 29/30\n",
            "39/39 [==============================] - 7s 190ms/step - loss: 0.0876 - accuracy: 0.4833 - val_loss: 0.1068 - val_accuracy: 0.4528\n",
            "Epoch 30/30\n",
            "39/39 [==============================] - 7s 190ms/step - loss: 0.0878 - accuracy: 0.4767 - val_loss: 0.1163 - val_accuracy: 0.4463\n",
            "Model: 2048_512_64_10_5_5\n",
            "=================================================================================\n",
            "Epoch 1/30\n",
            "39/39 [==============================] - 11s 219ms/step - loss: 0.6950 - accuracy: 0.1069 - val_loss: 0.6793 - val_accuracy: 0.1922\n",
            "Epoch 2/30\n",
            "39/39 [==============================] - 8s 219ms/step - loss: 0.6736 - accuracy: 0.2000 - val_loss: 0.6604 - val_accuracy: 0.2313\n",
            "Epoch 3/30\n",
            "39/39 [==============================] - 7s 191ms/step - loss: 0.6630 - accuracy: 0.1845 - val_loss: 0.6570 - val_accuracy: 0.2313\n",
            "Epoch 4/30\n",
            "39/39 [==============================] - 7s 192ms/step - loss: 0.6562 - accuracy: 0.2465 - val_loss: 0.6477 - val_accuracy: 0.2899\n",
            "Epoch 5/30\n",
            "39/39 [==============================] - 7s 192ms/step - loss: 0.6474 - accuracy: 0.3388 - val_loss: 0.6407 - val_accuracy: 0.3811\n",
            "Epoch 6/30\n",
            "39/39 [==============================] - 7s 191ms/step - loss: 0.6431 - accuracy: 0.4498 - val_loss: 0.6362 - val_accuracy: 0.6482\n",
            "Epoch 7/30\n",
            "39/39 [==============================] - 7s 192ms/step - loss: 0.6398 - accuracy: 0.6498 - val_loss: 0.6323 - val_accuracy: 0.6384\n",
            "Epoch 8/30\n",
            "39/39 [==============================] - 9s 221ms/step - loss: 0.6361 - accuracy: 0.6604 - val_loss: 0.6302 - val_accuracy: 0.6417\n",
            "Epoch 9/30\n",
            "39/39 [==============================] - 7s 190ms/step - loss: 0.6335 - accuracy: 0.6563 - val_loss: 0.6269 - val_accuracy: 0.6547\n",
            "Epoch 10/30\n",
            "39/39 [==============================] - 7s 191ms/step - loss: 0.6315 - accuracy: 0.6604 - val_loss: 0.6262 - val_accuracy: 0.6645\n",
            "Epoch 11/30\n",
            "39/39 [==============================] - 7s 191ms/step - loss: 0.6295 - accuracy: 0.6604 - val_loss: 0.6232 - val_accuracy: 0.6482\n",
            "Epoch 12/30\n",
            "39/39 [==============================] - 7s 191ms/step - loss: 0.6275 - accuracy: 0.6596 - val_loss: 0.6196 - val_accuracy: 0.6417\n",
            "Epoch 13/30\n",
            "39/39 [==============================] - 7s 191ms/step - loss: 0.6253 - accuracy: 0.6735 - val_loss: 0.6181 - val_accuracy: 0.6612\n",
            "Epoch 14/30\n",
            "39/39 [==============================] - 7s 192ms/step - loss: 0.6227 - accuracy: 0.6686 - val_loss: 0.6149 - val_accuracy: 0.6156\n",
            "Epoch 15/30\n",
            "39/39 [==============================] - 9s 222ms/step - loss: 0.6198 - accuracy: 0.6522 - val_loss: 0.6128 - val_accuracy: 0.6221\n",
            "Epoch 16/30\n",
            "39/39 [==============================] - 7s 190ms/step - loss: 0.6176 - accuracy: 0.6669 - val_loss: 0.6099 - val_accuracy: 0.5863\n",
            "Epoch 17/30\n",
            "39/39 [==============================] - 7s 191ms/step - loss: 0.6140 - accuracy: 0.6580 - val_loss: 0.6078 - val_accuracy: 0.6515\n",
            "Epoch 18/30\n",
            "39/39 [==============================] - 8s 220ms/step - loss: 0.6110 - accuracy: 0.6522 - val_loss: 0.6048 - val_accuracy: 0.6221\n",
            "Epoch 19/30\n",
            "39/39 [==============================] - 7s 191ms/step - loss: 0.6085 - accuracy: 0.6604 - val_loss: 0.6025 - val_accuracy: 0.6547\n",
            "Epoch 20/30\n",
            "39/39 [==============================] - 9s 221ms/step - loss: 0.6052 - accuracy: 0.6498 - val_loss: 0.5982 - val_accuracy: 0.6059\n",
            "Epoch 21/30\n",
            "39/39 [==============================] - 7s 192ms/step - loss: 0.6015 - accuracy: 0.6367 - val_loss: 0.5950 - val_accuracy: 0.5179\n",
            "Epoch 22/30\n",
            "39/39 [==============================] - 7s 191ms/step - loss: 0.5991 - accuracy: 0.6155 - val_loss: 0.5933 - val_accuracy: 0.6156\n",
            "Epoch 23/30\n",
            "39/39 [==============================] - 7s 191ms/step - loss: 0.5960 - accuracy: 0.6261 - val_loss: 0.5931 - val_accuracy: 0.4495\n",
            "Epoch 24/30\n",
            "39/39 [==============================] - 7s 191ms/step - loss: 0.5939 - accuracy: 0.5788 - val_loss: 0.5876 - val_accuracy: 0.5961\n",
            "Epoch 25/30\n",
            "39/39 [==============================] - 7s 192ms/step - loss: 0.5906 - accuracy: 0.5429 - val_loss: 0.5845 - val_accuracy: 0.3811\n",
            "Epoch 26/30\n",
            "39/39 [==============================] - 7s 192ms/step - loss: 0.5855 - accuracy: 0.3796 - val_loss: 0.5757 - val_accuracy: 0.3420\n",
            "Epoch 27/30\n",
            "39/39 [==============================] - 7s 192ms/step - loss: 0.5789 - accuracy: 0.3404 - val_loss: 0.5731 - val_accuracy: 0.3257\n",
            "Epoch 28/30\n",
            "39/39 [==============================] - 7s 192ms/step - loss: 0.5736 - accuracy: 0.3339 - val_loss: 0.5663 - val_accuracy: 0.3094\n",
            "Epoch 29/30\n",
            "39/39 [==============================] - 7s 191ms/step - loss: 0.5691 - accuracy: 0.3200 - val_loss: 0.5623 - val_accuracy: 0.3257\n",
            "Epoch 30/30\n",
            "39/39 [==============================] - 7s 191ms/step - loss: 0.5643 - accuracy: 0.3273 - val_loss: 0.5593 - val_accuracy: 0.3225\n",
            "Model: 2048_512_64_5_5_5\n",
            "=================================================================================\n",
            "Epoch 1/30\n",
            "39/39 [==============================] - 12s 243ms/step - loss: 0.4834 - accuracy: 0.1747 - val_loss: 0.4329 - val_accuracy: 0.1889\n",
            "Epoch 2/30\n",
            "39/39 [==============================] - 7s 186ms/step - loss: 0.3627 - accuracy: 0.2833 - val_loss: 0.3442 - val_accuracy: 0.3257\n",
            "Epoch 3/30\n",
            "39/39 [==============================] - 8s 217ms/step - loss: 0.2608 - accuracy: 0.4547 - val_loss: 0.2428 - val_accuracy: 0.4430\n",
            "Epoch 4/30\n",
            "39/39 [==============================] - 7s 187ms/step - loss: 0.1649 - accuracy: 0.5404 - val_loss: 0.1630 - val_accuracy: 0.5147\n",
            "Epoch 5/30\n",
            "39/39 [==============================] - 7s 188ms/step - loss: 0.0964 - accuracy: 0.5682 - val_loss: 0.1214 - val_accuracy: 0.5440\n",
            "Epoch 6/30\n",
            "39/39 [==============================] - 7s 189ms/step - loss: 0.0574 - accuracy: 0.5616 - val_loss: 0.0848 - val_accuracy: 0.5440\n",
            "Epoch 7/30\n",
            "39/39 [==============================] - 7s 189ms/step - loss: 0.0351 - accuracy: 0.5682 - val_loss: 0.0662 - val_accuracy: 0.4886\n",
            "Epoch 8/30\n",
            "39/39 [==============================] - 7s 188ms/step - loss: 0.0245 - accuracy: 0.5722 - val_loss: 0.0550 - val_accuracy: 0.5244\n",
            "Epoch 9/30\n",
            "39/39 [==============================] - 7s 189ms/step - loss: 0.0161 - accuracy: 0.5551 - val_loss: 0.0462 - val_accuracy: 0.5603\n",
            "Epoch 10/30\n",
            "39/39 [==============================] - 7s 189ms/step - loss: 0.0104 - accuracy: 0.5665 - val_loss: 0.0381 - val_accuracy: 0.4951\n",
            "Epoch 11/30\n",
            "39/39 [==============================] - 7s 191ms/step - loss: 0.0075 - accuracy: 0.5641 - val_loss: 0.0356 - val_accuracy: 0.5570\n",
            "Epoch 12/30\n",
            "39/39 [==============================] - 7s 191ms/step - loss: 0.0056 - accuracy: 0.5747 - val_loss: 0.0303 - val_accuracy: 0.5407\n",
            "Epoch 13/30\n",
            "39/39 [==============================] - 7s 191ms/step - loss: 0.0044 - accuracy: 0.5722 - val_loss: 0.0283 - val_accuracy: 0.5147\n",
            "Epoch 14/30\n",
            "39/39 [==============================] - 7s 190ms/step - loss: 0.0036 - accuracy: 0.5690 - val_loss: 0.0278 - val_accuracy: 0.5277\n",
            "Epoch 15/30\n",
            "39/39 [==============================] - 7s 191ms/step - loss: 0.0028 - accuracy: 0.5747 - val_loss: 0.0271 - val_accuracy: 0.5212\n",
            "Epoch 16/30\n",
            "39/39 [==============================] - 8s 220ms/step - loss: 0.0024 - accuracy: 0.5731 - val_loss: 0.0268 - val_accuracy: 0.5375\n",
            "Epoch 17/30\n",
            "39/39 [==============================] - 7s 191ms/step - loss: 0.0020 - accuracy: 0.5616 - val_loss: 0.0247 - val_accuracy: 0.5472\n",
            "Epoch 18/30\n",
            "39/39 [==============================] - 8s 194ms/step - loss: 0.0017 - accuracy: 0.5731 - val_loss: 0.0246 - val_accuracy: 0.5472\n",
            "Epoch 19/30\n",
            "39/39 [==============================] - 7s 190ms/step - loss: 0.0014 - accuracy: 0.5649 - val_loss: 0.0240 - val_accuracy: 0.5407\n",
            "Epoch 20/30\n",
            "39/39 [==============================] - 7s 191ms/step - loss: 0.0013 - accuracy: 0.5649 - val_loss: 0.0234 - val_accuracy: 0.5342\n",
            "Epoch 21/30\n",
            "39/39 [==============================] - 7s 191ms/step - loss: 0.0011 - accuracy: 0.5665 - val_loss: 0.0234 - val_accuracy: 0.5342\n",
            "Epoch 22/30\n",
            "39/39 [==============================] - 7s 192ms/step - loss: 0.0010 - accuracy: 0.5682 - val_loss: 0.0228 - val_accuracy: 0.5342\n",
            "Epoch 23/30\n",
            "39/39 [==============================] - 7s 191ms/step - loss: 8.7756e-04 - accuracy: 0.5657 - val_loss: 0.0232 - val_accuracy: 0.5440\n",
            "Epoch 24/30\n",
            "39/39 [==============================] - 7s 191ms/step - loss: 7.7866e-04 - accuracy: 0.5657 - val_loss: 0.0223 - val_accuracy: 0.5342\n",
            "Epoch 25/30\n",
            "39/39 [==============================] - 9s 220ms/step - loss: 7.0535e-04 - accuracy: 0.5665 - val_loss: 0.0221 - val_accuracy: 0.5375\n",
            "Epoch 26/30\n",
            "39/39 [==============================] - 7s 191ms/step - loss: 6.3774e-04 - accuracy: 0.5624 - val_loss: 0.0221 - val_accuracy: 0.5440\n",
            "Epoch 27/30\n",
            "39/39 [==============================] - 7s 191ms/step - loss: 5.9188e-04 - accuracy: 0.5731 - val_loss: 0.0215 - val_accuracy: 0.5277\n",
            "Epoch 28/30\n",
            "39/39 [==============================] - 7s 191ms/step - loss: 5.3356e-04 - accuracy: 0.5706 - val_loss: 0.0226 - val_accuracy: 0.5375\n",
            "Epoch 29/30\n",
            "39/39 [==============================] - 7s 191ms/step - loss: 4.8750e-04 - accuracy: 0.5706 - val_loss: 0.0206 - val_accuracy: 0.5440\n",
            "Epoch 30/30\n",
            "39/39 [==============================] - 7s 191ms/step - loss: 4.4504e-04 - accuracy: 0.5722 - val_loss: 0.0212 - val_accuracy: 0.5440\n",
            "Model: 2048_512_32_32_32_5\n",
            "=================================================================================\n",
            "Epoch 1/30\n",
            "39/39 [==============================] - 12s 246ms/step - loss: 0.3989 - accuracy: 0.2947 - val_loss: 0.3136 - val_accuracy: 0.4007\n",
            "Epoch 2/30\n",
            "39/39 [==============================] - 7s 190ms/step - loss: 0.2318 - accuracy: 0.4449 - val_loss: 0.2185 - val_accuracy: 0.4886\n",
            "Epoch 3/30\n",
            "39/39 [==============================] - 7s 191ms/step - loss: 0.1485 - accuracy: 0.5159 - val_loss: 0.1553 - val_accuracy: 0.4658\n",
            "Epoch 4/30\n",
            "39/39 [==============================] - 7s 191ms/step - loss: 0.1012 - accuracy: 0.5273 - val_loss: 0.1226 - val_accuracy: 0.4593\n",
            "Epoch 5/30\n",
            "39/39 [==============================] - 7s 192ms/step - loss: 0.0702 - accuracy: 0.5208 - val_loss: 0.1000 - val_accuracy: 0.4951\n",
            "Epoch 6/30\n",
            "39/39 [==============================] - 8s 194ms/step - loss: 0.0513 - accuracy: 0.5420 - val_loss: 0.0815 - val_accuracy: 0.4723\n",
            "Epoch 7/30\n",
            "39/39 [==============================] - 7s 191ms/step - loss: 0.0403 - accuracy: 0.5388 - val_loss: 0.0807 - val_accuracy: 0.5309\n",
            "Epoch 8/30\n",
            "39/39 [==============================] - 7s 191ms/step - loss: 0.0302 - accuracy: 0.5518 - val_loss: 0.0692 - val_accuracy: 0.4756\n",
            "Epoch 9/30\n",
            "39/39 [==============================] - 9s 220ms/step - loss: 0.0211 - accuracy: 0.5437 - val_loss: 0.0468 - val_accuracy: 0.5472\n",
            "Epoch 10/30\n",
            "39/39 [==============================] - 7s 191ms/step - loss: 0.0139 - accuracy: 0.5510 - val_loss: 0.0392 - val_accuracy: 0.4919\n",
            "Epoch 11/30\n",
            "39/39 [==============================] - 9s 221ms/step - loss: 0.0089 - accuracy: 0.5600 - val_loss: 0.0358 - val_accuracy: 0.5212\n",
            "Epoch 12/30\n",
            "39/39 [==============================] - 7s 191ms/step - loss: 0.0070 - accuracy: 0.5584 - val_loss: 0.0328 - val_accuracy: 0.4919\n",
            "Epoch 13/30\n",
            "39/39 [==============================] - 7s 191ms/step - loss: 0.0050 - accuracy: 0.5518 - val_loss: 0.0327 - val_accuracy: 0.4788\n",
            "Epoch 14/30\n",
            "39/39 [==============================] - 7s 191ms/step - loss: 0.0038 - accuracy: 0.5698 - val_loss: 0.0259 - val_accuracy: 0.5342\n",
            "Epoch 15/30\n",
            "39/39 [==============================] - 7s 191ms/step - loss: 0.0027 - accuracy: 0.5535 - val_loss: 0.0238 - val_accuracy: 0.5081\n",
            "Epoch 16/30\n",
            "39/39 [==============================] - 7s 191ms/step - loss: 0.0022 - accuracy: 0.5592 - val_loss: 0.0221 - val_accuracy: 0.5244\n",
            "Epoch 17/30\n",
            "39/39 [==============================] - 7s 192ms/step - loss: 0.0017 - accuracy: 0.5657 - val_loss: 0.0226 - val_accuracy: 0.5342\n",
            "Epoch 18/30\n",
            "39/39 [==============================] - 7s 192ms/step - loss: 0.0015 - accuracy: 0.5665 - val_loss: 0.0206 - val_accuracy: 0.5277\n",
            "Epoch 19/30\n",
            "39/39 [==============================] - 7s 192ms/step - loss: 0.0013 - accuracy: 0.5616 - val_loss: 0.0215 - val_accuracy: 0.5212\n",
            "Epoch 20/30\n",
            "39/39 [==============================] - 7s 192ms/step - loss: 0.0011 - accuracy: 0.5633 - val_loss: 0.0200 - val_accuracy: 0.5244\n",
            "Epoch 21/30\n",
            "39/39 [==============================] - 7s 191ms/step - loss: 9.2666e-04 - accuracy: 0.5673 - val_loss: 0.0206 - val_accuracy: 0.5309\n",
            "Epoch 22/30\n",
            "39/39 [==============================] - 7s 191ms/step - loss: 8.1240e-04 - accuracy: 0.5698 - val_loss: 0.0194 - val_accuracy: 0.5375\n",
            "Epoch 23/30\n",
            "39/39 [==============================] - 7s 192ms/step - loss: 7.1582e-04 - accuracy: 0.5698 - val_loss: 0.0190 - val_accuracy: 0.5212\n",
            "Epoch 24/30\n",
            "39/39 [==============================] - 7s 191ms/step - loss: 6.3561e-04 - accuracy: 0.5682 - val_loss: 0.0189 - val_accuracy: 0.5309\n",
            "Epoch 25/30\n",
            "39/39 [==============================] - 7s 193ms/step - loss: 5.6446e-04 - accuracy: 0.5682 - val_loss: 0.0185 - val_accuracy: 0.5179\n",
            "Epoch 26/30\n",
            "39/39 [==============================] - 9s 221ms/step - loss: 5.0448e-04 - accuracy: 0.5722 - val_loss: 0.0188 - val_accuracy: 0.5277\n",
            "Epoch 27/30\n",
            "39/39 [==============================] - 9s 220ms/step - loss: 4.5918e-04 - accuracy: 0.5673 - val_loss: 0.0179 - val_accuracy: 0.5309\n",
            "Epoch 28/30\n",
            "39/39 [==============================] - 7s 191ms/step - loss: 4.1679e-04 - accuracy: 0.5690 - val_loss: 0.0183 - val_accuracy: 0.5342\n",
            "Epoch 29/30\n",
            "39/39 [==============================] - 7s 191ms/step - loss: 3.7490e-04 - accuracy: 0.5657 - val_loss: 0.0184 - val_accuracy: 0.5375\n",
            "Epoch 30/30\n",
            "39/39 [==============================] - 7s 191ms/step - loss: 3.4141e-04 - accuracy: 0.5706 - val_loss: 0.0180 - val_accuracy: 0.5375\n",
            "Model: 2048_512_32_32_16_5\n",
            "=================================================================================\n",
            "Epoch 1/30\n",
            "39/39 [==============================] - 11s 218ms/step - loss: 0.6374 - accuracy: 0.4637 - val_loss: 0.6130 - val_accuracy: 0.4756\n",
            "Epoch 2/30\n",
            "39/39 [==============================] - 7s 191ms/step - loss: 0.5926 - accuracy: 0.5094 - val_loss: 0.5905 - val_accuracy: 0.5668\n",
            "Epoch 3/30\n",
            "39/39 [==============================] - 7s 192ms/step - loss: 0.5674 - accuracy: 0.6253 - val_loss: 0.5694 - val_accuracy: 0.6645\n",
            "Epoch 4/30\n",
            "39/39 [==============================] - 7s 191ms/step - loss: 0.5493 - accuracy: 0.7127 - val_loss: 0.5584 - val_accuracy: 0.7036\n",
            "Epoch 5/30\n",
            "39/39 [==============================] - 7s 192ms/step - loss: 0.5362 - accuracy: 0.7796 - val_loss: 0.5452 - val_accuracy: 0.7492\n",
            "Epoch 6/30\n",
            "39/39 [==============================] - 7s 192ms/step - loss: 0.5231 - accuracy: 0.8237 - val_loss: 0.5333 - val_accuracy: 0.7785\n",
            "Epoch 7/30\n",
            "39/39 [==============================] - 7s 191ms/step - loss: 0.5116 - accuracy: 0.8498 - val_loss: 0.5226 - val_accuracy: 0.7883\n",
            "Epoch 8/30\n",
            "39/39 [==============================] - 9s 220ms/step - loss: 0.5014 - accuracy: 0.8645 - val_loss: 0.5128 - val_accuracy: 0.8306\n",
            "Epoch 9/30\n",
            "39/39 [==============================] - 7s 192ms/step - loss: 0.4908 - accuracy: 0.8857 - val_loss: 0.5031 - val_accuracy: 0.8046\n",
            "Epoch 10/30\n",
            "39/39 [==============================] - 7s 193ms/step - loss: 0.4815 - accuracy: 0.8849 - val_loss: 0.4930 - val_accuracy: 0.8078\n",
            "Epoch 11/30\n",
            "39/39 [==============================] - 7s 192ms/step - loss: 0.4698 - accuracy: 0.9004 - val_loss: 0.4822 - val_accuracy: 0.8176\n",
            "Epoch 12/30\n",
            "39/39 [==============================] - 7s 192ms/step - loss: 0.4580 - accuracy: 0.8971 - val_loss: 0.4686 - val_accuracy: 0.8404\n",
            "Epoch 13/30\n",
            "39/39 [==============================] - 7s 191ms/step - loss: 0.4421 - accuracy: 0.9004 - val_loss: 0.4535 - val_accuracy: 0.8046\n",
            "Epoch 14/30\n",
            "39/39 [==============================] - 8s 195ms/step - loss: 0.4226 - accuracy: 0.9110 - val_loss: 0.4359 - val_accuracy: 0.8469\n",
            "Epoch 15/30\n",
            "39/39 [==============================] - 7s 191ms/step - loss: 0.3978 - accuracy: 0.8996 - val_loss: 0.4050 - val_accuracy: 0.7459\n",
            "Epoch 16/30\n",
            "39/39 [==============================] - 7s 190ms/step - loss: 0.3635 - accuracy: 0.8751 - val_loss: 0.3740 - val_accuracy: 0.7199\n",
            "Epoch 17/30\n",
            "39/39 [==============================] - 9s 221ms/step - loss: 0.3202 - accuracy: 0.8057 - val_loss: 0.3449 - val_accuracy: 0.7003\n",
            "Epoch 18/30\n",
            "39/39 [==============================] - 7s 192ms/step - loss: 0.2558 - accuracy: 0.7690 - val_loss: 0.2612 - val_accuracy: 0.8078\n",
            "Epoch 19/30\n",
            "39/39 [==============================] - 7s 190ms/step - loss: 0.1886 - accuracy: 0.7894 - val_loss: 0.2178 - val_accuracy: 0.8013\n",
            "Epoch 20/30\n",
            "39/39 [==============================] - 9s 221ms/step - loss: 0.1515 - accuracy: 0.7796 - val_loss: 0.1839 - val_accuracy: 0.6482\n",
            "Epoch 21/30\n",
            "39/39 [==============================] - 7s 192ms/step - loss: 0.1161 - accuracy: 0.7829 - val_loss: 0.1542 - val_accuracy: 0.7264\n",
            "Epoch 22/30\n",
            "39/39 [==============================] - 7s 191ms/step - loss: 0.0950 - accuracy: 0.7698 - val_loss: 0.1465 - val_accuracy: 0.5668\n",
            "Epoch 23/30\n",
            "39/39 [==============================] - 7s 191ms/step - loss: 0.0783 - accuracy: 0.7078 - val_loss: 0.1279 - val_accuracy: 0.5342\n",
            "Epoch 24/30\n",
            "39/39 [==============================] - 7s 191ms/step - loss: 0.0655 - accuracy: 0.7314 - val_loss: 0.1210 - val_accuracy: 0.6189\n",
            "Epoch 25/30\n",
            "39/39 [==============================] - 7s 191ms/step - loss: 0.0587 - accuracy: 0.7380 - val_loss: 0.1032 - val_accuracy: 0.5928\n",
            "Epoch 26/30\n",
            "39/39 [==============================] - 7s 192ms/step - loss: 0.0553 - accuracy: 0.7233 - val_loss: 0.1114 - val_accuracy: 0.5733\n",
            "Epoch 27/30\n",
            "39/39 [==============================] - 7s 191ms/step - loss: 0.0524 - accuracy: 0.7192 - val_loss: 0.1113 - val_accuracy: 0.6547\n",
            "Epoch 28/30\n",
            "39/39 [==============================] - 7s 191ms/step - loss: 0.0492 - accuracy: 0.7127 - val_loss: 0.1120 - val_accuracy: 0.5505\n",
            "Epoch 29/30\n",
            "39/39 [==============================] - 7s 191ms/step - loss: 0.0449 - accuracy: 0.6914 - val_loss: 0.1112 - val_accuracy: 0.5537\n",
            "Epoch 30/30\n",
            "39/39 [==============================] - 7s 191ms/step - loss: 0.0411 - accuracy: 0.6335 - val_loss: 0.0949 - val_accuracy: 0.6287\n",
            "Model: 2048_512_32_32_10_5\n",
            "=================================================================================\n",
            "Epoch 1/30\n",
            "39/39 [==============================] - 10s 212ms/step - loss: 0.5445 - accuracy: 0.5812 - val_loss: 0.4911 - val_accuracy: 0.6221\n",
            "Epoch 2/30\n",
            "39/39 [==============================] - 7s 187ms/step - loss: 0.4496 - accuracy: 0.6824 - val_loss: 0.4385 - val_accuracy: 0.6710\n",
            "Epoch 3/30\n",
            "39/39 [==============================] - 7s 187ms/step - loss: 0.4064 - accuracy: 0.7012 - val_loss: 0.4069 - val_accuracy: 0.6743\n",
            "Epoch 4/30\n",
            "39/39 [==============================] - 7s 187ms/step - loss: 0.3756 - accuracy: 0.7224 - val_loss: 0.3796 - val_accuracy: 0.6938\n",
            "Epoch 5/30\n",
            "39/39 [==============================] - 7s 188ms/step - loss: 0.3489 - accuracy: 0.7322 - val_loss: 0.3605 - val_accuracy: 0.6906\n",
            "Epoch 6/30\n",
            "39/39 [==============================] - 7s 189ms/step - loss: 0.3259 - accuracy: 0.7322 - val_loss: 0.3346 - val_accuracy: 0.7036\n",
            "Epoch 7/30\n",
            "39/39 [==============================] - 7s 189ms/step - loss: 0.3031 - accuracy: 0.7298 - val_loss: 0.3141 - val_accuracy: 0.6808\n",
            "Epoch 8/30\n",
            "39/39 [==============================] - 7s 189ms/step - loss: 0.2787 - accuracy: 0.7290 - val_loss: 0.2903 - val_accuracy: 0.7036\n",
            "Epoch 9/30\n",
            "39/39 [==============================] - 7s 190ms/step - loss: 0.2497 - accuracy: 0.7241 - val_loss: 0.2645 - val_accuracy: 0.6515\n",
            "Epoch 10/30\n",
            "39/39 [==============================] - 7s 189ms/step - loss: 0.2140 - accuracy: 0.7184 - val_loss: 0.2361 - val_accuracy: 0.6287\n",
            "Epoch 11/30\n",
            "39/39 [==============================] - 7s 190ms/step - loss: 0.1774 - accuracy: 0.6963 - val_loss: 0.2102 - val_accuracy: 0.3876\n",
            "Epoch 12/30\n",
            "39/39 [==============================] - 7s 190ms/step - loss: 0.1533 - accuracy: 0.6727 - val_loss: 0.1846 - val_accuracy: 0.6743\n",
            "Epoch 13/30\n",
            "39/39 [==============================] - 7s 190ms/step - loss: 0.1376 - accuracy: 0.6865 - val_loss: 0.1777 - val_accuracy: 0.5603\n",
            "Epoch 14/30\n",
            "39/39 [==============================] - 7s 191ms/step - loss: 0.1281 - accuracy: 0.6947 - val_loss: 0.1669 - val_accuracy: 0.5928\n",
            "Epoch 15/30\n",
            "39/39 [==============================] - 7s 191ms/step - loss: 0.1230 - accuracy: 0.6800 - val_loss: 0.1741 - val_accuracy: 0.4788\n",
            "Epoch 16/30\n",
            "39/39 [==============================] - 7s 190ms/step - loss: 0.1190 - accuracy: 0.6727 - val_loss: 0.1608 - val_accuracy: 0.6026\n",
            "Epoch 17/30\n",
            "39/39 [==============================] - 8s 193ms/step - loss: 0.1145 - accuracy: 0.6947 - val_loss: 0.1723 - val_accuracy: 0.5993\n",
            "Epoch 18/30\n",
            "39/39 [==============================] - 7s 190ms/step - loss: 0.1118 - accuracy: 0.6906 - val_loss: 0.1652 - val_accuracy: 0.6319\n",
            "Epoch 19/30\n",
            "39/39 [==============================] - 7s 191ms/step - loss: 0.1087 - accuracy: 0.6824 - val_loss: 0.1525 - val_accuracy: 0.5961\n",
            "Epoch 20/30\n",
            "39/39 [==============================] - 7s 191ms/step - loss: 0.1050 - accuracy: 0.6849 - val_loss: 0.1545 - val_accuracy: 0.6124\n",
            "Epoch 21/30\n",
            "39/39 [==============================] - 7s 190ms/step - loss: 0.1020 - accuracy: 0.6849 - val_loss: 0.1472 - val_accuracy: 0.5407\n",
            "Epoch 22/30\n",
            "39/39 [==============================] - 7s 191ms/step - loss: 0.1004 - accuracy: 0.6971 - val_loss: 0.1592 - val_accuracy: 0.5668\n",
            "Epoch 23/30\n",
            "39/39 [==============================] - 7s 190ms/step - loss: 0.0980 - accuracy: 0.6710 - val_loss: 0.1560 - val_accuracy: 0.6124\n",
            "Epoch 24/30\n",
            "39/39 [==============================] - 7s 191ms/step - loss: 0.0973 - accuracy: 0.6563 - val_loss: 0.1369 - val_accuracy: 0.6091\n",
            "Epoch 25/30\n",
            "39/39 [==============================] - 7s 191ms/step - loss: 0.0957 - accuracy: 0.6922 - val_loss: 0.1485 - val_accuracy: 0.6417\n",
            "Epoch 26/30\n",
            "39/39 [==============================] - 7s 192ms/step - loss: 0.0915 - accuracy: 0.7396 - val_loss: 0.1480 - val_accuracy: 0.5928\n",
            "Epoch 27/30\n",
            "39/39 [==============================] - 7s 191ms/step - loss: 0.0876 - accuracy: 0.7469 - val_loss: 0.1431 - val_accuracy: 0.6091\n",
            "Epoch 28/30\n",
            "39/39 [==============================] - 7s 191ms/step - loss: 0.0829 - accuracy: 0.7355 - val_loss: 0.1423 - val_accuracy: 0.6124\n",
            "Epoch 29/30\n",
            "39/39 [==============================] - 7s 192ms/step - loss: 0.0820 - accuracy: 0.7388 - val_loss: 0.1384 - val_accuracy: 0.7199\n",
            "Epoch 30/30\n",
            "39/39 [==============================] - 7s 191ms/step - loss: 0.0718 - accuracy: 0.7616 - val_loss: 0.1331 - val_accuracy: 0.6254\n",
            "Model: 2048_512_32_32_5_5\n",
            "=================================================================================\n",
            "Epoch 1/30\n"
          ]
        }
      ],
      "source": [
        "tested = 474\n",
        "for i in range(len(dense)):\n",
        "  for j in range(len(dense)-i):\n",
        "    for k in range(len(dense)-j-i):\n",
        "      for l in range(len(dense)-j-i-k):\n",
        "        if tested >-1:\n",
        "          a=1\n",
        "        else:\n",
        "          N_LABELS = 5\n",
        "          EPOCHS = 30\n",
        "          LR = 1e-4\n",
        "          batch_size = 32\n",
        "          ##################\n",
        "          #2048-5 = \n",
        "          initializer = tf.keras.initializers.Identity()\n",
        "          model_all_0 = tf.keras.Sequential([\n",
        "              feature_extractor_layer_resnet,\n",
        "              Dense(2048, activation='relu', name='hidden_layer_1'),\n",
        "              Dense(dense[i], activation='relu', name='hidden_layer_2'),\n",
        "              Dense(dense[j+i], activation='relu', name='hidden_layer_3'),\n",
        "              Dense(dense[k+j+i], activation='relu', name='hidden_layer_4'),\n",
        "              Dense(dense[k+j+i+l], activation='relu', name='hidden_layer_5'),\n",
        "              Dense(N_LABELS, activation='sigmoid', name='output')\n",
        "          ])\n",
        "          # Compile the model\n",
        "\n",
        "          model_all_0.compile(\n",
        "            optimizer=tf.keras.optimizers.Adam(learning_rate=LR),\n",
        "            loss='binary_crossentropy',\n",
        "            metrics=['accuracy'])\n",
        "\n",
        "          history = model_all_0.fit(X_train, y_train,\n",
        "                      batch_size=batch_size,\n",
        "                      epochs=EPOCHS,\n",
        "                      validation_data=(X_test, y_test))\n",
        "          title = title = '2048_'+str(dense[i])+'_'+str(dense[j+i])+'_'+str(dense[k+j+i])+'_'+str(dense[k+j+i+l])+'_5'\n",
        "          print(\"Model: \"+title)\n",
        "          print(\"=================================================================================\")\n",
        "          plot_curves(history, title)\n",
        "        tested = tested -1"
      ],
      "id": "Wq0j72qtR6pZ"
    },
    {
      "cell_type": "code",
      "source": [
        "!zip -r data.zip imgs/"
      ],
      "metadata": {
        "id": "pkMunXT4nIPl"
      },
      "id": "pkMunXT4nIPl",
      "execution_count": null,
      "outputs": []
    },
    {
      "cell_type": "code",
      "execution_count": null,
      "metadata": {
        "id": "x9EOUrQmS8zF"
      },
      "outputs": [],
      "source": [
        "\n",
        "base_model.trainable = True\n",
        "# Freeze all layers except for the\n",
        "for layer in base_model.layers[:-10]:\n",
        "  layer.trainable = False"
      ],
      "id": "x9EOUrQmS8zF"
    },
    {
      "cell_type": "markdown",
      "metadata": {
        "id": "k4LvhZIwThWc"
      },
      "source": [
        "## Experiments\n"
      ],
      "id": "k4LvhZIwThWc"
    },
    {
      "cell_type": "markdown",
      "metadata": {
        "id": "wLotyvR-TpaT"
      },
      "source": [
        "\n",
        "\n",
        "### Approved model\n"
      ],
      "id": "wLotyvR-TpaT"
    },
    {
      "cell_type": "code",
      "execution_count": null,
      "metadata": {
        "id": "f6SoWUvngTUr"
      },
      "outputs": [],
      "source": [
        "# == Provide average scores ==\n",
        "print('------------------------------------------------------------------------')\n",
        "print('Score per fold')\n",
        "for i in range(0, len(acc_per_fold)):\n",
        "  print('------------------------------------------------------------------------')\n",
        "  print(f'> Fold {i+1} - Loss: {loss_per_fold[i]} - Accuracy: {acc_per_fold[i]}%')\n",
        "print('------------------------------------------------------------------------')\n",
        "print('Average scores for all folds:')\n",
        "print(f'> Accuracy: {np.mean(acc_per_fold)} (+- {np.std(acc_per_fold)})')\n",
        "print(f'> Loss: {np.mean(loss_per_fold)}')\n",
        "print('------------------------------------------------------------------------')\n"
      ],
      "id": "f6SoWUvngTUr"
    },
    {
      "cell_type": "code",
      "source": [
        "IMG_SIZE = 224 # Specify height and width of image to match the input format of the model\n",
        "CHANNELS = 1 # Keep RGB color channels to match the input format of the model\n",
        "num_imgs_per_video=10"
      ],
      "metadata": {
        "id": "gShAciAkJ_tP"
      },
      "id": "gShAciAkJ_tP",
      "execution_count": null,
      "outputs": []
    },
    {
      "cell_type": "code",
      "source": [
        "def create_mydataset_all_gray():\n",
        "    X_train, y_train = [], []\n",
        "    for filename in videos_list:\n",
        "        count=0\n",
        "        #print(filename)\n",
        "        vid_cap = cv2.VideoCapture(path+'/'+filename)\n",
        "        total_frame_count= int(vid_cap.get(cv2.CAP_PROP_FRAME_COUNT))\n",
        "        step = total_frame_count/num_imgs_per_video\n",
        "        success, image = vid_cap.read()\n",
        "        metadata_cap = metadata.loc[metadata.Filename == filename.split('.')[0]]\n",
        "        if len(metadata_cap) >0:\n",
        "            while success:\n",
        "                #print(\"Reading new frame...\", success)\n",
        "                if ((count+1) % int(step) == 0):\n",
        "                    #print(\"Writing new frame...\")\n",
        "                    out = '/content/dataset/{}_{}.png'.format(filename.split('.')[0], count)\n",
        "                    cv2.imwrite(out,cv2.cvtColor(image, cv2.COLOR_BGR2GRAY))\n",
        "                    img = tf.keras.utils.load_img(out, target_size = (224, 224, 1),color_mode=\"grayscale\")\n",
        "                    img = tf.keras.utils.img_to_array(img)\n",
        "                    img= img/255.\n",
        "                    #img = img.transpose(2,0,1)\n",
        "                    X_train.append(img)\n",
        "                    y_train.append([metadata['A-lines'][metadata_cap.index[0]],\n",
        "                                    metadata['B-lines'][metadata_cap.index[0]],\n",
        "                                    metadata['Effusion'][metadata_cap.index[0]],\n",
        "                                    metadata['Consolidations'][metadata_cap.index[0]],\n",
        "                                    metadata['Pleural_line_irregularities'][metadata_cap.index[0]]])\n",
        "                                     #metadata['Air_bronchogram'][metadata_cap.index[0]]])\n",
        "                success, image = vid_cap.read()\n",
        "                count += 1\n",
        "    X = np.array(X_train)\n",
        "    y = np.array(y_train)\n",
        "    return X, y"
      ],
      "metadata": {
        "id": "euAsXM5KKFnE"
      },
      "id": "euAsXM5KKFnE",
      "execution_count": null,
      "outputs": []
    },
    {
      "cell_type": "code",
      "source": [
        "#X, y = create_dataset_aug()\n",
        "X, y = create_mydataset_all_gray()\n",
        "X_train, X_test, y_train, y_test = train_test_split(X, y, random_state=20, test_size=0.2, shuffle=True)\n",
        "X_train.shape, y_train.shape\n",
        "del X\n",
        "del y"
      ],
      "metadata": {
        "id": "K7iCvsnMKhCf"
      },
      "id": "K7iCvsnMKhCf",
      "execution_count": null,
      "outputs": []
    },
    {
      "cell_type": "code",
      "source": [
        "\n",
        "#BUild a CNN model ( some as Tiny VGG on the CNN exlpainer website)\n",
        "model_1 = tf.keras.Sequential([\n",
        "    tf.keras.layers.Conv2D(filters=10,\n",
        "                           kernel_size=3,\n",
        "                           activation=\"relu\",\n",
        "                           input_shape=(224,224,1)),\n",
        "    tf.keras.layers.Conv2D(10, 3, activation=\"relu\"),\n",
        "    tf.keras.layers.MaxPool2D(pool_size=2,\n",
        "                              padding=\"valid\"),\n",
        "    tf.keras.layers.Conv2D(10, 3, activation=\"relu\"),\n",
        "    tf.keras.layers.Conv2D(10, 3, activation=\"relu\"),\n",
        "    #tf.keras.layers.Activations(tf.nn.relu),\n",
        "    tf.keras.layers.MaxPool2D(2),\n",
        "    tf.keras.layers.Flatten(),\n",
        "    tf.keras.layers.Dense(28090, activation='relu'),\n",
        "    tf.keras.layers.Dense(5, activation=\"sigmoid\")\n",
        "])\n"
      ],
      "metadata": {
        "id": "zq1WhaqfJXmY"
      },
      "id": "zq1WhaqfJXmY",
      "execution_count": null,
      "outputs": []
    },
    {
      "cell_type": "code",
      "source": [
        "X_train.shape"
      ],
      "metadata": {
        "colab": {
          "base_uri": "https://localhost:8080/"
        },
        "id": "vDqn0yZpLXI6",
        "outputId": "489d6ce1-540b-4a1e-b737-3f7390e8a320"
      },
      "id": "vDqn0yZpLXI6",
      "execution_count": null,
      "outputs": [
        {
          "output_type": "execute_result",
          "data": {
            "text/plain": [
              "(1225, 224, 224, 3)"
            ]
          },
          "metadata": {},
          "execution_count": 23
        }
      ]
    },
    {
      "cell_type": "code",
      "source": [
        "#compile our model\n",
        "model_1.compile(loss=\"binary_crossentropy\",\n",
        "                optimizer=tf.keras.optimizers.Adam(learning_rate=0.0001),\n",
        "                metrics=[\"accuracy\"])\n",
        "1500/32\n",
        "#fit the model\n",
        "history_1 = model_1.fit(X_train, y_train,\n",
        "                        epochs=5,\n",
        "                        validation_data=(X_test, y_test))"
      ],
      "metadata": {
        "colab": {
          "base_uri": "https://localhost:8080/"
        },
        "id": "VZayxd5eJbT9",
        "outputId": "3556c37f-3772-4cc1-92d0-b2c31334f674"
      },
      "id": "VZayxd5eJbT9",
      "execution_count": null,
      "outputs": [
        {
          "output_type": "stream",
          "name": "stdout",
          "text": [
            "Epoch 1/5\n",
            "39/39 [==============================] - 85s 2s/step - loss: 7.9560e-04 - accuracy: 0.5714 - val_loss: 0.0480 - val_accuracy: 0.5537\n",
            "Epoch 2/5\n",
            "39/39 [==============================] - 93s 2s/step - loss: 4.6626e-04 - accuracy: 0.5788 - val_loss: 0.0508 - val_accuracy: 0.6417\n",
            "Epoch 3/5\n",
            "39/39 [==============================] - 92s 2s/step - loss: 3.6175e-04 - accuracy: 0.5820 - val_loss: 0.0466 - val_accuracy: 0.5668\n",
            "Epoch 4/5\n",
            "39/39 [==============================] - 84s 2s/step - loss: 2.7442e-04 - accuracy: 0.5804 - val_loss: 0.0516 - val_accuracy: 0.5537\n",
            "Epoch 5/5\n",
            "39/39 [==============================] - 86s 2s/step - loss: 2.0482e-04 - accuracy: 0.5690 - val_loss: 0.0516 - val_accuracy: 0.5700\n"
          ]
        }
      ]
    },
    {
      "cell_type": "code",
      "source": [
        "model_1.summary()"
      ],
      "metadata": {
        "colab": {
          "base_uri": "https://localhost:8080/"
        },
        "id": "PzEdCCSkMDkD",
        "outputId": "28a3b118-15be-480f-f296-c384b6c8cd8c"
      },
      "id": "PzEdCCSkMDkD",
      "execution_count": null,
      "outputs": [
        {
          "output_type": "stream",
          "name": "stdout",
          "text": [
            "Model: \"sequential\"\n",
            "_________________________________________________________________\n",
            " Layer (type)                Output Shape              Param #   \n",
            "=================================================================\n",
            " conv2d (Conv2D)             (None, 222, 222, 10)      100       \n",
            "                                                                 \n",
            " conv2d_1 (Conv2D)           (None, 220, 220, 10)      910       \n",
            "                                                                 \n",
            " max_pooling2d (MaxPooling2D  (None, 110, 110, 10)     0         \n",
            " )                                                               \n",
            "                                                                 \n",
            " conv2d_2 (Conv2D)           (None, 108, 108, 10)      910       \n",
            "                                                                 \n",
            " conv2d_3 (Conv2D)           (None, 106, 106, 10)      910       \n",
            "                                                                 \n",
            " max_pooling2d_1 (MaxPooling  (None, 53, 53, 10)       0         \n",
            " 2D)                                                             \n",
            "                                                                 \n",
            " flatten (Flatten)           (None, 28090)             0         \n",
            "                                                                 \n",
            " dense (Dense)               (None, 5)                 140455    \n",
            "                                                                 \n",
            "=================================================================\n",
            "Total params: 143,285\n",
            "Trainable params: 143,285\n",
            "Non-trainable params: 0\n",
            "_________________________________________________________________\n"
          ]
        }
      ]
    },
    {
      "cell_type": "code",
      "source": [
        "import seaborn as sns\n",
        "from sklearn.metrics import confusion_matrix, accuracy_score\n",
        "preds = model_1.predict(X_test)\n",
        "preds = np.array(preds> 0.5) #limiar\n",
        "preds"
      ],
      "metadata": {
        "colab": {
          "base_uri": "https://localhost:8080/"
        },
        "id": "4PR653sVRARp",
        "outputId": "0954c16e-fe50-4623-8ecc-40da37cceeb7"
      },
      "id": "4PR653sVRARp",
      "execution_count": null,
      "outputs": [
        {
          "output_type": "stream",
          "name": "stdout",
          "text": [
            "10/10 [==============================] - 6s 557ms/step\n"
          ]
        },
        {
          "output_type": "execute_result",
          "data": {
            "text/plain": [
              "array([[False, False, False,  True, False],\n",
              "       [False, False, False, False, False],\n",
              "       [False, False, False, False, False],\n",
              "       ...,\n",
              "       [False, False, False,  True, False],\n",
              "       [False,  True, False, False, False],\n",
              "       [False,  True, False, False, False]])"
            ]
          },
          "metadata": {},
          "execution_count": 31
        }
      ]
    },
    {
      "cell_type": "code",
      "source": [
        "def plot_results(y_test, preds):\n",
        "  effusion_list_preds = []\n",
        "  consolid_list_preds = []\n",
        "  aline_list_preds = []\n",
        "  bline_list_preds = []\n",
        "  pli_list_preds = []\n",
        "  effusion_list= []\n",
        "  consolid_list = []\n",
        "  aline_list = []\n",
        "  bline_list = []\n",
        "  pli_list = []\n",
        "  for i in range(len(preds)):\n",
        "    aline_list_preds.append(preds[i][0])\n",
        "    bline_list_preds.append(preds[i][1])\n",
        "    effusion_list_preds.append(preds[i][2])\n",
        "    consolid_list_preds.append(preds[i][3])\n",
        "    pli_list_preds.append(preds[i][4])\n",
        "    aline_list.append(y_test[i][0])\n",
        "    bline_list.append(y_test[i][1])\n",
        "    effusion_list.append(y_test[i][2])\n",
        "    consolid_list.append(y_test[i][3])\n",
        "    pli_list.append(y_test[i][4])\n",
        "  acc_aline = accuracy_score(aline_list, aline_list_preds)\n",
        "  print('The accuracy for A-Line: ', acc_aline)\n",
        "  acc_bline = accuracy_score(bline_list, bline_list_preds)\n",
        "  print('The accuracy for B-Line: ', acc_bline)\n",
        "  acc_aline = accuracy_score(aline_list, aline_list_preds)\n",
        "  print('The accuracy for A-Line: ', acc_aline)\n",
        "  acc_aline = accuracy_score(aline_list, aline_list_preds)\n",
        "  print('The accuracy for A-Line: ', acc_aline)\n",
        "  acc_aline = accuracy_score(aline_list, aline_list_preds)\n",
        "  print('The accuracy for A-Line: ', acc_aline)\n",
        "  matriz_aline = confusion_matrix(aline_list, aline_list_preds)\n",
        "  ax1 = plt.axes()\n",
        "  sns.heatmap(matriz_aline, annot=True);\n",
        "  ax1.set_title('A-Lines')\n",
        "  plt.show()\n",
        "  ax2 = plt.axes()\n",
        "  matriz_bline = confusion_matrix(bline_list, bline_list_preds)\n",
        "  sns.heatmap(matriz_bline, annot=True);\n",
        "  ax2.set_title('B-Lines')\n",
        "  plt.show()\n",
        "  matriz_effusion = confusion_matrix(effusion_list, effusion_list_preds)\n",
        "  ax3 = plt.axes()\n",
        "  sns.heatmap(matriz_effusion, annot=True);\n",
        "  ax3.set_title('Effusion')\n",
        "  plt.show()\n",
        "  matriz_consolidations = confusion_matrix(consolid_list, consolid_list_preds)\n",
        "  ax4 = plt.axes()\n",
        "  sns.heatmap(matriz_consolidations, annot=True);\n",
        "  ax4.set_title('Consolidations')\n",
        "  plt.show()\n",
        "  matriz_pli = confusion_matrix(pli_list, pli_list_preds)\n",
        "  ax3 = plt.axes()\n",
        "  sns.heatmap(matriz_pli, annot=True);\n",
        "  ax3.set_title('Pleural Irregularities')\n",
        "  plt.show()\n",
        "  print(matriz_aline)\n",
        "  print(matriz_bline)\n",
        "  print(matriz_effusion)\n",
        "  print(matriz_consolidations)\n",
        "  print(matriz_pli)"
      ],
      "metadata": {
        "id": "AXgvMoVdSsc3"
      },
      "id": "AXgvMoVdSsc3",
      "execution_count": null,
      "outputs": []
    },
    {
      "cell_type": "code",
      "source": [
        "plot_results(y_test, preds)"
      ],
      "metadata": {
        "colab": {
          "base_uri": "https://localhost:8080/",
          "height": 1000
        },
        "id": "m-Ma5YGvT2y_",
        "outputId": "363200ee-f9f1-4a03-eedc-b87336e127b0"
      },
      "id": "m-Ma5YGvT2y_",
      "execution_count": null,
      "outputs": [
        {
          "output_type": "stream",
          "name": "stdout",
          "text": [
            "The accuracy was:  0.993485342019544\n"
          ]
        },
        {
          "output_type": "display_data",
          "data": {
            "text/plain": [
              "<Figure size 432x288 with 2 Axes>"
            ],
            "image/png": "[encoded data removed]"
          },
          "metadata": {
            "needs_background": "light"
          }
        },
        {
          "output_type": "display_data",
          "data": {
            "text/plain": [
              "<Figure size 432x288 with 2 Axes>"
            ],
            "image/png": "[encoded data removed]"
          },
          "metadata": {
            "needs_background": "light"
          }
        },
        {
          "output_type": "display_data",
          "data": {
            "text/plain": [
              "<Figure size 432x288 with 2 Axes>"
            ],
            "image/png": "[encoded data removed]"
          },
          "metadata": {
            "needs_background": "light"
          }
        },
        {
          "output_type": "display_data",
          "data": {
            "text/plain": [
              "<Figure size 432x288 with 2 Axes>"
            ],
            "image/png": "[encoded data removed]"
          },
          "metadata": {
            "needs_background": "light"
          }
        },
        {
          "output_type": "display_data",
          "data": {
            "text/plain": [
              "<Figure size 432x288 with 2 Axes>"
            ],
            "image/png": "[encoded data removed]"
          },
          "metadata": {
            "needs_background": "light"
          }
        },
        {
          "output_type": "stream",
          "name": "stdout",
          "text": [
            "[[278   1]\n",
            " [  1  27]]\n",
            "[[243   0]\n",
            " [  0  64]]\n",
            "[[263   0]\n",
            " [  4  40]]\n",
            "[[195   4]\n",
            " [  1 107]]\n",
            "[[260   0]\n",
            " [  3  44]]\n"
          ]
        }
      ]
    },
    {
      "cell_type": "code",
      "source": [
        "#train (80%(80%) #Validation(20%)) %teste(20%)\n",
        "#set random seed\n",
        "tf.random.set_seed(42)\n",
        "\n",
        "#create the model\n",
        "model_3 = tf.keras.Sequential([\n",
        "    tf.keras.layers.Flatten(input_shape=(224, 224, 3)),\n",
        "    tf.keras.layers.Dense(100, activation=\"relu\"),\n",
        "    tf.keras.layers.Dense(100, activation=\"relu\"),\n",
        "    tf.keras.layers.Dense(100, activation=\"relu\"),\n",
        "    tf.keras.layers.Dense(1, activation=\"sigmoid\")\n",
        "])\n",
        "#compile the model\n",
        "model_3.compile(loss=\"binary_crossentropy\",\n",
        "                optimizer=tf.keras.optimizers.Adam(),\n",
        "                metrics=[\"accuracy\"])\n",
        "#fit the model\n",
        "history_3=model_3.fit(train_data,\n",
        "            epochs=5,\n",
        "            steps_per_epoch=len(train_data),\n",
        "            validation_data=valid_data,\n",
        "            validation_steps=len(valid_data))"
      ],
      "metadata": {
        "id": "1tXtE9q9JmR3"
      },
      "id": "1tXtE9q9JmR3",
      "execution_count": null,
      "outputs": []
    }
  ],
  "metadata": {
    "accelerator": "GPU",
    "colab": {
      "provenance": [],
      "include_colab_link": true
    },
    "gpuClass": "standard",
    "kernelspec": {
      "display_name": "Python 3 (ipykernel)",
      "language": "python",
      "name": "python3"
    },
    "language_info": {
      "codemirror_mode": {
        "name": "ipython",
        "version": 3
      },
      "file_extension": ".py",
      "mimetype": "text/x-python",
      "name": "python",
      "nbconvert_exporter": "python",
      "pygments_lexer": "ipython3",
      "version": "3.10.7"
    }
  },
  "nbformat": 4,
  "nbformat_minor": 5
}