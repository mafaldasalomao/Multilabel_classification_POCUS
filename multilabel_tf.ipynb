{
  "cells": [
    {
      "cell_type": "markdown",
      "metadata": {
        "id": "view-in-github",
        "colab_type": "text"
      },
      "source": [
        "<a href=\"https://colab.research.google.com/github/mafaldasalomao/multilabel_classification_pocus/blob/main/multilabel_tf.ipynb\" target=\"_parent\"><img src=\"https://colab.research.google.com/assets/colab-badge.svg\" alt=\"Open In Colab\"/></a>"
      ]
    },
    {
      "cell_type": "code",
      "execution_count": null,
      "metadata": {
        "id": "36c4e51a"
      },
      "outputs": [],
      "source": [
        "#Import suppporting libraries\n",
        "import tarfile\n",
        "import urllib.request as urllib2\n",
        "import os\n",
        "import cv2\n",
        "from os import listdir\n",
        "from os.path import isfile, join\n",
        "import re\n",
        "#Import deep learning libraries\n",
        "import cv2\n",
        "import os\n",
        "import pandas as pd\n",
        "import numpy as np\n",
        "import tensorflow as tf\n",
        "import matplotlib.pyplot as plt\n",
        "import tensorflow.keras as keras\n",
        "from tensorflow.keras.models import Sequential\n",
        "from tensorflow.keras.layers import Dense, Dropout, Flatten, Conv2D, MaxPooling2D, BatchNormalization\n",
        "from tensorflow.keras.preprocessing import image\n",
        "from sklearn.model_selection import train_test_split\n",
        "from sklearn.model_selection import KFold\n",
        "import tqdm as tqdm\n",
        "import tensorflow_hub as hub\n",
        "\n",
        "#Import data analytics libraries\n",
        "import matplotlib.pyplot as plt\n",
        "import matplotlib.image as img\n",
        "import numpy as np\n",
        "import scipy.io\n",
        "import pandas as pd\n",
        "import seaborn as sns\n",
        "#Import image visualization libraries\n",
        "from PIL import *\n",
        "from PIL import ImageFile\n",
        "from PIL import Image\n",
        "#System settings\n",
        "ImageFile.LOAD_TRUNCATED_IMAGES = True\n",
        "os.environ['WANDB_CONSOLE'] = 'off'\n",
        "#Coloring for print outputs\n",
        "class color:\n",
        "   RED = '\\033[91m'\n",
        "   BOLD = '\\033[1m'\n",
        "   END = '\\033[0m'"
      ],
      "id": "36c4e51a"
    },
    {
      "cell_type": "code",
      "execution_count": null,
      "metadata": {
        "colab": {
          "base_uri": "https://localhost:8080/"
        },
        "id": "RPQUiGWYUBSB",
        "outputId": "65b4d663-fd1d-4dcc-f84d-6eba25b923b7"
      },
      "outputs": [
        {
          "name": "stdout",
          "output_type": "stream",
          "text": [
            "Mounted at /content/drive\n"
          ]
        }
      ],
      "source": [
        "from google.colab import drive\n",
        "drive.mount('/content/drive')"
      ],
      "id": "RPQUiGWYUBSB"
    },
    {
      "cell_type": "code",
      "execution_count": null,
      "metadata": {
        "id": "Ly0UuR9UUegJ"
      },
      "outputs": [],
      "source": [
        "!cp  /content/drive/MyDrive/datasets/convex.zip /content/"
      ],
      "id": "Ly0UuR9UUegJ"
    },
    {
      "cell_type": "code",
      "execution_count": null,
      "metadata": {
        "colab": {
          "base_uri": "https://localhost:8080/"
        },
        "id": "w5J1X5wCDzMe",
        "outputId": "af167ce4-692b-4f45-ccb7-0d908f122853"
      },
      "outputs": [
        {
          "name": "stdout",
          "output_type": "stream",
          "text": [
            "Archive:  convex.zip\n",
            "   creating: /content/temp/convex/\n",
            "  inflating: /content/temp/convex/Cov-Atlas+(44).gif  \n",
            "  inflating: /content/temp/convex/Cov-Atlas+(45).gif  \n",
            "  inflating: /content/temp/convex/Cov-Atlas-+(43).gif  \n",
            "  inflating: /content/temp/convex/Cov-Atlas-Day+1.gif  \n",
            "  inflating: /content/temp/convex/Cov-Atlas-Day+2.gif  \n",
            "  inflating: /content/temp/convex/Cov-Atlas-Day+3.gif  \n",
            "  inflating: /content/temp/convex/Cov-Atlas-Day+4.gif  \n",
            "  inflating: /content/temp/convex/Cov-Atlas-suspectedCovid.mp4  \n",
            "  inflating: /content/temp/convex/Cov-clarius.gif  \n",
            "  inflating: /content/temp/convex/Cov-clarius3.gif  \n",
            "  inflating: /content/temp/convex/Cov-grep-7453.mp4  \n",
            "  inflating: /content/temp/convex/Cov-grep-7505.mp4  \n",
            "  inflating: /content/temp/convex/Cov-grep-7507.mp4  \n",
            "  inflating: /content/temp/convex/Cov-grep-7510.mp4  \n",
            "  inflating: /content/temp/convex/Cov-grep-7511.mp4  \n",
            "  inflating: /content/temp/convex/Cov-grep-7525.mp4  \n",
            "  inflating: /content/temp/convex/Cov-grep-7543.mp4  \n",
            "  inflating: /content/temp/convex/Cov-grepmed-blines-pocus-.mp4  \n",
            "  inflating: /content/temp/convex/Cov-grepmed2.mp4  \n",
            "  inflating: /content/temp/convex/Cov_Arnthfield_2020_Vid3.mp4  \n",
            "  inflating: /content/temp/convex/Cov_combatting_Image1.mp4  \n",
            "  inflating: /content/temp/convex/Cov_combatting_Image2.mp4  \n",
            "  inflating: /content/temp/convex/Cov_combatting_Image3.mp4  \n",
            "  inflating: /content/temp/convex/Cov_combatting_image4.mp4  \n",
            "  inflating: /content/temp/convex/Cov_combatting_Image5.mp4  \n",
            "  inflating: /content/temp/convex/Cov_convex_volpecelli_sonographic_v1.mov  \n",
            "  inflating: /content/temp/convex/Cov_convex_volpecelli_sonographic_v2.mov  \n",
            "  inflating: /content/temp/convex/Cov_convex_volpecelli_sonographic_v3.mov  \n",
            "  inflating: /content/temp/convex/Cov_convex_volpecelli_sonographic_v4.mov  \n",
            "  inflating: /content/temp/convex/Cov_convex_volpecelli_sonographic_v5.mov  \n",
            "  inflating: /content/temp/convex/Cov_denault_proposedUS_vid1.mov  \n",
            "  inflating: /content/temp/convex/Cov_denault_proposedUS_vid10.mov  \n",
            "  inflating: /content/temp/convex/Cov_denault_proposedUS_vid11.mov  \n",
            "  inflating: /content/temp/convex/Cov_denault_proposedUS_vid12.mov  \n",
            "  inflating: /content/temp/convex/Cov_denault_proposedUS_vid13.mov  \n",
            "  inflating: /content/temp/convex/Cov_denault_proposedUS_vid14.mov  \n",
            "  inflating: /content/temp/convex/Cov_denault_proposedUS_vid2.mov  \n",
            "  inflating: /content/temp/convex/Cov_denault_proposedUS_vid5.mov  \n",
            "  inflating: /content/temp/convex/Cov_emdocs_vid1.gif  \n",
            "  inflating: /content/temp/convex/Cov_emdocs_vid3.gif  \n",
            " extracting: /content/temp/convex/Cov_new_pregnant_vid1.avi  \n",
            " extracting: /content/temp/convex/Cov_new_pregnant_vid2.avi  \n",
            " extracting: /content/temp/convex/Cov_new_pregnant_vid3.avi  \n",
            " extracting: /content/temp/convex/Cov_new_pregnant_vid4.avi  \n",
            " extracting: /content/temp/convex/Cov_new_pregnant_vid5.avi  \n",
            " extracting: /content/temp/convex/Cov_new_pregnant_vid6.avi  \n",
            " extracting: /content/temp/convex/Cov_new_pregnant_vid7.avi  \n",
            " extracting: /content/temp/convex/Cov_new_pregnant_vid8.avi  \n",
            "  inflating: /content/temp/convex/Cov_recommendations_lightbeam_mov6.mov  \n",
            "  inflating: /content/temp/convex/Cov_recommendations_likebutterfly_mov5.mov  \n",
            "  inflating: /content/temp/convex/Pneu-Atlas-pneumonia.gif  \n",
            "  inflating: /content/temp/convex/Pneu-Atlas-pneumonia2.gif  \n",
            "  inflating: /content/temp/convex/pneu-everyday.gif  \n",
            "  inflating: /content/temp/convex/pneu-gred-6.gif  \n",
            "  inflating: /content/temp/convex/pneu-gred-7.gif  \n",
            "  inflating: /content/temp/convex/Pneu-grep-bacterial-hepatization-clinical.mp4  \n",
            "  inflating: /content/temp/convex/Pneu-grep-pneumonia1.mp4  \n",
            "  inflating: /content/temp/convex/Pneu-grep-pneumonia2_1.mp4  \n",
            "  inflating: /content/temp/convex/Pneu-grep-pneumonia3.mp4  \n",
            "  inflating: /content/temp/convex/Pneu-grep-pneumonia4.mp4  \n",
            "  inflating: /content/temp/convex/Pneu-grep-pulmonary-pneumonia.mp4  \n",
            "  inflating: /content/temp/convex/Pneu-grep-shredsign-consolidation.mp4  \n",
            "  inflating: /content/temp/convex/pneu-radiopaeda.mp4  \n",
            "  inflating: /content/temp/convex/Pneu_AIR BRONC2.mov  \n",
            "  inflating: /content/temp/convex/Pneu_Avi_Video_001.mp4  \n",
            "  inflating: /content/temp/convex/Pneu_Avi_Video_002.mp4  \n",
            "  inflating: /content/temp/convex/Pneu_Avi_Video_003.mp4  \n",
            "  inflating: /content/temp/convex/Pneu_Avi_Video_004.mp4  \n",
            "  inflating: /content/temp/convex/Pneu_Avi_Video_005.mp4  \n",
            "  inflating: /content/temp/convex/Pneu_Avi_Video_006.mp4  \n",
            "  inflating: /content/temp/convex/Pneu_Basal-pneumonia-RUQ_crop.mp4  \n",
            "  inflating: /content/temp/convex/Pneu_basalpneumonia_liftle_case1.mp4  \n",
            "  inflating: /content/temp/convex/Pneu_clinicalreview_MOV4.mp4  \n",
            "  inflating: /content/temp/convex/Pneu_consol_advancesVid10.mp4  \n",
            "  inflating: /content/temp/convex/Pneu_from_article_rippey.mp4  \n",
            "  inflating: /content/temp/convex/Pneu_liftl_pneu_case3_clip3.mp4  \n",
            "  inflating: /content/temp/convex/Pneu_liftl_pneu_case3_clip4.mp4  \n",
            "  inflating: /content/temp/convex/Pneu_liftl_pneu_case3_clip5.mp4  \n",
            "  inflating: /content/temp/convex/Pneu_northumbria_0409_set1_vid1.avi  \n",
            "  inflating: /content/temp/convex/Pneu_northumbria_0409_set1_vid2.avi  \n",
            "  inflating: /content/temp/convex/Pneu_northumbria_0409_set2_vid1.avi  \n",
            "  inflating: /content/temp/convex/Pneu_northumbria_0409_set2_vid2.avi  \n",
            "  inflating: /content/temp/convex/Pneu_northumbria_0409_set2_vid3.avi  \n",
            "  inflating: /content/temp/convex/Pneu_northumbria_0409_set2_vid4.avi  \n",
            "  inflating: /content/temp/convex/Pneu_northumbria_0409_set3_vid1.avi  \n",
            "  inflating: /content/temp/convex/Pneu_northumbria_0409_set3_vid2.avi  \n",
            "  inflating: /content/temp/convex/Pneu_northumbria_0409_set4_vid1.avi  \n",
            "  inflating: /content/temp/convex/Pneu_northumbria_0409_set4_vid2.avi  \n",
            "  inflating: /content/temp/convex/Pneu_northumbria_0409_set5_vid1.avi  \n",
            "  inflating: /content/temp/convex/Pneu_northumbria_0409_set5_vid2.avi  \n",
            "  inflating: /content/temp/convex/Pneu_northumbria_0409_set6_vid1.avi  \n",
            "  inflating: /content/temp/convex/Pneu_northumbria_0409_set6_vid2.avi  \n",
            "  inflating: /content/temp/convex/Pneu_northumbria_0409_set6_vid3.avi  \n",
            "  inflating: /content/temp/convex/Pneu_northumbria_0409_set6_vid4.avi  \n",
            "  inflating: /content/temp/convex/Pneu_northumbria_0409_set6_vid5.avi  \n",
            "  inflating: /content/temp/convex/Pneu_northumbria_0409_set6_vid7.avi  \n",
            "  inflating: /content/temp/convex/Pneu_northumbria_0409_set6_vid8.avi  \n",
            "  inflating: /content/temp/convex/Pneu_northumbria_1009_vid1.avi  \n",
            "  inflating: /content/temp/convex/Pneu_Pneumonia-LITFL-Ultrasound_crop.mp4  \n",
            "  inflating: /content/temp/convex/Reg-Atlas-alines.gif  \n",
            "  inflating: /content/temp/convex/Reg-Atlas-lungcurtain.gif  \n",
            "  inflating: /content/temp/convex/Reg-Atlas.gif  \n",
            "  inflating: /content/temp/convex/Reg-bcpocus.gif  \n",
            "  inflating: /content/temp/convex/Reg-Grep-Alines.mp4  \n",
            "  inflating: /content/temp/convex/Reg-Grep-Normal.gif  \n",
            "  inflating: /content/temp/convex/Reg-nephropocus.gif  \n",
            "  inflating: /content/temp/convex/Reg-NormalLungs.mp4  \n",
            "  inflating: /content/temp/convex/Reg_Alines-1-90.mov  \n",
            "  inflating: /content/temp/convex/Reg_alines_advancesVid4.mp4  \n",
            "  inflating: /content/temp/convex/Reg_Avi_Image002.mp4  \n",
            "  inflating: /content/temp/convex/Reg_Avi_Image003.mp4  \n",
            "  inflating: /content/temp/convex/Reg_Avi_Image004.mp4  \n",
            "  inflating: /content/temp/convex/Reg_Avi_Image008.mp4  \n",
            "  inflating: /content/temp/convex/Reg_Avi_lung-sliding-2.MP4  \n",
            "  inflating: /content/temp/convex/Reg_Avi_lung-sliding-3.MP4  \n",
            "  inflating: /content/temp/convex/Reg_Avi_lung-sliding.MP4  \n",
            "  inflating: /content/temp/convex/Reg_Avi_Video_001.mp4  \n",
            "  inflating: /content/temp/convex/Reg_Avi_Video_002.mp4  \n",
            "  inflating: /content/temp/convex/Reg_Avi_Video_003.mp4  \n",
            "  inflating: /content/temp/convex/Reg_Avi_Video_004.mp4  \n",
            "  inflating: /content/temp/convex/Reg_clinicalreview_mov1.mp4  \n",
            "  inflating: /content/temp/convex/Reg_Image_181602_trimmed_crop.mp4  \n",
            "  inflating: /content/temp/convex/Reg_Image_181739_trimmed_crop.mp4  \n",
            "  inflating: /content/temp/convex/Reg_Image_182106_crop.mp4  \n",
            "  inflating: /content/temp/convex/Reg_Image_182340_crop.mp4  \n",
            "  inflating: /content/temp/convex/Reg_liftl_case3_clip2.mp4  \n",
            "  inflating: /content/temp/convex/Reg_liftl_pneucase3_clip1.mp4  \n",
            "  inflating: /content/temp/convex/Reg_northumbria_0409_set3_vid1.avi  \n",
            "  inflating: /content/temp/convex/Reg_northumbria_0409_set3_vid2.avi  \n",
            "  inflating: /content/temp/convex/Reg_northumbria_0409_set5_vid1.avi  \n",
            "  inflating: /content/temp/convex/Reg_northumbria_0409_set5_vid2.avi  \n",
            "  inflating: /content/temp/convex/Reg_northumbria_1009_vid1.avi  \n",
            "  inflating: /content/temp/convex/Reg_northumbria_1009_vid2.avi  \n",
            "  inflating: /content/temp/convex/Reg_northumbria_1009_vid3.avi  \n",
            "  inflating: /content/temp/convex/Reg_northumbria_1009_vid5.avi  \n",
            "  inflating: /content/temp/convex/Reg_northumbria_1009_vid6.avi  \n",
            "  inflating: /content/temp/convex/Reg_northumbria_1009_vid7.avi  \n",
            "  inflating: /content/temp/convex/Reg_pat1Image_132943.mpeg  \n",
            "  inflating: /content/temp/convex/Reg_pat1Image_133043.mpeg  \n",
            "  inflating: /content/temp/convex/Reg_pat1Image_133138.mpeg  \n",
            "  inflating: /content/temp/convex/Reg_pat1Image_133232.mpeg  \n",
            "  inflating: /content/temp/convex/Reg_pat1Image_133327.mpeg  \n",
            "  inflating: /content/temp/convex/Reg_pat1Image_133410.mpeg  \n",
            "  inflating: /content/temp/convex/Reg_pat2Image_133824.mpeg  \n",
            "  inflating: /content/temp/convex/Reg_pat2Image_133952.mpeg  \n",
            "  inflating: /content/temp/convex/Reg_pat2Image_134138.mpeg  \n",
            "  inflating: /content/temp/convex/Reg_pat2Image_134240.mpeg  \n",
            "  inflating: /content/temp/convex/Reg_pat2Image_134348.mpeg  \n",
            "  inflating: /content/temp/convex/Reg_pat2Image_134441.mpeg  \n",
            "  inflating: /content/temp/convex/Reg_pat3Image_134711.mpeg  \n",
            "  inflating: /content/temp/convex/Reg_pat3Image_134811.mpeg  \n",
            "  inflating: /content/temp/convex/Reg_pat3Image_134904.mpeg  \n",
            "  inflating: /content/temp/convex/Reg_pat3Image_135026.mpeg  \n",
            "  inflating: /content/temp/convex/Reg_pat3Image_135128.mpeg  \n",
            "  inflating: /content/temp/convex/Reg_pat3Image_135215.mpeg  \n",
            "  inflating: /content/temp/convex/Reg_pat4Image_135904.mpeg  \n",
            "  inflating: /content/temp/convex/Reg_pat4Image_140024.mpeg  \n",
            "  inflating: /content/temp/convex/Reg_pat4Image_140238.mpeg  \n",
            "  inflating: /content/temp/convex/Reg_pat4Image_140434.mpeg  \n",
            "  inflating: /content/temp/convex/Reg_pat4Image_140606.mpeg  \n",
            "  inflating: /content/temp/convex/Reg_pat4Image_140705.mpeg  \n",
            "  inflating: /content/temp/convex/Reg_recommendations_alines_mov1.mov  \n",
            "  inflating: /content/temp/convex/Vir_blines_advancesVid9.mp4  \n",
            "  inflating: /content/temp/convex/Vir_liftl_H1N1_case2_clip1.mp4  \n",
            "  inflating: /content/temp/convex/Vir_whitelung_h1n1.mp4  \n"
          ]
        }
      ],
      "source": [
        "!unzip convex.zip -d /content/temp"
      ],
      "id": "w5J1X5wCDzMe"
    },
    {
      "cell_type": "code",
      "execution_count": null,
      "metadata": {
        "id": "053f4152"
      },
      "outputs": [],
      "source": [
        "path='/content/temp/convex'\n",
        "annotation_path = \"dataset_metadata.csv\"\n",
        "videos_list = os.listdir(path)"
      ],
      "id": "053f4152"
    },
    {
      "cell_type": "code",
      "execution_count": null,
      "metadata": {
        "id": "b80ab3fe"
      },
      "outputs": [],
      "source": [
        "columns = ['Filename', 'Effusion', 'Consolidations', 'B-lines', 'A-lines', 'Pleural_line_irregularities', 'Air_bronchogram', 'Label']\n",
        "base = pd.read_csv(annotation_path, usecols=columns)"
      ],
      "id": "b80ab3fe"
    },
    {
      "cell_type": "code",
      "execution_count": null,
      "metadata": {
        "colab": {
          "base_uri": "https://localhost:8080/",
          "height": 206
        },
        "id": "6c86410a",
        "outputId": "55628112-209d-46c1-c8d7-5dc3f73578ab"
      },
      "outputs": [
        {
          "data": {
            "text/html": [
              "\n",
              "  <div id=\"df-b17d343a-69e0-4b48-b963-7aea2a64ab0f\">\n",
              "    <div class=\"colab-df-container\">\n",
              "      <div>\n",
              "<style scoped>\n",
              "    .dataframe tbody tr th:only-of-type {\n",
              "        vertical-align: middle;\n",
              "    }\n",
              "\n",
              "    .dataframe tbody tr th {\n",
              "        vertical-align: top;\n",
              "    }\n",
              "\n",
              "    .dataframe thead th {\n",
              "        text-align: right;\n",
              "    }\n",
              "</style>\n",
              "<table border=\"1\" class=\"dataframe\">\n",
              "  <thead>\n",
              "    <tr style=\"text-align: right;\">\n",
              "      <th></th>\n",
              "      <th>Filename</th>\n",
              "      <th>Label</th>\n",
              "      <th>Effusion</th>\n",
              "      <th>Consolidations</th>\n",
              "      <th>B-lines</th>\n",
              "      <th>A-lines</th>\n",
              "      <th>Pleural_line_irregularities</th>\n",
              "      <th>Air_bronchogram</th>\n",
              "    </tr>\n",
              "  </thead>\n",
              "  <tbody>\n",
              "    <tr>\n",
              "      <th>0</th>\n",
              "      <td>Cov-Butterfly-COVID Lung 2</td>\n",
              "      <td>COVID-19</td>\n",
              "      <td>1.0</td>\n",
              "      <td>0.0</td>\n",
              "      <td>1.0</td>\n",
              "      <td>0.0</td>\n",
              "      <td>1.0</td>\n",
              "      <td>0.0</td>\n",
              "    </tr>\n",
              "    <tr>\n",
              "      <th>1</th>\n",
              "      <td>Cov-Butterfly-Skip Lesion</td>\n",
              "      <td>COVID-19</td>\n",
              "      <td>0.0</td>\n",
              "      <td>1.0</td>\n",
              "      <td>1.0</td>\n",
              "      <td>1.0</td>\n",
              "      <td>1.0</td>\n",
              "      <td>0.0</td>\n",
              "    </tr>\n",
              "    <tr>\n",
              "      <th>2</th>\n",
              "      <td>Cov-Butterfly-Confluent B lines</td>\n",
              "      <td>COVID-19</td>\n",
              "      <td>0.0</td>\n",
              "      <td>0.0</td>\n",
              "      <td>1.0</td>\n",
              "      <td>0.0</td>\n",
              "      <td>0.0</td>\n",
              "      <td>0.0</td>\n",
              "    </tr>\n",
              "    <tr>\n",
              "      <th>3</th>\n",
              "      <td>Reg-Butterfly-Normal Lung A lines</td>\n",
              "      <td>Regular</td>\n",
              "      <td>0.0</td>\n",
              "      <td>0.0</td>\n",
              "      <td>0.0</td>\n",
              "      <td>1.0</td>\n",
              "      <td>0.0</td>\n",
              "      <td>0.0</td>\n",
              "    </tr>\n",
              "    <tr>\n",
              "      <th>4</th>\n",
              "      <td>Reg-Butterfly-Normal Lung_Example 2</td>\n",
              "      <td>Regular</td>\n",
              "      <td>0.0</td>\n",
              "      <td>0.0</td>\n",
              "      <td>0.0</td>\n",
              "      <td>0.0</td>\n",
              "      <td>0.0</td>\n",
              "      <td>0.0</td>\n",
              "    </tr>\n",
              "  </tbody>\n",
              "</table>\n",
              "</div>\n",
              "      <button class=\"colab-df-convert\" onclick=\"convertToInteractive('df-b17d343a-69e0-4b48-b963-7aea2a64ab0f')\"\n",
              "              title=\"Convert this dataframe to an interactive table.\"\n",
              "              style=\"display:none;\">\n",
              "        \n",
              "  <svg xmlns=\"http://www.w3.org/2000/svg\" height=\"24px\"viewBox=\"0 0 24 24\"\n",
              "       width=\"24px\">\n",
              "    <path d=\"M0 0h24v24H0V0z\" fill=\"none\"/>\n",
              "    <path d=\"M18.56 5.44l.94 2.06.94-2.06 2.06-.94-2.06-.94-.94-2.06-.94 2.06-2.06.94zm-11 1L8.5 8.5l.94-2.06 2.06-.94-2.06-.94L8.5 2.5l-.94 2.06-2.06.94zm10 10l.94 2.06.94-2.06 2.06-.94-2.06-.94-.94-2.06-.94 2.06-2.06.94z\"/><path d=\"M17.41 7.96l-1.37-1.37c-.4-.4-.92-.59-1.43-.59-.52 0-1.04.2-1.43.59L10.3 9.45l-7.72 7.72c-.78.78-.78 2.05 0 2.83L4 21.41c.39.39.9.59 1.41.59.51 0 1.02-.2 1.41-.59l7.78-7.78 2.81-2.81c.8-.78.8-2.07 0-2.86zM5.41 20L4 18.59l7.72-7.72 1.47 1.35L5.41 20z\"/>\n",
              "  </svg>\n",
              "      </button>\n",
              "      \n",
              "  <style>\n",
              "    .colab-df-container {\n",
              "      display:flex;\n",
              "      flex-wrap:wrap;\n",
              "      gap: 12px;\n",
              "    }\n",
              "\n",
              "    .colab-df-convert {\n",
              "      background-color: #E8F0FE;\n",
              "      border: none;\n",
              "      border-radius: 50%;\n",
              "      cursor: pointer;\n",
              "      display: none;\n",
              "      fill: #1967D2;\n",
              "      height: 32px;\n",
              "      padding: 0 0 0 0;\n",
              "      width: 32px;\n",
              "    }\n",
              "\n",
              "    .colab-df-convert:hover {\n",
              "      background-color: #E2EBFA;\n",
              "      box-shadow: 0px 1px 2px rgba(60, 64, 67, 0.3), 0px 1px 3px 1px rgba(60, 64, 67, 0.15);\n",
              "      fill: #174EA6;\n",
              "    }\n",
              "\n",
              "    [theme=dark] .colab-df-convert {\n",
              "      background-color: #3B4455;\n",
              "      fill: #D2E3FC;\n",
              "    }\n",
              "\n",
              "    [theme=dark] .colab-df-convert:hover {\n",
              "      background-color: #434B5C;\n",
              "      box-shadow: 0px 1px 3px 1px rgba(0, 0, 0, 0.15);\n",
              "      filter: drop-shadow(0px 1px 2px rgba(0, 0, 0, 0.3));\n",
              "      fill: #FFFFFF;\n",
              "    }\n",
              "  </style>\n",
              "\n",
              "      <script>\n",
              "        const buttonEl =\n",
              "          document.querySelector('#df-b17d343a-69e0-4b48-b963-7aea2a64ab0f button.colab-df-convert');\n",
              "        buttonEl.style.display =\n",
              "          google.colab.kernel.accessAllowed ? 'block' : 'none';\n",
              "\n",
              "        async function convertToInteractive(key) {\n",
              "          const element = document.querySelector('#df-b17d343a-69e0-4b48-b963-7aea2a64ab0f');\n",
              "          const dataTable =\n",
              "            await google.colab.kernel.invokeFunction('convertToInteractive',\n",
              "                                                     [key], {});\n",
              "          if (!dataTable) return;\n",
              "\n",
              "          const docLinkHtml = 'Like what you see? Visit the ' +\n",
              "            '<a target=\"_blank\" href=https://colab.research.google.com/notebooks/data_table.ipynb>data table notebook</a>'\n",
              "            + ' to learn more about interactive tables.';\n",
              "          element.innerHTML = '';\n",
              "          dataTable['output_type'] = 'display_data';\n",
              "          await google.colab.output.renderOutput(dataTable, element);\n",
              "          const docLink = document.createElement('div');\n",
              "          docLink.innerHTML = docLinkHtml;\n",
              "          element.appendChild(docLink);\n",
              "        }\n",
              "      </script>\n",
              "    </div>\n",
              "  </div>\n",
              "  "
            ],
            "text/plain": [
              "                              Filename     Label  Effusion  Consolidations  \\\n",
              "0           Cov-Butterfly-COVID Lung 2  COVID-19       1.0             0.0   \n",
              "1            Cov-Butterfly-Skip Lesion  COVID-19       0.0             1.0   \n",
              "2      Cov-Butterfly-Confluent B lines  COVID-19       0.0             0.0   \n",
              "3    Reg-Butterfly-Normal Lung A lines   Regular       0.0             0.0   \n",
              "4  Reg-Butterfly-Normal Lung_Example 2   Regular       0.0             0.0   \n",
              "\n",
              "   B-lines  A-lines  Pleural_line_irregularities  Air_bronchogram  \n",
              "0      1.0      0.0                          1.0              0.0  \n",
              "1      1.0      1.0                          1.0              0.0  \n",
              "2      1.0      0.0                          0.0              0.0  \n",
              "3      0.0      1.0                          0.0              0.0  \n",
              "4      0.0      0.0                          0.0              0.0  "
            ]
          },
          "execution_count": 7,
          "metadata": {},
          "output_type": "execute_result"
        }
      ],
      "source": [
        "base = base[base['Effusion'] != 'n/A']\n",
        "base = base[base['Consolidations'] != 'n/A']\n",
        "base = base[base['B-lines'] != 'n/A']\n",
        "base = base[base['A-lines']  != 'n/A']\n",
        "base = base[base['Pleural_line_irregularities']  != 'n/A']\n",
        "base = base[base['Air_bronchogram']  != 'n/A']\n",
        "base = base[base['Label']  != 'n/A']\n",
        "#base = base[base['Label']  != 'regular']\n",
        "#base = base[base['Label']  != 'Regular']\n",
        "base['Label']= base['Label'].replace(['regular'], 'Regular')\n",
        "\n",
        "base['Effusion'] = pd.to_numeric(base['Effusion'])\n",
        "base.head()"
      ],
      "id": "6c86410a"
    },
    {
      "cell_type": "code",
      "execution_count": null,
      "metadata": {
        "colab": {
          "base_uri": "https://localhost:8080/"
        },
        "id": "8b3a3fb8",
        "outputId": "ff57f66a-ffc3-4944-da5e-86763eb863e7"
      },
      "outputs": [
        {
          "data": {
            "text/plain": [
              "(346, 8)"
            ]
          },
          "execution_count": 8,
          "metadata": {},
          "output_type": "execute_result"
        }
      ],
      "source": [
        "base  = base.dropna(axis = 0)\n",
        "base.shape"
      ],
      "id": "8b3a3fb8"
    },
    {
      "cell_type": "code",
      "execution_count": null,
      "metadata": {
        "colab": {
          "base_uri": "https://localhost:8080/"
        },
        "id": "f68f0c0a",
        "outputId": "1ac363be-383e-44a2-fe82-b760e9a3c294"
      },
      "outputs": [
        {
          "data": {
            "text/plain": [
              "0               Cov-Butterfly-COVID Lung 2\n",
              "1                Cov-Butterfly-Skip Lesion\n",
              "2          Cov-Butterfly-Confluent B lines\n",
              "3        Reg-Butterfly-Normal Lung A lines\n",
              "4      Reg-Butterfly-Normal Lung_Example 2\n",
              "                      ...                 \n",
              "344                Cov-B_ConvexProb_score1\n",
              "345               Cov-C_Convex_Prob_score2\n",
              "346               Cov-D_Convex_Prob_score3\n",
              "347                Cov-C_ConvexProb_score3\n",
              "348                    Cov-MSU-SkipLesions\n",
              "Name: Filename, Length: 346, dtype: object"
            ]
          },
          "execution_count": 9,
          "metadata": {},
          "output_type": "execute_result"
        }
      ],
      "source": [
        "metadata = base;\n",
        "metadata['Filename']"
      ],
      "id": "f68f0c0a"
    },
    {
      "cell_type": "code",
      "execution_count": null,
      "metadata": {
        "colab": {
          "base_uri": "https://localhost:8080/"
        },
        "id": "c16b65e8",
        "outputId": "9a26204a-7f29-4ad5-f47b-ee09152a9119"
      },
      "outputs": [
        {
          "data": {
            "text/plain": [
              "1"
            ]
          },
          "execution_count": 11,
          "metadata": {},
          "output_type": "execute_result"
        }
      ],
      "source": [
        "#\"Cov-Butterfly-COVID Lung 2\" in metadata['Filename']\n",
        "teste = metadata.loc[metadata.Filename == \"Reg-Atlas-lungcurtain\"]\n",
        "len(teste)"
      ],
      "id": "c16b65e8"
    },
    {
      "cell_type": "code",
      "execution_count": null,
      "metadata": {
        "id": "48b100ac"
      },
      "outputs": [],
      "source": [
        "effusion_list = []\n",
        "consolid_list = []\n",
        "aline_list = []\n",
        "bline_list = []\n",
        "pli_list = []\n",
        "airb_list = []\n",
        "filenames = []\n",
        "y_labels = []\n",
        "num_imgs_per_video = 10\n",
        "#os.mkdir(\"/content/dataset\")"
      ],
      "id": "48b100ac"
    },
    {
      "cell_type": "code",
      "execution_count": null,
      "metadata": {
        "id": "dmnSUSnASW6I"
      },
      "outputs": [],
      "source": [
        "IMG_SIZE = 224 # Specify height and width of image to match the input format of the model\n",
        "CHANNELS = 3 # Keep RGB color channels to match the input format of the model\n",
        "num_imgs_per_video=10"
      ],
      "id": "dmnSUSnASW6I"
    },
    {
      "cell_type": "code",
      "execution_count": null,
      "metadata": {
        "id": "KZ5AAYRSSSyF"
      },
      "outputs": [],
      "source": [
        "\n",
        "feature_extractor_url = \"https://tfhub.dev/google/imagenet/mobilenet_v2_100_224/feature_vector/4\"\n",
        "feature_extractor_layer = hub.KerasLayer(feature_extractor_url,\n",
        "                                         input_shape=(IMG_SIZE,IMG_SIZE,CHANNELS))"
      ],
      "id": "KZ5AAYRSSSyF"
    },
    {
      "cell_type": "code",
      "execution_count": null,
      "metadata": {
        "id": "aQm4KjuqSeaX"
      },
      "outputs": [],
      "source": [
        "feature_extractor_layer.trainable = True"
      ],
      "id": "aQm4KjuqSeaX"
    },
    {
      "cell_type": "code",
      "execution_count": null,
      "metadata": {
        "id": "zDCzD3UPSiXT"
      },
      "outputs": [],
      "source": [
        "def plot_curves(history):\n",
        "    plt.figure(figsize=(5, 3))\n",
        "    epochs = range(1, len(history.history['loss'])+1)\n",
        "    plt.plot(epochs, history.history['loss'], label=\"Train loss\")\n",
        "    plt.plot(epochs, history.history['val_loss'], label=\"Test Loss\")\n",
        "    plt.title(\"Training Loss Curve\")\n",
        "    plt.ylabel(\"Loss\")\n",
        "    plt.xlabel(\"Epochs\")\n",
        "    plt.legend();\n",
        "    \n",
        "    plt.figure(figsize=(5, 3))\n",
        "    epochs = range(1, len(history.history['accuracy'])+1)\n",
        "    plt.plot(epochs, history.history['accuracy'], label=\"Train Acc\")\n",
        "    plt.plot(epochs, history.history['val_accuracy'], label=\"Test Acc\")\n",
        "    plt.title(\"Training Accuracy Curve\")\n",
        "    plt.ylabel(\"Accuracy\")\n",
        "    plt.xlabel(\"Epochs\")\n",
        "    plt.legend();"
      ],
      "id": "zDCzD3UPSiXT"
    },
    {
      "cell_type": "markdown",
      "metadata": {
        "id": "HazpET0-FRDS"
      },
      "source": [
        "## Data Augmentation\n"
      ],
      "id": "HazpET0-FRDS"
    },
    {
      "cell_type": "code",
      "execution_count": null,
      "metadata": {
        "colab": {
          "base_uri": "https://localhost:8080/"
        },
        "id": "oN9Iq9b3FS9Y",
        "outputId": "140f2a28-cc40-423d-d2a2-f50401371eb9"
      },
      "outputs": [
        {
          "name": "stdout",
          "output_type": "stream",
          "text": [
            "Looking in indexes: https://pypi.org/simple, https://us-python.pkg.dev/colab-wheels/public/simple/\n",
            "Collecting git+https://github.com/albumentations-team/albumentations\n",
            "  Cloning https://github.com/albumentations-team/albumentations to /tmp/pip-req-build-505ow_a_\n",
            "  Running command git clone -q https://github.com/albumentations-team/albumentations /tmp/pip-req-build-505ow_a_\n",
            "Requirement already satisfied: numpy>=1.11.1 in /usr/local/lib/python3.8/dist-packages (from albumentations==1.3.0) (1.21.6)\n",
            "Requirement already satisfied: scipy>=1.1.0 in /usr/local/lib/python3.8/dist-packages (from albumentations==1.3.0) (1.7.3)\n",
            "Requirement already satisfied: scikit-image>=0.16.1 in /usr/local/lib/python3.8/dist-packages (from albumentations==1.3.0) (0.18.3)\n",
            "Requirement already satisfied: PyYAML in /usr/local/lib/python3.8/dist-packages (from albumentations==1.3.0) (6.0)\n",
            "Requirement already satisfied: qudida>=0.0.4 in /usr/local/lib/python3.8/dist-packages (from albumentations==1.3.0) (0.0.4)\n",
            "Requirement already satisfied: opencv-python>=4.1.1 in /usr/local/lib/python3.8/dist-packages (from albumentations==1.3.0) (4.6.0.66)\n",
            "Requirement already satisfied: scikit-learn>=0.19.1 in /usr/local/lib/python3.8/dist-packages (from qudida>=0.0.4->albumentations==1.3.0) (1.0.2)\n",
            "Requirement already satisfied: typing-extensions in /usr/local/lib/python3.8/dist-packages (from qudida>=0.0.4->albumentations==1.3.0) (4.1.1)\n",
            "Requirement already satisfied: opencv-python-headless>=4.0.1 in /usr/local/lib/python3.8/dist-packages (from qudida>=0.0.4->albumentations==1.3.0) (4.6.0.66)\n",
            "Requirement already satisfied: networkx>=2.0 in /usr/local/lib/python3.8/dist-packages (from scikit-image>=0.16.1->albumentations==1.3.0) (2.6.3)\n",
            "Requirement already satisfied: imageio>=2.3.0 in /usr/local/lib/python3.8/dist-packages (from scikit-image>=0.16.1->albumentations==1.3.0) (2.9.0)\n",
            "Requirement already satisfied: pillow!=7.1.0,!=7.1.1,>=4.3.0 in /usr/local/lib/python3.8/dist-packages (from scikit-image>=0.16.1->albumentations==1.3.0) (7.1.2)\n",
            "Requirement already satisfied: PyWavelets>=1.1.1 in /usr/local/lib/python3.8/dist-packages (from scikit-image>=0.16.1->albumentations==1.3.0) (1.3.0)\n",
            "Requirement already satisfied: tifffile>=2019.7.26 in /usr/local/lib/python3.8/dist-packages (from scikit-image>=0.16.1->albumentations==1.3.0) (2021.11.2)\n",
            "Requirement already satisfied: matplotlib!=3.0.0,>=2.0.0 in /usr/local/lib/python3.8/dist-packages (from scikit-image>=0.16.1->albumentations==1.3.0) (3.2.2)\n",
            "Requirement already satisfied: kiwisolver>=1.0.1 in /usr/local/lib/python3.8/dist-packages (from matplotlib!=3.0.0,>=2.0.0->scikit-image>=0.16.1->albumentations==1.3.0) (1.4.4)\n",
            "Requirement already satisfied: python-dateutil>=2.1 in /usr/local/lib/python3.8/dist-packages (from matplotlib!=3.0.0,>=2.0.0->scikit-image>=0.16.1->albumentations==1.3.0) (2.8.2)\n",
            "Requirement already satisfied: cycler>=0.10 in /usr/local/lib/python3.8/dist-packages (from matplotlib!=3.0.0,>=2.0.0->scikit-image>=0.16.1->albumentations==1.3.0) (0.11.0)\n",
            "Requirement already satisfied: pyparsing!=2.0.4,!=2.1.2,!=2.1.6,>=2.0.1 in /usr/local/lib/python3.8/dist-packages (from matplotlib!=3.0.0,>=2.0.0->scikit-image>=0.16.1->albumentations==1.3.0) (3.0.9)\n",
            "Requirement already satisfied: six>=1.5 in /usr/local/lib/python3.8/dist-packages (from python-dateutil>=2.1->matplotlib!=3.0.0,>=2.0.0->scikit-image>=0.16.1->albumentations==1.3.0) (1.15.0)\n",
            "Requirement already satisfied: joblib>=0.11 in /usr/local/lib/python3.8/dist-packages (from scikit-learn>=0.19.1->qudida>=0.0.4->albumentations==1.3.0) (1.2.0)\n",
            "Requirement already satisfied: threadpoolctl>=2.0.0 in /usr/local/lib/python3.8/dist-packages (from scikit-learn>=0.19.1->qudida>=0.0.4->albumentations==1.3.0) (3.1.0)\n"
          ]
        }
      ],
      "source": [
        "!pip install -U git+https://github.com/albumentations-team/albumentations"
      ],
      "id": "oN9Iq9b3FS9Y"
    },
    {
      "cell_type": "code",
      "execution_count": null,
      "metadata": {
        "id": "Xr4xWZvdFTpd"
      },
      "outputs": [],
      "source": [
        "from albumentations import HorizontalFlip, VerticalFlip, ElasticTransform, GridDistortion, OpticalDistortion, CoarseDropout"
      ],
      "id": "Xr4xWZvdFTpd"
    },
    {
      "cell_type": "code",
      "execution_count": null,
      "metadata": {
        "id": "vGSHPci-FQRW"
      },
      "outputs": [],
      "source": [
        "def criar_diretorio(caminho):\n",
        "  if not os.path.exists(caminho):\n",
        "    os.makedirs(caminho)"
      ],
      "id": "vGSHPci-FQRW"
    },
    {
      "cell_type": "code",
      "execution_count": null,
      "metadata": {
        "id": "_OlTdy7jFjoI"
      },
      "outputs": [],
      "source": [
        "from scipy.stats.distributions import alpha\n",
        "def create_dataset_aug(img_altura=224, img_largura=224, augmentation=True):\n",
        "    X_train, y_train = [], []\n",
        "    for filename in videos_list:\n",
        "        count=0\n",
        "        #print(filename)\n",
        "        vid_cap = cv2.VideoCapture(path+'/'+filename)\n",
        "        total_frame_count= int(vid_cap.get(cv2.CAP_PROP_FRAME_COUNT))\n",
        "        step = total_frame_count/num_imgs_per_video\n",
        "        success, image = vid_cap.read()\n",
        "        metadata_cap = metadata.loc[metadata.Filename == filename.split('.')[0]]\n",
        "        if len(metadata_cap) >0:\n",
        "            while success:\n",
        "                #print(\"Reading new frame...\", success)\n",
        "                if ((count+1) % int(step) == 0):\n",
        "                    #print(\"Writing new frame...\")\n",
        "                    out = '/content/dataset/{}_{}.png'.format(filename.split('.')[0], count)\n",
        "                    cv2.imwrite(out, image)\n",
        "                    img = tf.keras.utils.load_img(out, target_size = (img_largura, img_altura, 3))\n",
        "                    img = tf.keras.utils.img_to_array(img)\n",
        "                    img= img/255.\n",
        "                    #img = img.transpose(2,0,1)\n",
        "                    X_train.append(img)\n",
        "                    img_labels = [metadata['A-lines'][metadata_cap.index[0]],\n",
        "                                    metadata['B-lines'][metadata_cap.index[0]],\n",
        "                                    metadata['Effusion'][metadata_cap.index[0]],\n",
        "                                    metadata['Consolidations'][metadata_cap.index[0]],\n",
        "                                    metadata['Pleural_line_irregularities'][metadata_cap.index[0]]]\n",
        "                                     #metadata['Air_bronchogram'][metadata_cap.index[0]]])\n",
        "                    y_train.append(img_labels)\n",
        "                    if augmentation:\n",
        "                      aug = HorizontalFlip(p = 1.0)\n",
        "                      augmentation = aug(image = img)\n",
        "                      x1 = augmentation['image']\n",
        "                      X_train.append(x1)\n",
        "                      y_train.append(img_labels)\n",
        "\n",
        "                      aug = OpticalDistortion(p = 1.0, distort_limit=2, shift_limit=0.5)\n",
        "                      augmentation = aug(image = img)\n",
        "                      x2 = augmentation['image']\n",
        "                      X_train.append(x2)\n",
        "                      y_train.append(img_labels)\n",
        "\n",
        "                      # aug = ElasticTransform(p = 1.0, alpha=120, sigma=120*0.05, alpha_affine=120*0.03)\n",
        "                      # augmentation = aug(image = img)\n",
        "                      # x3 = augmentation['image']\n",
        "                      # X_train.append(x3)\n",
        "                      # y_train.append(img_labels)\n",
        "\n",
        "                      # aug = GridDistortion(p = 1.0)\n",
        "                      # augmentation = aug(image = img)\n",
        "                      # x4 = augmentation['image']\n",
        "                      # X_train.append(x4)\n",
        "                      # y_train.append(img_labels)\n",
        "\n",
        "                success, image = vid_cap.read()\n",
        "                count += 1\n",
        "    X = np.array(X_train)\n",
        "    y = np.array(y_train)\n",
        "    return X, y"
      ],
      "id": "_OlTdy7jFjoI"
    },
    {
      "cell_type": "code",
      "execution_count": null,
      "metadata": {
        "id": "U_Ol__-ESoSs"
      },
      "outputs": [],
      "source": [
        "def create_mydataset_all():\n",
        "    X_train, y_train = [], []\n",
        "    for filename in videos_list:\n",
        "        count=0\n",
        "        #print(filename)\n",
        "        vid_cap = cv2.VideoCapture(path+'/'+filename)\n",
        "        total_frame_count= int(vid_cap.get(cv2.CAP_PROP_FRAME_COUNT))\n",
        "        step = total_frame_count/num_imgs_per_video\n",
        "        success, image = vid_cap.read()\n",
        "        metadata_cap = metadata.loc[metadata.Filename == filename.split('.')[0]]\n",
        "        if len(metadata_cap) >0:\n",
        "            while success:\n",
        "                #print(\"Reading new frame...\", success)\n",
        "                if ((count+1) % int(step) == 0):\n",
        "                    #print(\"Writing new frame...\")\n",
        "                    out = '/content/dataset/{}_{}.png'.format(filename.split('.')[0], count)\n",
        "                    cv2.imwrite(out, image)\n",
        "                    img = tf.keras.utils.load_img(out, target_size = (224, 224, 3))\n",
        "                    img = tf.keras.utils.img_to_array(img)\n",
        "                    img= img/255.\n",
        "                    #img = img.transpose(2,0,1)\n",
        "                    X_train.append(img)\n",
        "                    y_train.append([metadata['A-lines'][metadata_cap.index[0]],\n",
        "                                    metadata['B-lines'][metadata_cap.index[0]],\n",
        "                                    metadata['Effusion'][metadata_cap.index[0]],\n",
        "                                    metadata['Consolidations'][metadata_cap.index[0]],\n",
        "                                    metadata['Pleural_line_irregularities'][metadata_cap.index[0]]])\n",
        "                                     #metadata['Air_bronchogram'][metadata_cap.index[0]]])\n",
        "                success, image = vid_cap.read()\n",
        "                count += 1\n",
        "    X = np.array(X_train)\n",
        "    y = np.array(y_train)\n",
        "    return X, y"
      ],
      "id": "U_Ol__-ESoSs"
    },
    {
      "cell_type": "code",
      "execution_count": null,
      "metadata": {
        "colab": {
          "base_uri": "https://localhost:8080/"
        },
        "id": "P2wfiDK9Sobs",
        "outputId": "6a01b9a9-4aa9-4925-c460-758fbb934a1b"
      },
      "outputs": [
        {
          "data": {
            "text/plain": [
              "((1225, 224, 224, 3), (1225, 5))"
            ]
          },
          "execution_count": 14,
          "metadata": {},
          "output_type": "execute_result"
        }
      ],
      "source": [
        "#X, y = create_dataset_aug()\n",
        "X, y = create_mydataset_all()\n",
        "#((1225, 224, 224, 3), (1225, 5))\n",
        "num_folds=5\n",
        "# Define the K-fold Cross Validator\n",
        "kfold = KFold(n_splits=num_folds, shuffle=True)\n",
        "X_train, X_test, y_train, y_test = train_test_split(X, y, random_state=20, test_size=0.2, shuffle=True)\n",
        "X_train.shape, y_train.shape"
      ],
      "id": "P2wfiDK9Sobs"
    },
    {
      "cell_type": "code",
      "execution_count": null,
      "metadata": {
        "id": "s72CtPdf72mB"
      },
      "outputs": [],
      "source": [
        "del X\n",
        "del y\n",
        "from keras import initializers\n",
        "tf.random.set_seed(42)\n",
        "N_LABELS = 5\n",
        "EPOCHS = 20\n",
        "batch_size = 32\n",
        "LR = 0.00001\n",
        "acc_per_fold = []\n",
        "loss_per_fold = []"
      ],
      "id": "s72CtPdf72mB"
    },
    {
      "cell_type": "code",
      "execution_count": null,
      "metadata": {
        "id": "J6_HsSZON-hM"
      },
      "outputs": [],
      "source": [
        "reconstructed_model = keras.models.load_model(\"my_h5_model.h5\")"
      ],
      "id": "J6_HsSZON-hM"
    },
    {
      "cell_type": "markdown",
      "metadata": {
        "id": "3JImZfm_D7HU"
      },
      "source": [
        "* 1024->5 = 65%         -\n",
        "* 1024->10->5 - 2x74%\n",
        "* 1024->10->5   - 50%\n"
      ],
      "id": "3JImZfm_D7HU"
    },
    {
      "cell_type": "code",
      "execution_count": null,
      "metadata": {
        "colab": {
          "base_uri": "https://localhost:8080/"
        },
        "id": "yXDrQVCP7ruG",
        "outputId": "5c047627-a62a-43ac-974f-263c83510e07"
      },
      "outputs": [
        {
          "name": "stdout",
          "output_type": "stream",
          "text": [
            "------------------------------------------------------------------------\n",
            "Training for fold 1 ...\n",
            "Epoch 1/20\n",
            "31/31 [==============================] - 11s 256ms/step - loss: 0.5552 - accuracy: 0.3214 - val_loss: 0.3185 - val_accuracy: 0.4495\n",
            "Epoch 2/20\n",
            "31/31 [==============================] - 7s 232ms/step - loss: 0.2385 - accuracy: 0.4837 - val_loss: 0.1952 - val_accuracy: 0.5244\n",
            "Epoch 3/20\n",
            "31/31 [==============================] - 7s 234ms/step - loss: 0.1660 - accuracy: 0.5051 - val_loss: 0.1559 - val_accuracy: 0.5375\n",
            "Epoch 4/20\n",
            "31/31 [==============================] - 7s 238ms/step - loss: 0.1386 - accuracy: 0.5194 - val_loss: 0.1375 - val_accuracy: 0.5472\n",
            "Epoch 5/20\n",
            "31/31 [==============================] - 7s 234ms/step - loss: 0.1247 - accuracy: 0.5245 - val_loss: 0.1255 - val_accuracy: 0.5472\n",
            "Epoch 6/20\n",
            "31/31 [==============================] - 7s 231ms/step - loss: 0.1142 - accuracy: 0.5255 - val_loss: 0.1180 - val_accuracy: 0.5440\n",
            "Epoch 7/20\n",
            "31/31 [==============================] - 7s 232ms/step - loss: 0.1060 - accuracy: 0.5316 - val_loss: 0.1131 - val_accuracy: 0.5537\n",
            "Epoch 8/20\n",
            "31/31 [==============================] - 7s 229ms/step - loss: 0.1036 - accuracy: 0.5561 - val_loss: 0.1098 - val_accuracy: 0.5603\n",
            "Epoch 9/20\n",
            "31/31 [==============================] - 7s 231ms/step - loss: 0.0992 - accuracy: 0.5449 - val_loss: 0.1075 - val_accuracy: 0.5635\n",
            "Epoch 10/20\n",
            "31/31 [==============================] - 7s 229ms/step - loss: 0.0973 - accuracy: 0.5306 - val_loss: 0.1051 - val_accuracy: 0.5733\n",
            "Epoch 11/20\n",
            "31/31 [==============================] - 7s 229ms/step - loss: 0.0945 - accuracy: 0.5500 - val_loss: 0.1034 - val_accuracy: 0.5765\n",
            "Epoch 12/20\n",
            "31/31 [==============================] - 7s 231ms/step - loss: 0.0938 - accuracy: 0.5347 - val_loss: 0.1024 - val_accuracy: 0.5635\n",
            "Epoch 13/20\n",
            "31/31 [==============================] - 7s 232ms/step - loss: 0.0914 - accuracy: 0.5327 - val_loss: 0.1010 - val_accuracy: 0.5733\n",
            "Epoch 14/20\n",
            "31/31 [==============================] - 7s 233ms/step - loss: 0.0907 - accuracy: 0.5500 - val_loss: 0.1001 - val_accuracy: 0.5700\n",
            "Epoch 15/20\n",
            "31/31 [==============================] - 7s 233ms/step - loss: 0.0911 - accuracy: 0.5551 - val_loss: 0.0995 - val_accuracy: 0.5700\n",
            "Epoch 16/20\n",
            "31/31 [==============================] - 7s 232ms/step - loss: 0.0902 - accuracy: 0.5388 - val_loss: 0.0985 - val_accuracy: 0.5733\n",
            "Epoch 17/20\n",
            "31/31 [==============================] - 7s 233ms/step - loss: 0.0900 - accuracy: 0.5673 - val_loss: 0.0984 - val_accuracy: 0.5993\n",
            "Epoch 18/20\n",
            "31/31 [==============================] - 7s 229ms/step - loss: 0.0897 - accuracy: 0.5653 - val_loss: 0.0976 - val_accuracy: 0.5993\n",
            "Epoch 19/20\n",
            "31/31 [==============================] - 7s 231ms/step - loss: 0.0894 - accuracy: 0.5459 - val_loss: 0.0972 - val_accuracy: 0.5863\n",
            "Epoch 20/20\n",
            "31/31 [==============================] - 7s 232ms/step - loss: 0.0872 - accuracy: 0.5612 - val_loss: 0.0968 - val_accuracy: 0.5733\n",
            "Score for fold 1: loss of 0.08543336391448975; accuracy of 57.55102038383484%\n",
            "------------------------------------------------------------------------\n",
            "Training for fold 2 ...\n",
            "Epoch 1/20\n",
            "31/31 [==============================] - 11s 257ms/step - loss: 0.6195 - accuracy: 0.2949 - val_loss: 0.3570 - val_accuracy: 0.6124\n",
            "Epoch 2/20\n",
            "31/31 [==============================] - 7s 230ms/step - loss: 0.2714 - accuracy: 0.7296 - val_loss: 0.2169 - val_accuracy: 0.7557\n",
            "Epoch 3/20\n",
            "31/31 [==============================] - 7s 236ms/step - loss: 0.1903 - accuracy: 0.7347 - val_loss: 0.1687 - val_accuracy: 0.7655\n",
            "Epoch 4/20\n",
            "31/31 [==============================] - 7s 234ms/step - loss: 0.1521 - accuracy: 0.7561 - val_loss: 0.1459 - val_accuracy: 0.7362\n",
            "Epoch 5/20\n",
            "31/31 [==============================] - 7s 236ms/step - loss: 0.1374 - accuracy: 0.7214 - val_loss: 0.1328 - val_accuracy: 0.7785\n",
            "Epoch 6/20\n",
            "31/31 [==============================] - 7s 234ms/step - loss: 0.1237 - accuracy: 0.7500 - val_loss: 0.1237 - val_accuracy: 0.7492\n",
            "Epoch 7/20\n",
            "31/31 [==============================] - 7s 232ms/step - loss: 0.1133 - accuracy: 0.7592 - val_loss: 0.1177 - val_accuracy: 0.7231\n",
            "Epoch 8/20\n",
            "31/31 [==============================] - 7s 233ms/step - loss: 0.1082 - accuracy: 0.7408 - val_loss: 0.1131 - val_accuracy: 0.7264\n",
            "Epoch 9/20\n",
            "31/31 [==============================] - 7s 234ms/step - loss: 0.1056 - accuracy: 0.7408 - val_loss: 0.1097 - val_accuracy: 0.7394\n",
            "Epoch 10/20\n",
            "31/31 [==============================] - 7s 234ms/step - loss: 0.1020 - accuracy: 0.7480 - val_loss: 0.1070 - val_accuracy: 0.7394\n",
            "Epoch 11/20\n",
            "31/31 [==============================] - 7s 232ms/step - loss: 0.0988 - accuracy: 0.7316 - val_loss: 0.1050 - val_accuracy: 0.7362\n",
            "Epoch 12/20\n",
            "31/31 [==============================] - 7s 234ms/step - loss: 0.0997 - accuracy: 0.7122 - val_loss: 0.1033 - val_accuracy: 0.7101\n",
            "Epoch 13/20\n",
            "31/31 [==============================] - 7s 233ms/step - loss: 0.0965 - accuracy: 0.7265 - val_loss: 0.1019 - val_accuracy: 0.7394\n",
            "Epoch 14/20\n",
            "31/31 [==============================] - 8s 247ms/step - loss: 0.0943 - accuracy: 0.6939 - val_loss: 0.1006 - val_accuracy: 0.7199\n",
            "Epoch 15/20\n",
            "31/31 [==============================] - 7s 235ms/step - loss: 0.0933 - accuracy: 0.7143 - val_loss: 0.0994 - val_accuracy: 0.7199\n",
            "Epoch 16/20\n",
            "31/31 [==============================] - 7s 235ms/step - loss: 0.0917 - accuracy: 0.7173 - val_loss: 0.0987 - val_accuracy: 0.7296\n",
            "Epoch 17/20\n",
            "31/31 [==============================] - 7s 235ms/step - loss: 0.0920 - accuracy: 0.7235 - val_loss: 0.0983 - val_accuracy: 0.7492\n",
            "Epoch 18/20\n",
            "31/31 [==============================] - 7s 235ms/step - loss: 0.0897 - accuracy: 0.7173 - val_loss: 0.0977 - val_accuracy: 0.7296\n",
            "Epoch 19/20\n",
            "31/31 [==============================] - 7s 235ms/step - loss: 0.0897 - accuracy: 0.6959 - val_loss: 0.0970 - val_accuracy: 0.7362\n",
            "Epoch 20/20\n",
            "31/31 [==============================] - 7s 234ms/step - loss: 0.0892 - accuracy: 0.7102 - val_loss: 0.0967 - val_accuracy: 0.7427\n",
            "Score for fold 2: loss of 0.08631636947393417; accuracy of 77.14285850524902%\n",
            "------------------------------------------------------------------------\n",
            "Training for fold 3 ...\n",
            "Epoch 1/20\n",
            "31/31 [==============================] - 11s 253ms/step - loss: 0.5711 - accuracy: 0.2776 - val_loss: 0.2701 - val_accuracy: 0.5114\n",
            "Epoch 2/20\n",
            "31/31 [==============================] - 7s 239ms/step - loss: 0.2109 - accuracy: 0.5122 - val_loss: 0.1645 - val_accuracy: 0.5733\n",
            "Epoch 3/20\n",
            "31/31 [==============================] - 7s 231ms/step - loss: 0.1458 - accuracy: 0.5316 - val_loss: 0.1364 - val_accuracy: 0.5733\n",
            "Epoch 4/20\n",
            "31/31 [==============================] - 7s 235ms/step - loss: 0.1257 - accuracy: 0.5316 - val_loss: 0.1230 - val_accuracy: 0.5570\n",
            "Epoch 5/20\n",
            "31/31 [==============================] - 7s 234ms/step - loss: 0.1125 - accuracy: 0.5571 - val_loss: 0.1153 - val_accuracy: 0.5635\n",
            "Epoch 6/20\n",
            "31/31 [==============================] - 7s 235ms/step - loss: 0.1063 - accuracy: 0.5276 - val_loss: 0.1105 - val_accuracy: 0.5668\n",
            "Epoch 7/20\n",
            "31/31 [==============================] - 7s 230ms/step - loss: 0.1017 - accuracy: 0.5418 - val_loss: 0.1069 - val_accuracy: 0.5505\n",
            "Epoch 8/20\n",
            "31/31 [==============================] - 7s 232ms/step - loss: 0.0974 - accuracy: 0.5429 - val_loss: 0.1039 - val_accuracy: 0.5570\n",
            "Epoch 9/20\n",
            "31/31 [==============================] - 7s 228ms/step - loss: 0.0961 - accuracy: 0.5398 - val_loss: 0.1022 - val_accuracy: 0.5635\n",
            "Epoch 10/20\n",
            "31/31 [==============================] - 7s 231ms/step - loss: 0.0943 - accuracy: 0.5398 - val_loss: 0.1008 - val_accuracy: 0.5603\n",
            "Epoch 11/20\n",
            "31/31 [==============================] - 7s 231ms/step - loss: 0.0923 - accuracy: 0.5429 - val_loss: 0.0995 - val_accuracy: 0.5570\n",
            "Epoch 12/20\n",
            "31/31 [==============================] - 7s 228ms/step - loss: 0.0911 - accuracy: 0.5602 - val_loss: 0.0989 - val_accuracy: 0.5570\n",
            "Epoch 13/20\n",
            "31/31 [==============================] - 7s 231ms/step - loss: 0.0927 - accuracy: 0.5449 - val_loss: 0.0973 - val_accuracy: 0.5537\n",
            "Epoch 14/20\n",
            "31/31 [==============================] - 7s 232ms/step - loss: 0.0891 - accuracy: 0.5316 - val_loss: 0.0968 - val_accuracy: 0.5635\n",
            "Epoch 15/20\n",
            "31/31 [==============================] - 7s 231ms/step - loss: 0.0889 - accuracy: 0.5561 - val_loss: 0.0966 - val_accuracy: 0.5635\n",
            "Epoch 16/20\n",
            "31/31 [==============================] - 7s 234ms/step - loss: 0.0885 - accuracy: 0.5439 - val_loss: 0.0961 - val_accuracy: 0.5733\n",
            "Epoch 17/20\n",
            "31/31 [==============================] - 7s 232ms/step - loss: 0.0890 - accuracy: 0.5643 - val_loss: 0.0958 - val_accuracy: 0.5700\n",
            "Epoch 18/20\n",
            "31/31 [==============================] - 7s 232ms/step - loss: 0.0877 - accuracy: 0.5663 - val_loss: 0.0952 - val_accuracy: 0.5603\n",
            "Epoch 19/20\n",
            "31/31 [==============================] - 7s 232ms/step - loss: 0.0873 - accuracy: 0.5388 - val_loss: 0.0947 - val_accuracy: 0.5537\n",
            "Epoch 20/20\n",
            "31/31 [==============================] - 7s 233ms/step - loss: 0.0860 - accuracy: 0.5551 - val_loss: 0.0946 - val_accuracy: 0.5668\n",
            "Score for fold 3: loss of 0.08445801585912704; accuracy of 47.75510132312775%\n",
            "------------------------------------------------------------------------\n",
            "Training for fold 4 ...\n",
            "Epoch 1/20\n",
            "31/31 [==============================] - 12s 258ms/step - loss: 0.4581 - accuracy: 0.6704 - val_loss: 0.2498 - val_accuracy: 0.6612\n",
            "Epoch 2/20\n",
            "31/31 [==============================] - 7s 230ms/step - loss: 0.1922 - accuracy: 0.7418 - val_loss: 0.1641 - val_accuracy: 0.6775\n",
            "Epoch 3/20\n",
            "31/31 [==============================] - 7s 233ms/step - loss: 0.1461 - accuracy: 0.7235 - val_loss: 0.1375 - val_accuracy: 0.6906\n",
            "Epoch 4/20\n",
            "31/31 [==============================] - 7s 235ms/step - loss: 0.1243 - accuracy: 0.6786 - val_loss: 0.1239 - val_accuracy: 0.7264\n",
            "Epoch 5/20\n",
            "31/31 [==============================] - 7s 232ms/step - loss: 0.1139 - accuracy: 0.7357 - val_loss: 0.1162 - val_accuracy: 0.6906\n",
            "Epoch 6/20\n",
            "31/31 [==============================] - 7s 234ms/step - loss: 0.1082 - accuracy: 0.6684 - val_loss: 0.1111 - val_accuracy: 0.7362\n",
            "Epoch 7/20\n",
            "31/31 [==============================] - 7s 234ms/step - loss: 0.1021 - accuracy: 0.7276 - val_loss: 0.1074 - val_accuracy: 0.7231\n",
            "Epoch 8/20\n",
            "31/31 [==============================] - 7s 231ms/step - loss: 0.0975 - accuracy: 0.6888 - val_loss: 0.1046 - val_accuracy: 0.6938\n",
            "Epoch 9/20\n",
            "31/31 [==============================] - 7s 233ms/step - loss: 0.0954 - accuracy: 0.6816 - val_loss: 0.1028 - val_accuracy: 0.6971\n",
            "Epoch 10/20\n",
            "31/31 [==============================] - 7s 234ms/step - loss: 0.0931 - accuracy: 0.7122 - val_loss: 0.1013 - val_accuracy: 0.7296\n",
            "Epoch 11/20\n",
            "31/31 [==============================] - 7s 234ms/step - loss: 0.0924 - accuracy: 0.6684 - val_loss: 0.1000 - val_accuracy: 0.7068\n",
            "Epoch 12/20\n",
            "31/31 [==============================] - 7s 233ms/step - loss: 0.0918 - accuracy: 0.6898 - val_loss: 0.0991 - val_accuracy: 0.7199\n",
            "Epoch 13/20\n",
            "31/31 [==============================] - 7s 235ms/step - loss: 0.0895 - accuracy: 0.7092 - val_loss: 0.0988 - val_accuracy: 0.7329\n",
            "Epoch 14/20\n",
            "31/31 [==============================] - 7s 233ms/step - loss: 0.0903 - accuracy: 0.6918 - val_loss: 0.0966 - val_accuracy: 0.6743\n",
            "Epoch 15/20\n",
            "31/31 [==============================] - 7s 235ms/step - loss: 0.0891 - accuracy: 0.6816 - val_loss: 0.0961 - val_accuracy: 0.6971\n",
            "Epoch 16/20\n",
            "31/31 [==============================] - 7s 234ms/step - loss: 0.0878 - accuracy: 0.6735 - val_loss: 0.0958 - val_accuracy: 0.6710\n",
            "Epoch 17/20\n",
            "31/31 [==============================] - 7s 232ms/step - loss: 0.0876 - accuracy: 0.6673 - val_loss: 0.0957 - val_accuracy: 0.7036\n",
            "Epoch 18/20\n",
            "31/31 [==============================] - 7s 233ms/step - loss: 0.0868 - accuracy: 0.6755 - val_loss: 0.0954 - val_accuracy: 0.6906\n",
            "Epoch 19/20\n",
            "31/31 [==============================] - 7s 235ms/step - loss: 0.0872 - accuracy: 0.6867 - val_loss: 0.0957 - val_accuracy: 0.7134\n",
            "Epoch 20/20\n",
            "31/31 [==============================] - 7s 238ms/step - loss: 0.0865 - accuracy: 0.6878 - val_loss: 0.0958 - val_accuracy: 0.7296\n",
            "Score for fold 4: loss of 0.08444329351186752; accuracy of 75.10204315185547%\n",
            "------------------------------------------------------------------------\n",
            "Training for fold 5 ...\n",
            "Epoch 1/20\n",
            "31/31 [==============================] - 12s 267ms/step - loss: 0.5561 - accuracy: 0.4806 - val_loss: 0.2633 - val_accuracy: 0.5472\n",
            "Epoch 2/20\n",
            "31/31 [==============================] - 7s 242ms/step - loss: 0.2260 - accuracy: 0.4929 - val_loss: 0.1865 - val_accuracy: 0.5342\n",
            "Epoch 3/20\n",
            "31/31 [==============================] - 8s 245ms/step - loss: 0.1710 - accuracy: 0.5071 - val_loss: 0.1570 - val_accuracy: 0.5309\n",
            "Epoch 4/20\n",
            "31/31 [==============================] - 8s 245ms/step - loss: 0.1473 - accuracy: 0.5122 - val_loss: 0.1405 - val_accuracy: 0.5212\n",
            "Epoch 5/20\n",
            "31/31 [==============================] - 8s 247ms/step - loss: 0.1320 - accuracy: 0.5204 - val_loss: 0.1293 - val_accuracy: 0.5179\n",
            "Epoch 6/20\n",
            "31/31 [==============================] - 8s 246ms/step - loss: 0.1255 - accuracy: 0.5092 - val_loss: 0.1217 - val_accuracy: 0.5309\n",
            "Epoch 7/20\n",
            "31/31 [==============================] - 8s 245ms/step - loss: 0.1138 - accuracy: 0.5163 - val_loss: 0.1164 - val_accuracy: 0.5375\n",
            "Epoch 8/20\n",
            "31/31 [==============================] - 7s 241ms/step - loss: 0.1109 - accuracy: 0.5480 - val_loss: 0.1115 - val_accuracy: 0.5375\n",
            "Epoch 9/20\n",
            "31/31 [==============================] - 7s 240ms/step - loss: 0.1027 - accuracy: 0.5173 - val_loss: 0.1084 - val_accuracy: 0.5407\n",
            "Epoch 10/20\n",
            "31/31 [==============================] - 8s 243ms/step - loss: 0.1044 - accuracy: 0.5163 - val_loss: 0.1053 - val_accuracy: 0.5342\n",
            "Epoch 11/20\n",
            "31/31 [==============================] - 7s 241ms/step - loss: 0.0987 - accuracy: 0.5367 - val_loss: 0.1040 - val_accuracy: 0.5537\n",
            "Epoch 12/20\n",
            "31/31 [==============================] - 7s 236ms/step - loss: 0.0980 - accuracy: 0.5582 - val_loss: 0.1021 - val_accuracy: 0.5570\n",
            "Epoch 13/20\n",
            "31/31 [==============================] - 7s 234ms/step - loss: 0.0939 - accuracy: 0.5541 - val_loss: 0.1009 - val_accuracy: 0.5440\n",
            "Epoch 14/20\n",
            "31/31 [==============================] - 8s 243ms/step - loss: 0.0932 - accuracy: 0.5490 - val_loss: 0.1000 - val_accuracy: 0.5440\n",
            "Epoch 15/20\n",
            "31/31 [==============================] - 8s 243ms/step - loss: 0.0935 - accuracy: 0.5224 - val_loss: 0.0989 - val_accuracy: 0.5375\n",
            "Epoch 16/20\n",
            "31/31 [==============================] - 8s 245ms/step - loss: 0.0907 - accuracy: 0.5347 - val_loss: 0.0979 - val_accuracy: 0.5342\n",
            "Epoch 17/20\n",
            "31/31 [==============================] - 8s 244ms/step - loss: 0.0908 - accuracy: 0.5551 - val_loss: 0.0970 - val_accuracy: 0.5537\n",
            "Epoch 18/20\n",
            "31/31 [==============================] - 7s 240ms/step - loss: 0.0892 - accuracy: 0.5643 - val_loss: 0.0968 - val_accuracy: 0.5537\n",
            "Epoch 19/20\n",
            "31/31 [==============================] - 8s 244ms/step - loss: 0.0897 - accuracy: 0.5429 - val_loss: 0.0957 - val_accuracy: 0.5407\n",
            "Epoch 20/20\n",
            "31/31 [==============================] - 7s 235ms/step - loss: 0.0883 - accuracy: 0.5347 - val_loss: 0.0952 - val_accuracy: 0.5440\n",
            "Score for fold 5: loss of 0.08581645041704178; accuracy of 53.46938967704773%\n"
          ]
        }
      ],
      "source": [
        "# K-fold Cross Validation model evaluation\n",
        "fold_no = 1\n",
        "for train, test in kfold.split(X_train, y_train):\n",
        "\n",
        "  # Define the model architecture\n",
        "  initializer = tf.keras.initializers.Identity()\n",
        "  model_all_0 = tf.keras.Sequential([\n",
        "      feature_extractor_layer,\n",
        "      Dense(1024, name='hidden_layer_1'),\n",
        "      Dense(10, name='hidden_layer_2'),\n",
        "      Dense(N_LABELS, activation='sigmoid', name='output')\n",
        "  ])\n",
        "  # Compile the model\n",
        "  model_all_0.compile(\n",
        "    optimizer=tf.keras.optimizers.Adam(learning_rate=LR),\n",
        "    loss='binary_crossentropy',\n",
        "    metrics=['accuracy'])\n",
        "\n",
        "\n",
        "\n",
        "  # Generate a print\n",
        "  print('------------------------------------------------------------------------')\n",
        "  print(f'Training for fold {fold_no} ...')\n",
        "\n",
        "  # Fit data to model\n",
        "  history = model_all_0.fit(X_train[train], y_train[train],\n",
        "              batch_size=batch_size,\n",
        "              epochs=EPOCHS,\n",
        "              validation_data=(X_test, y_test))\n",
        "\n",
        "  # Generate generalization metrics\n",
        "  scores = model_all_0.evaluate(X_train[test], y_train[test], verbose=0)\n",
        "  print(f'Score for fold {fold_no}: {model_all_0.metrics_names[0]} of {scores[0]}; {model_all_0.metrics_names[1]} of {scores[1]*100}%')\n",
        "  acc_per_fold.append(scores[1] * 100)\n",
        "  loss_per_fold.append(scores[0])\n",
        "\n",
        "  # Increase fold number\n",
        "  fold_no = fold_no + 1"
      ],
      "id": "yXDrQVCP7ruG"
    },
    {
      "cell_type": "code",
      "execution_count": null,
      "metadata": {
        "colab": {
          "base_uri": "https://localhost:8080/"
        },
        "id": "sFhCQQiQTDmB",
        "outputId": "9f50a8d0-615a-4016-f386-6e8e11b4684a"
      },
      "outputs": [
        {
          "name": "stdout",
          "output_type": "stream",
          "text": [
            "------------------------------------------------------------------------\n",
            "Score per fold\n",
            "------------------------------------------------------------------------\n",
            "> Fold 1 - Loss: 0.639514684677124 - Accuracy: 53.87755036354065%\n",
            "------------------------------------------------------------------------\n",
            "> Fold 2 - Loss: 0.1047232449054718 - Accuracy: 36.73469424247742%\n",
            "------------------------------------------------------------------------\n",
            "> Fold 3 - Loss: 0.08114355802536011 - Accuracy: 53.46938967704773%\n",
            "------------------------------------------------------------------------\n",
            "> Fold 4 - Loss: 0.10333313047885895 - Accuracy: 50.61224699020386%\n",
            "------------------------------------------------------------------------\n",
            "> Fold 5 - Loss: 0.0776873528957367 - Accuracy: 45.30612230300903%\n",
            "------------------------------------------------------------------------\n",
            "> Fold 6 - Loss: 0.07579221576452255 - Accuracy: 44.08163130283356%\n",
            "------------------------------------------------------------------------\n",
            "> Fold 7 - Loss: 0.12743604183197021 - Accuracy: 39.18367326259613%\n",
            "------------------------------------------------------------------------\n",
            "> Fold 8 - Loss: 0.07733233273029327 - Accuracy: 49.79591965675354%\n",
            "------------------------------------------------------------------------\n",
            "> Fold 9 - Loss: 0.0704171285033226 - Accuracy: 45.71428596973419%\n",
            "------------------------------------------------------------------------\n",
            "> Fold 10 - Loss: 0.07541065663099289 - Accuracy: 51.02040767669678%\n",
            "------------------------------------------------------------------------\n",
            "> Fold 11 - Loss: 0.06804968416690826 - Accuracy: 49.38775599002838%\n",
            "------------------------------------------------------------------------\n",
            "> Fold 12 - Loss: 0.06607609242200851 - Accuracy: 53.06122303009033%\n",
            "------------------------------------------------------------------------\n",
            "> Fold 13 - Loss: 0.06444703042507172 - Accuracy: 42.85714328289032%\n",
            "------------------------------------------------------------------------\n",
            "> Fold 14 - Loss: 0.062252227216959 - Accuracy: 50.61224699020386%\n",
            "------------------------------------------------------------------------\n",
            "> Fold 15 - Loss: 0.06063854321837425 - Accuracy: 51.836735010147095%\n",
            "------------------------------------------------------------------------\n",
            "Average scores for all folds:\n",
            "> Accuracy: 47.83673504988352 (+- 5.107099728485681)\n",
            "> Loss: 0.11695026159286499\n",
            "------------------------------------------------------------------------\n"
          ]
        }
      ],
      "source": [
        "# == Provide average scores ==\n",
        "print('------------------------------------------------------------------------')\n",
        "print('Score per fold')\n",
        "for i in range(0, len(acc_per_fold)):\n",
        "  print('------------------------------------------------------------------------')\n",
        "  print(f'> Fold {i+1} - Loss: {loss_per_fold[i]} - Accuracy: {acc_per_fold[i]}%')\n",
        "print('------------------------------------------------------------------------')\n",
        "print('Average scores for all folds:')\n",
        "print(f'> Accuracy: {np.mean(acc_per_fold)} (+- {np.std(acc_per_fold)})')\n",
        "print(f'> Loss: {np.mean(loss_per_fold)}')\n",
        "print('------------------------------------------------------------------------')\n"
      ],
      "id": "sFhCQQiQTDmB"
    },
    {
      "cell_type": "code",
      "execution_count": null,
      "metadata": {
        "id": "e8mj8pqEeWGU"
      },
      "outputs": [],
      "source": [
        "# Save the model\n",
        "model_all_0.save('my_model_0_1(88-90).h5')"
      ],
      "id": "e8mj8pqEeWGU"
    },
    {
      "cell_type": "code",
      "execution_count": null,
      "metadata": {
        "id": "KFpctUG9Xgjj"
      },
      "outputs": [],
      "source": [
        "N_LABELS = 5\n",
        "EPOCHS = 20\n",
        "LR = 0.0001\n",
        "#>1024->512->5 = 68, 72\n",
        "#>1024->256->5 = 63, 73\n",
        "#>1024->128->5 = 63, 67\n",
        "#>1024->64->5 = ----\n",
        "#>1024->32->5 = 63, 67\n",
        "#>1024->512->32->5 = 55, 56\n",
        "#>1024>512->16->5  = 54, 56\n",
        "#>1024>512->8->5  = 73, 72\n",
        "model_all = tf.keras.Sequential([\n",
        "    feature_extractor_layer,\n",
        "    Dense(1024, activation='relu', name='hidden_layer_1'),\n",
        "    Dropout(0.2),\n",
        "    Dense(20, activation='relu', name='hidden_layers_2'),\n",
        "    Dense(10, activation='relu', name='hidden_layers_3'),\n",
        "    Dense(N_LABELS, activation='sigmoid', name='output')\n",
        "])\n",
        "model_all.compile(\n",
        "  optimizer=tf.keras.optimizers.Adam(learning_rate=LR),\n",
        "  loss='binary_crossentropy',\n",
        "  metrics=['accuracy'])\n",
        "history_all = model_all.fit(X_train, y_train,\n",
        "  epochs=EPOCHS,\n",
        "  batch_size=64,\n",
        "  validation_data=(X_test, y_test))"
      ],
      "id": "KFpctUG9Xgjj"
    },
    {
      "cell_type": "code",
      "execution_count": null,
      "metadata": {
        "id": "t0iDlUBlYheR"
      },
      "outputs": [],
      "source": [
        "# Save the model\n",
        "model_all.save('my_model.h5')"
      ],
      "id": "t0iDlUBlYheR"
    },
    {
      "cell_type": "code",
      "execution_count": null,
      "metadata": {
        "id": "03azdjz4Xoe9"
      },
      "outputs": [],
      "source": [
        "feature_extractor_url_resnet = \"https://tfhub.dev/google/imagenet/resnet_v2_101/feature_vector/5\"\n",
        "feature_extractor_layer_resnet = hub.KerasLayer(feature_extractor_url_resnet,\n",
        "                                         input_shape=(IMG_SIZE,IMG_SIZE,CHANNELS))"
      ],
      "id": "03azdjz4Xoe9"
    },
    {
      "cell_type": "code",
      "execution_count": null,
      "metadata": {
        "id": "1ublyrIrVGuy"
      },
      "outputs": [],
      "source": [
        "print(\"Thickness of the model:\", len(feature_extractor_layer_resnet.weights))\n",
        "#list(feature_extractor_layer_resnet.layers)"
      ],
      "id": "1ublyrIrVGuy"
    },
    {
      "cell_type": "code",
      "execution_count": null,
      "metadata": {
        "id": "Fp_2olObVxwr"
      },
      "outputs": [],
      "source": [
        "feature_extractor_layer_resnet.trainable = True"
      ],
      "id": "Fp_2olObVxwr"
    },
    {
      "cell_type": "code",
      "execution_count": null,
      "metadata": {
        "colab": {
          "background_save": true,
          "base_uri": "https://localhost:8080/"
        },
        "id": "ABDM2ZwFY6df",
        "outputId": "236f1226-e8f0-4a30-b813-538c83504194"
      },
      "outputs": [
        {
          "name": "stdout",
          "output_type": "stream",
          "text": [
            "------------------------------------------------------------------------\n",
            "Training for fold 1 ...\n",
            "Epoch 1/40\n",
            " 1/31 [..............................] - ETA: 30:25 - loss: 0.9312 - accuracy: 0.2188"
          ]
        },
        {
          "ename": "KeyboardInterrupt",
          "evalue": "ignored",
          "output_type": "error",
          "traceback": [
            "\u001b[0;31m---------------------------------------------------------------------------\u001b[0m",
            "\u001b[0;31mKeyboardInterrupt\u001b[0m                         Traceback (most recent call last)",
            "\u001b[0;32m<ipython-input-20-fb514079feca>\u001b[0m in \u001b[0;36m<module>\u001b[0;34m\u001b[0m\n\u001b[1;32m     29\u001b[0m \u001b[0;34m\u001b[0m\u001b[0m\n\u001b[1;32m     30\u001b[0m   \u001b[0;31m# Fit data to model\u001b[0m\u001b[0;34m\u001b[0m\u001b[0;34m\u001b[0m\u001b[0;34m\u001b[0m\u001b[0m\n\u001b[0;32m---> 31\u001b[0;31m   history = model_all_0.fit(X_train[train], y_train[train],\n\u001b[0m\u001b[1;32m     32\u001b[0m               \u001b[0mbatch_size\u001b[0m\u001b[0;34m=\u001b[0m\u001b[0mbatch_size\u001b[0m\u001b[0;34m,\u001b[0m\u001b[0;34m\u001b[0m\u001b[0;34m\u001b[0m\u001b[0m\n\u001b[1;32m     33\u001b[0m               \u001b[0mepochs\u001b[0m\u001b[0;34m=\u001b[0m\u001b[0mEPOCHS\u001b[0m\u001b[0;34m,\u001b[0m\u001b[0;34m\u001b[0m\u001b[0;34m\u001b[0m\u001b[0m\n",
            "\u001b[0;32m/usr/local/lib/python3.8/dist-packages/keras/utils/traceback_utils.py\u001b[0m in \u001b[0;36merror_handler\u001b[0;34m(*args, **kwargs)\u001b[0m\n\u001b[1;32m     62\u001b[0m     \u001b[0mfiltered_tb\u001b[0m \u001b[0;34m=\u001b[0m \u001b[0;32mNone\u001b[0m\u001b[0;34m\u001b[0m\u001b[0;34m\u001b[0m\u001b[0m\n\u001b[1;32m     63\u001b[0m     \u001b[0;32mtry\u001b[0m\u001b[0;34m:\u001b[0m\u001b[0;34m\u001b[0m\u001b[0;34m\u001b[0m\u001b[0m\n\u001b[0;32m---> 64\u001b[0;31m       \u001b[0;32mreturn\u001b[0m \u001b[0mfn\u001b[0m\u001b[0;34m(\u001b[0m\u001b[0;34m*\u001b[0m\u001b[0margs\u001b[0m\u001b[0;34m,\u001b[0m \u001b[0;34m**\u001b[0m\u001b[0mkwargs\u001b[0m\u001b[0;34m)\u001b[0m\u001b[0;34m\u001b[0m\u001b[0;34m\u001b[0m\u001b[0m\n\u001b[0m\u001b[1;32m     65\u001b[0m     \u001b[0;32mexcept\u001b[0m \u001b[0mException\u001b[0m \u001b[0;32mas\u001b[0m \u001b[0me\u001b[0m\u001b[0;34m:\u001b[0m  \u001b[0;31m# pylint: disable=broad-except\u001b[0m\u001b[0;34m\u001b[0m\u001b[0;34m\u001b[0m\u001b[0m\n\u001b[1;32m     66\u001b[0m       \u001b[0mfiltered_tb\u001b[0m \u001b[0;34m=\u001b[0m \u001b[0m_process_traceback_frames\u001b[0m\u001b[0;34m(\u001b[0m\u001b[0me\u001b[0m\u001b[0;34m.\u001b[0m\u001b[0m__traceback__\u001b[0m\u001b[0;34m)\u001b[0m\u001b[0;34m\u001b[0m\u001b[0;34m\u001b[0m\u001b[0m\n",
            "\u001b[0;32m/usr/local/lib/python3.8/dist-packages/keras/engine/training.py\u001b[0m in \u001b[0;36mfit\u001b[0;34m(self, x, y, batch_size, epochs, verbose, callbacks, validation_split, validation_data, shuffle, class_weight, sample_weight, initial_epoch, steps_per_epoch, validation_steps, validation_batch_size, validation_freq, max_queue_size, workers, use_multiprocessing)\u001b[0m\n\u001b[1;32m   1407\u001b[0m                 _r=1):\n\u001b[1;32m   1408\u001b[0m               \u001b[0mcallbacks\u001b[0m\u001b[0;34m.\u001b[0m\u001b[0mon_train_batch_begin\u001b[0m\u001b[0;34m(\u001b[0m\u001b[0mstep\u001b[0m\u001b[0;34m)\u001b[0m\u001b[0;34m\u001b[0m\u001b[0;34m\u001b[0m\u001b[0m\n\u001b[0;32m-> 1409\u001b[0;31m               \u001b[0mtmp_logs\u001b[0m \u001b[0;34m=\u001b[0m \u001b[0mself\u001b[0m\u001b[0;34m.\u001b[0m\u001b[0mtrain_function\u001b[0m\u001b[0;34m(\u001b[0m\u001b[0miterator\u001b[0m\u001b[0;34m)\u001b[0m\u001b[0;34m\u001b[0m\u001b[0;34m\u001b[0m\u001b[0m\n\u001b[0m\u001b[1;32m   1410\u001b[0m               \u001b[0;32mif\u001b[0m \u001b[0mdata_handler\u001b[0m\u001b[0;34m.\u001b[0m\u001b[0mshould_sync\u001b[0m\u001b[0;34m:\u001b[0m\u001b[0;34m\u001b[0m\u001b[0;34m\u001b[0m\u001b[0m\n\u001b[1;32m   1411\u001b[0m                 \u001b[0mcontext\u001b[0m\u001b[0;34m.\u001b[0m\u001b[0masync_wait\u001b[0m\u001b[0;34m(\u001b[0m\u001b[0;34m)\u001b[0m\u001b[0;34m\u001b[0m\u001b[0;34m\u001b[0m\u001b[0m\n",
            "\u001b[0;32m/usr/local/lib/python3.8/dist-packages/tensorflow/python/util/traceback_utils.py\u001b[0m in \u001b[0;36merror_handler\u001b[0;34m(*args, **kwargs)\u001b[0m\n\u001b[1;32m    148\u001b[0m     \u001b[0mfiltered_tb\u001b[0m \u001b[0;34m=\u001b[0m \u001b[0;32mNone\u001b[0m\u001b[0;34m\u001b[0m\u001b[0;34m\u001b[0m\u001b[0m\n\u001b[1;32m    149\u001b[0m     \u001b[0;32mtry\u001b[0m\u001b[0;34m:\u001b[0m\u001b[0;34m\u001b[0m\u001b[0;34m\u001b[0m\u001b[0m\n\u001b[0;32m--> 150\u001b[0;31m       \u001b[0;32mreturn\u001b[0m \u001b[0mfn\u001b[0m\u001b[0;34m(\u001b[0m\u001b[0;34m*\u001b[0m\u001b[0margs\u001b[0m\u001b[0;34m,\u001b[0m \u001b[0;34m**\u001b[0m\u001b[0mkwargs\u001b[0m\u001b[0;34m)\u001b[0m\u001b[0;34m\u001b[0m\u001b[0;34m\u001b[0m\u001b[0m\n\u001b[0m\u001b[1;32m    151\u001b[0m     \u001b[0;32mexcept\u001b[0m \u001b[0mException\u001b[0m \u001b[0;32mas\u001b[0m \u001b[0me\u001b[0m\u001b[0;34m:\u001b[0m\u001b[0;34m\u001b[0m\u001b[0;34m\u001b[0m\u001b[0m\n\u001b[1;32m    152\u001b[0m       \u001b[0mfiltered_tb\u001b[0m \u001b[0;34m=\u001b[0m \u001b[0m_process_traceback_frames\u001b[0m\u001b[0;34m(\u001b[0m\u001b[0me\u001b[0m\u001b[0;34m.\u001b[0m\u001b[0m__traceback__\u001b[0m\u001b[0;34m)\u001b[0m\u001b[0;34m\u001b[0m\u001b[0;34m\u001b[0m\u001b[0m\n",
            "\u001b[0;32m/usr/local/lib/python3.8/dist-packages/tensorflow/python/eager/def_function.py\u001b[0m in \u001b[0;36m__call__\u001b[0;34m(self, *args, **kwds)\u001b[0m\n\u001b[1;32m    913\u001b[0m \u001b[0;34m\u001b[0m\u001b[0m\n\u001b[1;32m    914\u001b[0m       \u001b[0;32mwith\u001b[0m \u001b[0mOptionalXlaContext\u001b[0m\u001b[0;34m(\u001b[0m\u001b[0mself\u001b[0m\u001b[0;34m.\u001b[0m\u001b[0m_jit_compile\u001b[0m\u001b[0;34m)\u001b[0m\u001b[0;34m:\u001b[0m\u001b[0;34m\u001b[0m\u001b[0;34m\u001b[0m\u001b[0m\n\u001b[0;32m--> 915\u001b[0;31m         \u001b[0mresult\u001b[0m \u001b[0;34m=\u001b[0m \u001b[0mself\u001b[0m\u001b[0;34m.\u001b[0m\u001b[0m_call\u001b[0m\u001b[0;34m(\u001b[0m\u001b[0;34m*\u001b[0m\u001b[0margs\u001b[0m\u001b[0;34m,\u001b[0m \u001b[0;34m**\u001b[0m\u001b[0mkwds\u001b[0m\u001b[0;34m)\u001b[0m\u001b[0;34m\u001b[0m\u001b[0;34m\u001b[0m\u001b[0m\n\u001b[0m\u001b[1;32m    916\u001b[0m \u001b[0;34m\u001b[0m\u001b[0m\n\u001b[1;32m    917\u001b[0m       \u001b[0mnew_tracing_count\u001b[0m \u001b[0;34m=\u001b[0m \u001b[0mself\u001b[0m\u001b[0;34m.\u001b[0m\u001b[0mexperimental_get_tracing_count\u001b[0m\u001b[0;34m(\u001b[0m\u001b[0;34m)\u001b[0m\u001b[0;34m\u001b[0m\u001b[0;34m\u001b[0m\u001b[0m\n",
            "\u001b[0;32m/usr/local/lib/python3.8/dist-packages/tensorflow/python/eager/def_function.py\u001b[0m in \u001b[0;36m_call\u001b[0;34m(self, *args, **kwds)\u001b[0m\n\u001b[1;32m    945\u001b[0m       \u001b[0;31m# In this case we have created variables on the first call, so we run the\u001b[0m\u001b[0;34m\u001b[0m\u001b[0;34m\u001b[0m\u001b[0;34m\u001b[0m\u001b[0m\n\u001b[1;32m    946\u001b[0m       \u001b[0;31m# defunned version which is guaranteed to never create variables.\u001b[0m\u001b[0;34m\u001b[0m\u001b[0;34m\u001b[0m\u001b[0;34m\u001b[0m\u001b[0m\n\u001b[0;32m--> 947\u001b[0;31m       \u001b[0;32mreturn\u001b[0m \u001b[0mself\u001b[0m\u001b[0;34m.\u001b[0m\u001b[0m_stateless_fn\u001b[0m\u001b[0;34m(\u001b[0m\u001b[0;34m*\u001b[0m\u001b[0margs\u001b[0m\u001b[0;34m,\u001b[0m \u001b[0;34m**\u001b[0m\u001b[0mkwds\u001b[0m\u001b[0;34m)\u001b[0m  \u001b[0;31m# pylint: disable=not-callable\u001b[0m\u001b[0;34m\u001b[0m\u001b[0;34m\u001b[0m\u001b[0m\n\u001b[0m\u001b[1;32m    948\u001b[0m     \u001b[0;32melif\u001b[0m \u001b[0mself\u001b[0m\u001b[0;34m.\u001b[0m\u001b[0m_stateful_fn\u001b[0m \u001b[0;32mis\u001b[0m \u001b[0;32mnot\u001b[0m \u001b[0;32mNone\u001b[0m\u001b[0;34m:\u001b[0m\u001b[0;34m\u001b[0m\u001b[0;34m\u001b[0m\u001b[0m\n\u001b[1;32m    949\u001b[0m       \u001b[0;31m# Release the lock early so that multiple threads can perform the call\u001b[0m\u001b[0;34m\u001b[0m\u001b[0;34m\u001b[0m\u001b[0;34m\u001b[0m\u001b[0m\n",
            "\u001b[0;32m/usr/local/lib/python3.8/dist-packages/tensorflow/python/eager/function.py\u001b[0m in \u001b[0;36m__call__\u001b[0;34m(self, *args, **kwargs)\u001b[0m\n\u001b[1;32m   2451\u001b[0m       (graph_function,\n\u001b[1;32m   2452\u001b[0m        filtered_flat_args) = self._maybe_define_function(args, kwargs)\n\u001b[0;32m-> 2453\u001b[0;31m     return graph_function._call_flat(\n\u001b[0m\u001b[1;32m   2454\u001b[0m         filtered_flat_args, captured_inputs=graph_function.captured_inputs)  # pylint: disable=protected-access\n\u001b[1;32m   2455\u001b[0m \u001b[0;34m\u001b[0m\u001b[0m\n",
            "\u001b[0;32m/usr/local/lib/python3.8/dist-packages/tensorflow/python/eager/function.py\u001b[0m in \u001b[0;36m_call_flat\u001b[0;34m(self, args, captured_inputs, cancellation_manager)\u001b[0m\n\u001b[1;32m   1858\u001b[0m         and executing_eagerly):\n\u001b[1;32m   1859\u001b[0m       \u001b[0;31m# No tape is watching; skip to running the function.\u001b[0m\u001b[0;34m\u001b[0m\u001b[0;34m\u001b[0m\u001b[0;34m\u001b[0m\u001b[0m\n\u001b[0;32m-> 1860\u001b[0;31m       return self._build_call_outputs(self._inference_function.call(\n\u001b[0m\u001b[1;32m   1861\u001b[0m           ctx, args, cancellation_manager=cancellation_manager))\n\u001b[1;32m   1862\u001b[0m     forward_backward = self._select_forward_and_backward_functions(\n",
            "\u001b[0;32m/usr/local/lib/python3.8/dist-packages/tensorflow/python/eager/function.py\u001b[0m in \u001b[0;36mcall\u001b[0;34m(self, ctx, args, cancellation_manager)\u001b[0m\n\u001b[1;32m    495\u001b[0m       \u001b[0;32mwith\u001b[0m \u001b[0m_InterpolateFunctionError\u001b[0m\u001b[0;34m(\u001b[0m\u001b[0mself\u001b[0m\u001b[0;34m)\u001b[0m\u001b[0;34m:\u001b[0m\u001b[0;34m\u001b[0m\u001b[0;34m\u001b[0m\u001b[0m\n\u001b[1;32m    496\u001b[0m         \u001b[0;32mif\u001b[0m \u001b[0mcancellation_manager\u001b[0m \u001b[0;32mis\u001b[0m \u001b[0;32mNone\u001b[0m\u001b[0;34m:\u001b[0m\u001b[0;34m\u001b[0m\u001b[0;34m\u001b[0m\u001b[0m\n\u001b[0;32m--> 497\u001b[0;31m           outputs = execute.execute(\n\u001b[0m\u001b[1;32m    498\u001b[0m               \u001b[0mstr\u001b[0m\u001b[0;34m(\u001b[0m\u001b[0mself\u001b[0m\u001b[0;34m.\u001b[0m\u001b[0msignature\u001b[0m\u001b[0;34m.\u001b[0m\u001b[0mname\u001b[0m\u001b[0;34m)\u001b[0m\u001b[0;34m,\u001b[0m\u001b[0;34m\u001b[0m\u001b[0;34m\u001b[0m\u001b[0m\n\u001b[1;32m    499\u001b[0m               \u001b[0mnum_outputs\u001b[0m\u001b[0;34m=\u001b[0m\u001b[0mself\u001b[0m\u001b[0;34m.\u001b[0m\u001b[0m_num_outputs\u001b[0m\u001b[0;34m,\u001b[0m\u001b[0;34m\u001b[0m\u001b[0;34m\u001b[0m\u001b[0m\n",
            "\u001b[0;32m/usr/local/lib/python3.8/dist-packages/tensorflow/python/eager/execute.py\u001b[0m in \u001b[0;36mquick_execute\u001b[0;34m(op_name, num_outputs, inputs, attrs, ctx, name)\u001b[0m\n\u001b[1;32m     52\u001b[0m   \u001b[0;32mtry\u001b[0m\u001b[0;34m:\u001b[0m\u001b[0;34m\u001b[0m\u001b[0;34m\u001b[0m\u001b[0m\n\u001b[1;32m     53\u001b[0m     \u001b[0mctx\u001b[0m\u001b[0;34m.\u001b[0m\u001b[0mensure_initialized\u001b[0m\u001b[0;34m(\u001b[0m\u001b[0;34m)\u001b[0m\u001b[0;34m\u001b[0m\u001b[0;34m\u001b[0m\u001b[0m\n\u001b[0;32m---> 54\u001b[0;31m     tensors = pywrap_tfe.TFE_Py_Execute(ctx._handle, device_name, op_name,\n\u001b[0m\u001b[1;32m     55\u001b[0m                                         inputs, attrs, num_outputs)\n\u001b[1;32m     56\u001b[0m   \u001b[0;32mexcept\u001b[0m \u001b[0mcore\u001b[0m\u001b[0;34m.\u001b[0m\u001b[0m_NotOkStatusException\u001b[0m \u001b[0;32mas\u001b[0m \u001b[0me\u001b[0m\u001b[0;34m:\u001b[0m\u001b[0;34m\u001b[0m\u001b[0;34m\u001b[0m\u001b[0m\n",
            "\u001b[0;31mKeyboardInterrupt\u001b[0m: "
          ]
        }
      ],
      "source": [
        "N_LABELS = 5\n",
        "EPOCHS = 40\n",
        "LR = 0.0001\n",
        "batch_size = 32\n",
        "# K-fold Cross Validation model evaluation\n",
        "fold_no = 1\n",
        "for train, test in kfold.split(X_train, y_train):\n",
        "\n",
        "  # Define the model architecture\n",
        "  initializer = tf.keras.initializers.Identity()\n",
        "  model_all_0 = tf.keras.Sequential([\n",
        "      feature_extractor_layer_resnet,\n",
        "      Dense(2048, activation='relu', name='hidden_layer_1'),\n",
        "      Dense(526, activation='relu', name='hidden_layer_2'),\n",
        "      #Dense(10, activation='relu', name='hidden_layers_3'),\n",
        "      Dense(N_LABELS, activation='sigmoid', name='output')\n",
        "  ])\n",
        "  # Compile the model\n",
        "  model_all_0.compile(\n",
        "    optimizer=tf.keras.optimizers.Adam(learning_rate=LR),\n",
        "    loss='binary_crossentropy',\n",
        "    metrics=['accuracy'])\n",
        "\n",
        "\n",
        "\n",
        "  # Generate a print\n",
        "  print('------------------------------------------------------------------------')\n",
        "  print(f'Training for fold {fold_no} ...')\n",
        "\n",
        "  # Fit data to model\n",
        "  history = model_all_0.fit(X_train[train], y_train[train],\n",
        "              batch_size=batch_size,\n",
        "              epochs=EPOCHS,\n",
        "              validation_data=(X_test, y_test))\n",
        "\n",
        "  # Generate generalization metrics\n",
        "  scores = model_all_0.evaluate(X_train[test], y_train[test], verbose=0)\n",
        "  print(f'Score for fold {fold_no}: {model_all_0.metrics_names[0]} of {scores[0]}; {model_all_0.metrics_names[1]} of {scores[1]*100}%')\n",
        "  acc_per_fold.append(scores[1] * 100)\n",
        "  loss_per_fold.append(scores[0])\n",
        "\n",
        "  # Increase fold number\n",
        "  fold_no = fold_no + 1"
      ],
      "id": "ABDM2ZwFY6df"
    },
    {
      "cell_type": "code",
      "execution_count": null,
      "metadata": {
        "colab": {
          "base_uri": "https://localhost:8080/"
        },
        "id": "0mUF-XqRZK5M",
        "outputId": "687010ca-cb70-43c2-98fb-8854df7a4e84"
      },
      "outputs": [
        {
          "name": "stdout",
          "output_type": "stream",
          "text": [
            "Model: \"sequential_11\"\n",
            "_________________________________________________________________\n",
            " Layer (type)                Output Shape              Param #   \n",
            "=================================================================\n",
            " keras_layer_2 (KerasLayer)  (None, 2048)              42626560  \n",
            "                                                                 \n",
            " hidden_layer_1 (Dense)      (None, 542)               1110558   \n",
            "                                                                 \n",
            " hidden_layers_3 (Dense)     (None, 10)                5430      \n",
            "                                                                 \n",
            " output (Dense)              (None, 5)                 55        \n",
            "                                                                 \n",
            "=================================================================\n",
            "Total params: 43,742,603\n",
            "Trainable params: 43,644,939\n",
            "Non-trainable params: 97,664\n",
            "_________________________________________________________________\n"
          ]
        }
      ],
      "source": [
        "model_all.summary()"
      ],
      "id": "0mUF-XqRZK5M"
    }
  ],
  "metadata": {
    "accelerator": "GPU",
    "colab": {
      "provenance": [],
      "include_colab_link": true
    },
    "gpuClass": "standard",
    "kernelspec": {
      "display_name": "Python 3 (ipykernel)",
      "language": "python",
      "name": "python3"
    },
    "language_info": {
      "codemirror_mode": {
        "name": "ipython",
        "version": 3
      },
      "file_extension": ".py",
      "mimetype": "text/x-python",
      "name": "python",
      "nbconvert_exporter": "python",
      "pygments_lexer": "ipython3",
      "version": "3.10.7"
    }
  },
  "nbformat": 4,
  "nbformat_minor": 5
}